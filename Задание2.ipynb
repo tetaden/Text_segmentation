{
 "cells": [
  {
   "cell_type": "code",
   "execution_count": 1,
   "metadata": {
    "id": "k7P9PMxeed-J"
   },
   "outputs": [],
   "source": [
    "import pandas as pd\n",
    "import json\n",
    "import numpy as np\n",
    "from sklearn.model_selection import train_test_split"
   ]
  },
  {
   "cell_type": "code",
   "execution_count": 2,
   "metadata": {
    "id": "8yqaZWalXE5Z"
   },
   "outputs": [],
   "source": [
    "data = pd.read_json('data.jsonl', lines = True)"
   ]
  },
  {
   "cell_type": "code",
   "execution_count": 3,
   "metadata": {
    "id": "FWm7ULuqC87M"
   },
   "outputs": [
    {
     "data": {
      "text/plain": [
       "1300"
      ]
     },
     "execution_count": 3,
     "metadata": {},
     "output_type": "execute_result"
    }
   ],
   "source": [
    "len(data)"
   ]
  },
  {
   "cell_type": "code",
   "execution_count": 4,
   "metadata": {
    "id": "ichMw3DxDzmk"
   },
   "outputs": [
    {
     "data": {
      "text/plain": [
       "['В случае если слабость и жар не прекращаются, доктора советуют привязать ко лбу кусок ржаного хлеба с уксусом или кислым квасом.',\n",
       " 1]"
      ]
     },
     "execution_count": 4,
     "metadata": {},
     "output_type": "execute_result"
    }
   ],
   "source": [
    "data.loc[0, 130]"
   ]
  },
  {
   "cell_type": "code",
   "execution_count": 5,
   "metadata": {
    "id": "hF9nQuVFXJ3E"
   },
   "outputs": [
    {
     "data": {
      "text/html": [
       "<div>\n",
       "<style scoped>\n",
       "    .dataframe tbody tr th:only-of-type {\n",
       "        vertical-align: middle;\n",
       "    }\n",
       "\n",
       "    .dataframe tbody tr th {\n",
       "        vertical-align: top;\n",
       "    }\n",
       "\n",
       "    .dataframe thead th {\n",
       "        text-align: right;\n",
       "    }\n",
       "</style>\n",
       "<table border=\"1\" class=\"dataframe\">\n",
       "  <thead>\n",
       "    <tr style=\"text-align: right;\">\n",
       "      <th></th>\n",
       "      <th>0</th>\n",
       "      <th>1</th>\n",
       "      <th>2</th>\n",
       "      <th>3</th>\n",
       "      <th>4</th>\n",
       "      <th>5</th>\n",
       "      <th>6</th>\n",
       "      <th>7</th>\n",
       "      <th>8</th>\n",
       "      <th>9</th>\n",
       "      <th>...</th>\n",
       "      <th>691</th>\n",
       "      <th>692</th>\n",
       "      <th>693</th>\n",
       "      <th>694</th>\n",
       "      <th>695</th>\n",
       "      <th>696</th>\n",
       "      <th>697</th>\n",
       "      <th>698</th>\n",
       "      <th>699</th>\n",
       "      <th>700</th>\n",
       "    </tr>\n",
       "  </thead>\n",
       "  <tbody>\n",
       "    <tr>\n",
       "      <th>0</th>\n",
       "      <td>[С 1768 года Россия ведёт войну против Османск...</td>\n",
       "      <td>[В середине января 1770 года корпус генерала Х...</td>\n",
       "      <td>[Там русскую армию встретил враг, по жестокост...</td>\n",
       "      <td>[За зиму она унесла жизни нескольких тысяч сол...</td>\n",
       "      <td>[Вскоре эпидемия вспыхнула в близлежащей Польш...</td>\n",
       "      <td>[Несмотря на то, что ещё весной бушующую в Мол...</td>\n",
       "      <td>[Распространение чумы продолжилось, и осенью о...</td>\n",
       "      <td>[В течение последующего года количество умерши...</td>\n",
       "      <td>[О том, как изменилась Москва с начала эпидеми...</td>\n",
       "      <td>[Найти его уже невозможно – летом-осенью 1770 ...</td>\n",
       "      <td>...</td>\n",
       "      <td>None</td>\n",
       "      <td>None</td>\n",
       "      <td>None</td>\n",
       "      <td>None</td>\n",
       "      <td>None</td>\n",
       "      <td>None</td>\n",
       "      <td>None</td>\n",
       "      <td>None</td>\n",
       "      <td>None</td>\n",
       "      <td>None</td>\n",
       "    </tr>\n",
       "    <tr>\n",
       "      <th>1</th>\n",
       "      <td>[Роль одного из главных злодеев в южнокорейско...</td>\n",
       "      <td>[Его персонаж Чан Док Су попал в игру, украв д...</td>\n",
       "      <td>[Он жесток, не боится убивать и предавать — эт...</td>\n",
       "      <td>[Хо Сон-тхэ — 43 года, он родился в октябре 19...</td>\n",
       "      <td>[По данным Today, будущий актёр изучал русский...</td>\n",
       "      <td>[Свободно владея языком, там он отвечал за про...</td>\n",
       "      <td>[На ток-шоу «Счастливы вместе» Сон-тхэ рассказ...</td>\n",
       "      <td>[Затем Сон-тхэ перешёл в крупную судостроитель...</td>\n",
       "      <td>[На этой работе его доход составлял 70 миллион...</td>\n",
       "      <td>[В 2011 году Сон-тхэ занял пятое место на шоу ...</td>\n",
       "      <td>...</td>\n",
       "      <td>None</td>\n",
       "      <td>None</td>\n",
       "      <td>None</td>\n",
       "      <td>None</td>\n",
       "      <td>None</td>\n",
       "      <td>None</td>\n",
       "      <td>None</td>\n",
       "      <td>None</td>\n",
       "      <td>None</td>\n",
       "      <td>None</td>\n",
       "    </tr>\n",
       "    <tr>\n",
       "      <th>2</th>\n",
       "      <td>[В СССР преуменьшали значение программы ленд-л...</td>\n",
       "      <td>[В Российском военно-историческом общества и с...</td>\n",
       "      <td>[На деле союзники оказывали Москве не только г...</td>\n",
       "      <td>[Некоторые российские историки убеждены, что б...</td>\n",
       "      <td>[Американская и британская техника помогала об...</td>\n",
       "      <td>[А Иосиф Сталин в разговоре с британским премь...</td>\n",
       "      <td>[Больше половины всех грузов по ленд-лизу дост...</td>\n",
       "      <td>[Ещё об одном одном важном маршруте — авиатрас...</td>\n",
       "      <td>[11 марта 1941 года президент США Франклин Руз...</td>\n",
       "      <td>[В Вашингтоне считали, что американская продук...</td>\n",
       "      <td>...</td>\n",
       "      <td>None</td>\n",
       "      <td>None</td>\n",
       "      <td>None</td>\n",
       "      <td>None</td>\n",
       "      <td>None</td>\n",
       "      <td>None</td>\n",
       "      <td>None</td>\n",
       "      <td>None</td>\n",
       "      <td>None</td>\n",
       "      <td>None</td>\n",
       "    </tr>\n",
       "    <tr>\n",
       "      <th>3</th>\n",
       "      <td>[В 1933 году в России началась третья в истори...</td>\n",
       "      <td>[Мужчин, вступающих в однополые контакты, прир...</td>\n",
       "      <td>[Их подвергли репрессиям, публично обвиняя в р...</td>\n",
       "      <td>[Мужеложство было уголовно наказуемо на протяж...</td>\n",
       "      <td>[За это время, по разным оценкам, осудили от 2...</td>\n",
       "      <td>[Среди них и известные люди – деятели культуры...</td>\n",
       "      <td>[Тем поразительнее на фоне антигомосексуальной...</td>\n",
       "      <td>[Приглашение поступило лично от высокопоставле...</td>\n",
       "      <td>[Трём представителям организации Homosexuelle ...</td>\n",
       "      <td>[Их поселили в престижный отель «Метрополь», в...</td>\n",
       "      <td>...</td>\n",
       "      <td>None</td>\n",
       "      <td>None</td>\n",
       "      <td>None</td>\n",
       "      <td>None</td>\n",
       "      <td>None</td>\n",
       "      <td>None</td>\n",
       "      <td>None</td>\n",
       "      <td>None</td>\n",
       "      <td>None</td>\n",
       "      <td>None</td>\n",
       "    </tr>\n",
       "    <tr>\n",
       "      <th>4</th>\n",
       "      <td>[В январе 2021 года известный американский вед...</td>\n",
       "      <td>[За свою 63-летнюю карьеру Кинг взял тысячи ин...</td>\n",
       "      <td>[В разное время гостями его шоу были Барак Оба...</td>\n",
       "      <td>[Его образ — подтяжки, очки и галстук — копиро...</td>\n",
       "      <td>[Ведущий начинал карьеру с разнорабочего на ра...</td>\n",
       "      <td>[Кинг прославился на американском телевидении ...</td>\n",
       "      <td>[Ларри Кинг определился с будущей профессией с...</td>\n",
       "      <td>[В подростковом возрасте ведущий часто ходил в...</td>\n",
       "      <td>[В 1942 году семья Ларри оказалась в тяжёлом ф...</td>\n",
       "      <td>[Матери мальчика пришлось содержать его и млад...</td>\n",
       "      <td>...</td>\n",
       "      <td>None</td>\n",
       "      <td>None</td>\n",
       "      <td>None</td>\n",
       "      <td>None</td>\n",
       "      <td>None</td>\n",
       "      <td>None</td>\n",
       "      <td>None</td>\n",
       "      <td>None</td>\n",
       "      <td>None</td>\n",
       "      <td>None</td>\n",
       "    </tr>\n",
       "  </tbody>\n",
       "</table>\n",
       "<p>5 rows × 701 columns</p>\n",
       "</div>"
      ],
      "text/plain": [
       "                                                 0    \\\n",
       "0  [С 1768 года Россия ведёт войну против Османск...   \n",
       "1  [Роль одного из главных злодеев в южнокорейско...   \n",
       "2  [В СССР преуменьшали значение программы ленд-л...   \n",
       "3  [В 1933 году в России началась третья в истори...   \n",
       "4  [В январе 2021 года известный американский вед...   \n",
       "\n",
       "                                                 1    \\\n",
       "0  [В середине января 1770 года корпус генерала Х...   \n",
       "1  [Его персонаж Чан Док Су попал в игру, украв д...   \n",
       "2  [В Российском военно-историческом общества и с...   \n",
       "3  [Мужчин, вступающих в однополые контакты, прир...   \n",
       "4  [За свою 63-летнюю карьеру Кинг взял тысячи ин...   \n",
       "\n",
       "                                                 2    \\\n",
       "0  [Там русскую армию встретил враг, по жестокост...   \n",
       "1  [Он жесток, не боится убивать и предавать — эт...   \n",
       "2  [На деле союзники оказывали Москве не только г...   \n",
       "3  [Их подвергли репрессиям, публично обвиняя в р...   \n",
       "4  [В разное время гостями его шоу были Барак Оба...   \n",
       "\n",
       "                                                 3    \\\n",
       "0  [За зиму она унесла жизни нескольких тысяч сол...   \n",
       "1  [Хо Сон-тхэ — 43 года, он родился в октябре 19...   \n",
       "2  [Некоторые российские историки убеждены, что б...   \n",
       "3  [Мужеложство было уголовно наказуемо на протяж...   \n",
       "4  [Его образ — подтяжки, очки и галстук — копиро...   \n",
       "\n",
       "                                                 4    \\\n",
       "0  [Вскоре эпидемия вспыхнула в близлежащей Польш...   \n",
       "1  [По данным Today, будущий актёр изучал русский...   \n",
       "2  [Американская и британская техника помогала об...   \n",
       "3  [За это время, по разным оценкам, осудили от 2...   \n",
       "4  [Ведущий начинал карьеру с разнорабочего на ра...   \n",
       "\n",
       "                                                 5    \\\n",
       "0  [Несмотря на то, что ещё весной бушующую в Мол...   \n",
       "1  [Свободно владея языком, там он отвечал за про...   \n",
       "2  [А Иосиф Сталин в разговоре с британским премь...   \n",
       "3  [Среди них и известные люди – деятели культуры...   \n",
       "4  [Кинг прославился на американском телевидении ...   \n",
       "\n",
       "                                                 6    \\\n",
       "0  [Распространение чумы продолжилось, и осенью о...   \n",
       "1  [На ток-шоу «Счастливы вместе» Сон-тхэ рассказ...   \n",
       "2  [Больше половины всех грузов по ленд-лизу дост...   \n",
       "3  [Тем поразительнее на фоне антигомосексуальной...   \n",
       "4  [Ларри Кинг определился с будущей профессией с...   \n",
       "\n",
       "                                                 7    \\\n",
       "0  [В течение последующего года количество умерши...   \n",
       "1  [Затем Сон-тхэ перешёл в крупную судостроитель...   \n",
       "2  [Ещё об одном одном важном маршруте — авиатрас...   \n",
       "3  [Приглашение поступило лично от высокопоставле...   \n",
       "4  [В подростковом возрасте ведущий часто ходил в...   \n",
       "\n",
       "                                                 8    \\\n",
       "0  [О том, как изменилась Москва с начала эпидеми...   \n",
       "1  [На этой работе его доход составлял 70 миллион...   \n",
       "2  [11 марта 1941 года президент США Франклин Руз...   \n",
       "3  [Трём представителям организации Homosexuelle ...   \n",
       "4  [В 1942 году семья Ларри оказалась в тяжёлом ф...   \n",
       "\n",
       "                                                 9    ...   691   692   693  \\\n",
       "0  [Найти его уже невозможно – летом-осенью 1770 ...  ...  None  None  None   \n",
       "1  [В 2011 году Сон-тхэ занял пятое место на шоу ...  ...  None  None  None   \n",
       "2  [В Вашингтоне считали, что американская продук...  ...  None  None  None   \n",
       "3  [Их поселили в престижный отель «Метрополь», в...  ...  None  None  None   \n",
       "4  [Матери мальчика пришлось содержать его и млад...  ...  None  None  None   \n",
       "\n",
       "    694   695   696   697   698   699   700  \n",
       "0  None  None  None  None  None  None  None  \n",
       "1  None  None  None  None  None  None  None  \n",
       "2  None  None  None  None  None  None  None  \n",
       "3  None  None  None  None  None  None  None  \n",
       "4  None  None  None  None  None  None  None  \n",
       "\n",
       "[5 rows x 701 columns]"
      ]
     },
     "execution_count": 5,
     "metadata": {},
     "output_type": "execute_result"
    }
   ],
   "source": [
    "data.head()"
   ]
  },
  {
   "cell_type": "markdown",
   "metadata": {},
   "source": [
    "Сделаем так, чтобы каждый текст находился в одной ячейке:\n"
   ]
  },
  {
   "cell_type": "code",
   "execution_count": 6,
   "metadata": {},
   "outputs": [
    {
     "data": {
      "text/plain": [
       "RangeIndex(start=0, stop=701, step=1)"
      ]
     },
     "execution_count": 6,
     "metadata": {},
     "output_type": "execute_result"
    }
   ],
   "source": [
    "data.columns"
   ]
  },
  {
   "cell_type": "code",
   "execution_count": 7,
   "metadata": {},
   "outputs": [
    {
     "data": {
      "text/plain": [
       "['Его персонаж Чан Док Су попал в игру, украв деньги у своих боссов и задолжав филиппинским бандитам.',\n",
       " 0]"
      ]
     },
     "execution_count": 7,
     "metadata": {},
     "output_type": "execute_result"
    }
   ],
   "source": [
    "data.loc[1, 1]"
   ]
  },
  {
   "cell_type": "code",
   "execution_count": 8,
   "metadata": {
    "scrolled": true
   },
   "outputs": [],
   "source": [
    "new_data = data.applymap(lambda x: x[0] if x is not None  else '')\n"
   ]
  },
  {
   "cell_type": "code",
   "execution_count": 9,
   "metadata": {},
   "outputs": [
    {
     "data": {
      "text/plain": [
       "'С 1768 года Россия ведёт войну против Османской империи.'"
      ]
     },
     "execution_count": 9,
     "metadata": {},
     "output_type": "execute_result"
    }
   ],
   "source": [
    "new_data.loc[0, 0]\n"
   ]
  },
  {
   "cell_type": "code",
   "execution_count": 10,
   "metadata": {},
   "outputs": [],
   "source": [
    "new_data = new_data.apply(' '.join)"
   ]
  },
  {
   "cell_type": "code",
   "execution_count": 11,
   "metadata": {},
   "outputs": [
    {
     "data": {
      "text/plain": [
       "0    С 1768 года Россия ведёт войну против Османско...\n",
       "1    В середине января 1770 года корпус генерала Хр...\n",
       "2    Там русскую армию встретил враг, по жестокости...\n",
       "3    За зиму она унесла жизни нескольких тысяч солд...\n",
       "4    Вскоре эпидемия вспыхнула в близлежащей Польше...\n",
       "dtype: object"
      ]
     },
     "execution_count": 11,
     "metadata": {},
     "output_type": "execute_result"
    }
   ],
   "source": [
    "new_data.head() # каждый элемент датафрейма - текст, а не предложение "
   ]
  },
  {
   "cell_type": "markdown",
   "metadata": {
    "id": "Y26T39RaXFhc"
   },
   "source": [
    "# Обработка текста\n",
    "к сожалению, данные с файла неудобно расположены для дальнейшего использования, поэтому датасет необходимо изменить"
   ]
  },
  {
   "cell_type": "code",
   "execution_count": 12,
   "metadata": {
    "id": "884cLlZfamiu"
   },
   "outputs": [
    {
     "data": {
      "text/plain": [
       "['С 1768 года Россия ведёт войну против Османской империи.', 1]"
      ]
     },
     "execution_count": 12,
     "metadata": {},
     "output_type": "execute_result"
    }
   ],
   "source": [
    "data.loc[0,0]"
   ]
  },
  {
   "cell_type": "code",
   "execution_count": 13,
   "metadata": {
    "id": "ryboBktG7Akl"
   },
   "outputs": [
    {
     "name": "stderr",
     "output_type": "stream",
     "text": [
      "<ipython-input-13-98a664e50a4b>:1: VisibleDeprecationWarning: Creating an ndarray from ragged nested sequences (which is a list-or-tuple of lists-or-tuples-or ndarrays with different lengths or shapes) is deprecated. If you meant to do this, you must specify 'dtype=object' when creating the ndarray.\n",
      "  Data = np.array(data.values.tolist())\n"
     ]
    }
   ],
   "source": [
    "Data = np.array(data.values.tolist())"
   ]
  },
  {
   "cell_type": "code",
   "execution_count": 14,
   "metadata": {
    "id": "xyXLsNLMVt7H"
   },
   "outputs": [
    {
     "data": {
      "text/plain": [
       "(1300, 701)"
      ]
     },
     "execution_count": 14,
     "metadata": {},
     "output_type": "execute_result"
    }
   ],
   "source": [
    "Data.shape"
   ]
  },
  {
   "cell_type": "code",
   "execution_count": 15,
   "metadata": {
    "id": "9Ih0QQwLVyMO"
   },
   "outputs": [
    {
     "data": {
      "text/plain": [
       "(911300,)"
      ]
     },
     "execution_count": 15,
     "metadata": {},
     "output_type": "execute_result"
    }
   ],
   "source": [
    "Data = Data.reshape(-1)\n",
    "Data.shape"
   ]
  },
  {
   "cell_type": "code",
   "execution_count": 16,
   "metadata": {
    "id": "FNFjTkFuWxh1"
   },
   "outputs": [
    {
     "data": {
      "text/plain": [
       "['С 1768 года Россия ведёт войну против Османской империи.', 1]"
      ]
     },
     "execution_count": 16,
     "metadata": {},
     "output_type": "execute_result"
    }
   ],
   "source": [
    "Data[0]"
   ]
  },
  {
   "cell_type": "code",
   "execution_count": 17,
   "metadata": {
    "id": "GZoj-gLkWiH6"
   },
   "outputs": [],
   "source": [
    "df = pd.DataFrame({'text': Data, 'target' : range(len(Data))})\n",
    "df = df.dropna()"
   ]
  },
  {
   "cell_type": "code",
   "execution_count": 18,
   "metadata": {
    "id": "Bf6MvhUqFVwL"
   },
   "outputs": [
    {
     "data": {
      "text/plain": [
       "1300"
      ]
     },
     "execution_count": 18,
     "metadata": {},
     "output_type": "execute_result"
    }
   ],
   "source": [
    "len(data) "
   ]
  },
  {
   "cell_type": "code",
   "execution_count": 19,
   "metadata": {
    "id": "PdnsYdpkXBk_"
   },
   "outputs": [
    {
     "data": {
      "text/html": [
       "<div>\n",
       "<style scoped>\n",
       "    .dataframe tbody tr th:only-of-type {\n",
       "        vertical-align: middle;\n",
       "    }\n",
       "\n",
       "    .dataframe tbody tr th {\n",
       "        vertical-align: top;\n",
       "    }\n",
       "\n",
       "    .dataframe thead th {\n",
       "        text-align: right;\n",
       "    }\n",
       "</style>\n",
       "<table border=\"1\" class=\"dataframe\">\n",
       "  <thead>\n",
       "    <tr style=\"text-align: right;\">\n",
       "      <th></th>\n",
       "      <th>text</th>\n",
       "      <th>target</th>\n",
       "    </tr>\n",
       "  </thead>\n",
       "  <tbody>\n",
       "    <tr>\n",
       "      <th>0</th>\n",
       "      <td>[С 1768 года Россия ведёт войну против Османск...</td>\n",
       "      <td>0</td>\n",
       "    </tr>\n",
       "    <tr>\n",
       "      <th>1</th>\n",
       "      <td>[В середине января 1770 года корпус генерала Х...</td>\n",
       "      <td>1</td>\n",
       "    </tr>\n",
       "    <tr>\n",
       "      <th>2</th>\n",
       "      <td>[Там русскую армию встретил враг, по жестокост...</td>\n",
       "      <td>2</td>\n",
       "    </tr>\n",
       "    <tr>\n",
       "      <th>3</th>\n",
       "      <td>[За зиму она унесла жизни нескольких тысяч сол...</td>\n",
       "      <td>3</td>\n",
       "    </tr>\n",
       "    <tr>\n",
       "      <th>4</th>\n",
       "      <td>[Вскоре эпидемия вспыхнула в близлежащей Польш...</td>\n",
       "      <td>4</td>\n",
       "    </tr>\n",
       "  </tbody>\n",
       "</table>\n",
       "</div>"
      ],
      "text/plain": [
       "                                                text  target\n",
       "0  [С 1768 года Россия ведёт войну против Османск...       0\n",
       "1  [В середине января 1770 года корпус генерала Х...       1\n",
       "2  [Там русскую армию встретил враг, по жестокост...       2\n",
       "3  [За зиму она унесла жизни нескольких тысяч сол...       3\n",
       "4  [Вскоре эпидемия вспыхнула в близлежащей Польш...       4"
      ]
     },
     "execution_count": 19,
     "metadata": {},
     "output_type": "execute_result"
    }
   ],
   "source": [
    "df.head()"
   ]
  },
  {
   "cell_type": "code",
   "execution_count": 20,
   "metadata": {
    "id": "lgjBppXEXCUL"
   },
   "outputs": [],
   "source": [
    "def separat_class(s):\n",
    "  return s['text'][1]\n",
    "def separat_text(s):\n",
    "  return s['text'][0]"
   ]
  },
  {
   "cell_type": "code",
   "execution_count": 21,
   "metadata": {
    "id": "rJJwtbi0Zy7u"
   },
   "outputs": [],
   "source": [
    "df['target'] = df.apply(separat_class, axis = 1)\n",
    "df['text'] = df.apply(separat_text, axis = 1)"
   ]
  },
  {
   "cell_type": "code",
   "execution_count": 22,
   "metadata": {
    "id": "3nXcySttZ2vZ"
   },
   "outputs": [
    {
     "data": {
      "text/html": [
       "<div>\n",
       "<style scoped>\n",
       "    .dataframe tbody tr th:only-of-type {\n",
       "        vertical-align: middle;\n",
       "    }\n",
       "\n",
       "    .dataframe tbody tr th {\n",
       "        vertical-align: top;\n",
       "    }\n",
       "\n",
       "    .dataframe thead th {\n",
       "        text-align: right;\n",
       "    }\n",
       "</style>\n",
       "<table border=\"1\" class=\"dataframe\">\n",
       "  <thead>\n",
       "    <tr style=\"text-align: right;\">\n",
       "      <th></th>\n",
       "      <th>text</th>\n",
       "      <th>target</th>\n",
       "    </tr>\n",
       "  </thead>\n",
       "  <tbody>\n",
       "    <tr>\n",
       "      <th>0</th>\n",
       "      <td>С 1768 года Россия ведёт войну против Османско...</td>\n",
       "      <td>1</td>\n",
       "    </tr>\n",
       "    <tr>\n",
       "      <th>1</th>\n",
       "      <td>В середине января 1770 года корпус генерала Хр...</td>\n",
       "      <td>0</td>\n",
       "    </tr>\n",
       "    <tr>\n",
       "      <th>2</th>\n",
       "      <td>Там русскую армию встретил враг, по жестокости...</td>\n",
       "      <td>0</td>\n",
       "    </tr>\n",
       "    <tr>\n",
       "      <th>3</th>\n",
       "      <td>За зиму она унесла жизни нескольких тысяч солдат.</td>\n",
       "      <td>0</td>\n",
       "    </tr>\n",
       "    <tr>\n",
       "      <th>4</th>\n",
       "      <td>Вскоре эпидемия вспыхнула в близлежащей Польше...</td>\n",
       "      <td>1</td>\n",
       "    </tr>\n",
       "  </tbody>\n",
       "</table>\n",
       "</div>"
      ],
      "text/plain": [
       "                                                text  target\n",
       "0  С 1768 года Россия ведёт войну против Османско...       1\n",
       "1  В середине января 1770 года корпус генерала Хр...       0\n",
       "2  Там русскую армию встретил враг, по жестокости...       0\n",
       "3  За зиму она унесла жизни нескольких тысяч солдат.       0\n",
       "4  Вскоре эпидемия вспыхнула в близлежащей Польше...       1"
      ]
     },
     "execution_count": 22,
     "metadata": {},
     "output_type": "execute_result"
    }
   ],
   "source": [
    "df.head()"
   ]
  },
  {
   "cell_type": "markdown",
   "metadata": {
    "id": "pGz87FhWbRo2"
   },
   "source": [
    "# Анализ данных, создание моделей"
   ]
  },
  {
   "cell_type": "markdown",
   "metadata": {
    "id": "3NRUP52EWKgA"
   },
   "source": [
    "# Тематическое разбиение текста "
   ]
  },
  {
   "cell_type": "code",
   "execution_count": 23,
   "metadata": {
    "id": "LJa7uRKNWNUn"
   },
   "outputs": [
    {
     "name": "stderr",
     "output_type": "stream",
     "text": [
      "[nltk_data] Downloading package stopwords to\n",
      "[nltk_data]     C:\\Users\\Dan\\AppData\\Roaming\\nltk_data...\n",
      "[nltk_data]   Package stopwords is already up-to-date!\n"
     ]
    }
   ],
   "source": [
    "import nltk\n",
    "nltk.download('stopwords')\n",
    "from nltk.corpus import stopwords\n",
    "stop_words = stopwords.words('russian')"
   ]
  },
  {
   "cell_type": "markdown",
   "metadata": {
    "id": "ANMox90bu4vd"
   },
   "source": [
    "Будем использовать модель LDA (Латентное размещение Дирихле) для сегментации текста "
   ]
  },
  {
   "cell_type": "code",
   "execution_count": 24,
   "metadata": {
    "id": "WsRJuwQSdE1e"
   },
   "outputs": [
    {
     "name": "stderr",
     "output_type": "stream",
     "text": [
      "[nltk_data] Downloading package punkt to\n",
      "[nltk_data]     C:\\Users\\Dan\\AppData\\Roaming\\nltk_data...\n",
      "[nltk_data]   Package punkt is already up-to-date!\n"
     ]
    },
    {
     "data": {
      "text/plain": [
       "True"
      ]
     },
     "execution_count": 24,
     "metadata": {},
     "output_type": "execute_result"
    }
   ],
   "source": [
    "import nltk\n",
    "nltk.download('punkt')"
   ]
  },
  {
   "cell_type": "code",
   "execution_count": 25,
   "metadata": {
    "id": "XdR-WXsctEIb"
   },
   "outputs": [],
   "source": [
    "x_train, x_test, y_train, y_test = train_test_split(df.text, df.target, test_size=0.3, random_state=42) \n",
    "# разделим данные на тест и трейн"
   ]
  },
  {
   "cell_type": "code",
   "execution_count": 26,
   "metadata": {
    "id": "tiB6bS0Lc959"
   },
   "outputs": [],
   "source": [
    "from sklearn.feature_extraction.text import CountVectorizer\n",
    "from nltk.tokenize import word_tokenize\n",
    "from sklearn.preprocessing import MaxAbsScaler"
   ]
  },
  {
   "cell_type": "code",
   "execution_count": 27,
   "metadata": {},
   "outputs": [],
   "source": [
    "stop_words.extend('!')\n",
    "stop_words.extend(',')\n",
    "stop_words.extend('.')"
   ]
  },
  {
   "cell_type": "markdown",
   "metadata": {},
   "source": [
    "Создадим vocabulary для дальнейшего создания матрицы частот "
   ]
  },
  {
   "cell_type": "code",
   "execution_count": 28,
   "metadata": {},
   "outputs": [],
   "source": [
    "from sklearn.feature_extraction.text import TfidfVectorizer"
   ]
  },
  {
   "cell_type": "code",
   "execution_count": 29,
   "metadata": {},
   "outputs": [
    {
     "data": {
      "text/plain": [
       "TfidfVectorizer(smooth_idf=False,\n",
       "                stop_words=['и', 'в', 'во', 'не', 'что', 'он', 'на', 'я', 'с',\n",
       "                            'со', 'как', 'а', 'то', 'все', 'она', 'так', 'его',\n",
       "                            'но', 'да', 'ты', 'к', 'у', 'же', 'вы', 'за', 'бы',\n",
       "                            'по', 'только', 'ее', 'мне', ...])"
      ]
     },
     "execution_count": 29,
     "metadata": {},
     "output_type": "execute_result"
    }
   ],
   "source": [
    "tf_idf = TfidfVectorizer(stop_words=stop_words,\n",
    "                             smooth_idf=False\n",
    "                         )\n",
    "tf_idf.fit(x_train)"
   ]
  },
  {
   "cell_type": "code",
   "execution_count": 30,
   "metadata": {},
   "outputs": [
    {
     "data": {
      "text/plain": [
       "array([ 7.94038176,  8.30249642, 12.30982961, ..., 12.30982961,\n",
       "       12.30982961, 12.30982961])"
      ]
     },
     "execution_count": 30,
     "metadata": {},
     "output_type": "execute_result"
    }
   ],
   "source": [
    "idfs = tf_idf.idf_\n",
    "idfs"
   ]
  },
  {
   "cell_type": "code",
   "execution_count": 31,
   "metadata": {},
   "outputs": [],
   "source": [
    " \n",
    "lower_thresh = 3.\n",
    "upper_thresh = 7.\n",
    "not_often = idfs > lower_thresh\n",
    "not_rare = idfs < upper_thresh\n",
    "mask = not_often * not_rare\n",
    "# Уберем те слова, что встречаются слишком часто(так как в таком случае они скорее всего не несут никакого смысла)\n",
    "# и те слова, что встречаются слишком редко(так как они могут ничего не значить для тематики текста )\n",
    "good_words = np.array(tf_idf.get_feature_names())[mask] "
   ]
  },
  {
   "cell_type": "code",
   "execution_count": 34,
   "metadata": {},
   "outputs": [],
   "source": [
    "import re"
   ]
  },
  {
   "cell_type": "code",
   "execution_count": 35,
   "metadata": {},
   "outputs": [
    {
     "name": "stdout",
     "output_type": "stream",
     "text": [
      "Оригинальное количество различных слов : 129955\n",
      "После фильтрации: 1438\n"
     ]
    }
   ],
   "source": [
    "cleaned = []\n",
    "for word in good_words:\n",
    "    word = re.sub(r'[^\\w\\s]+|[\\d]+', r'',word)\n",
    "    \n",
    "    if len(word) == 0:\n",
    "        continue\n",
    "    cleaned.append(word)\n",
    "print(\"Оригинальное количество различных слов : %d\\nПосле фильтрации: %d\"%(idfs.shape[0], len(cleaned)))"
   ]
  },
  {
   "cell_type": "code",
   "execution_count": 36,
   "metadata": {},
   "outputs": [],
   "source": [
    "from nltk.stem.snowball import SnowballStemmer\n",
    "stemmer = SnowballStemmer('russian')\n",
    "cleaned = [stemmer.stem(x) for x in cleaned]\n"
   ]
  },
  {
   "cell_type": "code",
   "execution_count": 37,
   "metadata": {},
   "outputs": [],
   "source": [
    "cleaned = set(cleaned)"
   ]
  },
  {
   "cell_type": "code",
   "execution_count": 38,
   "metadata": {},
   "outputs": [
    {
     "data": {
      "text/plain": [
       "{'lego',\n",
       " 'new',\n",
       " 'of',\n",
       " 'the',\n",
       " 'times',\n",
       " 'tj',\n",
       " 'youtube',\n",
       " 'абсолютн',\n",
       " 'август',\n",
       " 'автор',\n",
       " 'адрес',\n",
       " 'аз',\n",
       " 'активн',\n",
       " 'акц',\n",
       " 'александр',\n",
       " 'америк',\n",
       " 'американск',\n",
       " 'американц',\n",
       " 'апрел',\n",
       " 'арестова',\n",
       " 'арм',\n",
       " 'безопасн',\n",
       " 'би',\n",
       " 'бизнес',\n",
       " 'благодар',\n",
       " 'ближ',\n",
       " 'бол',\n",
       " 'болезн',\n",
       " 'больниц',\n",
       " 'больш',\n",
       " 'большинств',\n",
       " 'борьб',\n",
       " 'брат',\n",
       " 'буд',\n",
       " 'будут',\n",
       " 'будущ',\n",
       " 'буквальн',\n",
       " 'быва',\n",
       " 'бывш',\n",
       " 'быстр',\n",
       " 'важн',\n",
       " 'вариант',\n",
       " 'ве',\n",
       " 'век',\n",
       " 'великобритан',\n",
       " 'вернул',\n",
       " 'вернут',\n",
       " 'вероятн',\n",
       " 'верс',\n",
       " 'весн',\n",
       " 'вест',\n",
       " 'весьм',\n",
       " 'вечер',\n",
       " 'вещ',\n",
       " 'взгляд',\n",
       " 'взял',\n",
       " 'взят',\n",
       " 'вид',\n",
       " 'виде',\n",
       " 'видел',\n",
       " 'видет',\n",
       " 'видим',\n",
       " 'виж',\n",
       " 'включ',\n",
       " 'вконтакт',\n",
       " 'владимир',\n",
       " 'власт',\n",
       " 'влиян',\n",
       " 'вмест',\n",
       " 'вне',\n",
       " 'вниман',\n",
       " 'внов',\n",
       " 'внутр',\n",
       " 'вовс',\n",
       " 'вод',\n",
       " 'воен',\n",
       " 'возл',\n",
       " 'возможн',\n",
       " 'возраст',\n",
       " 'войн',\n",
       " 'войск',\n",
       " 'вокруг',\n",
       " 'вообщ',\n",
       " 'вопрос',\n",
       " 'восем',\n",
       " 'вперв',\n",
       " 'вплот',\n",
       " 'вполн',\n",
       " 'впоследств',\n",
       " 'врач',\n",
       " 'врем',\n",
       " 'времен',\n",
       " 'врод',\n",
       " 'все',\n",
       " 'всем',\n",
       " 'вскор',\n",
       " 'вспомина',\n",
       " 'встреч',\n",
       " 'вступ',\n",
       " 'вся',\n",
       " 'втор',\n",
       " 'выбор',\n",
       " 'выгляд',\n",
       " 'выйт',\n",
       " 'выступлен',\n",
       " 'выход',\n",
       " 'выш',\n",
       " 'вышел',\n",
       " 'вышл',\n",
       " 'выясн',\n",
       " 'гер',\n",
       " 'герман',\n",
       " 'геро',\n",
       " 'глав',\n",
       " 'главн',\n",
       " 'глаз',\n",
       " 'го',\n",
       " 'говор',\n",
       " 'год',\n",
       " 'голов',\n",
       " 'голос',\n",
       " 'голосован',\n",
       " 'горазд',\n",
       " 'город',\n",
       " 'государств',\n",
       " 'гот',\n",
       " 'готов',\n",
       " 'гражда',\n",
       " 'гражданск',\n",
       " 'групп',\n",
       " 'давн',\n",
       " 'дал',\n",
       " 'далек',\n",
       " 'дальш',\n",
       " 'дан',\n",
       " 'дат',\n",
       " 'две',\n",
       " 'двер',\n",
       " 'движен',\n",
       " 'дво',\n",
       " 'двум',\n",
       " 'двух',\n",
       " 'де',\n",
       " 'девушек',\n",
       " 'девушк',\n",
       " 'девя',\n",
       " 'действ',\n",
       " 'действительн',\n",
       " 'декабр',\n",
       " 'дел',\n",
       " 'дела',\n",
       " 'ден',\n",
       " 'денег',\n",
       " 'деньг',\n",
       " 'деся',\n",
       " 'десятк',\n",
       " 'дет',\n",
       " 'дета',\n",
       " 'детств',\n",
       " 'детьм',\n",
       " 'деятельн',\n",
       " 'джон',\n",
       " 'директор',\n",
       " 'дне',\n",
       " 'дни',\n",
       " 'дня',\n",
       " 'доб',\n",
       " 'довольн',\n",
       " 'документ',\n",
       " 'долг',\n",
       " 'долж',\n",
       " 'должн',\n",
       " 'должност',\n",
       " 'доллар',\n",
       " 'дом',\n",
       " 'достаточн',\n",
       " 'доступ',\n",
       " 'доч',\n",
       " 'дочер',\n",
       " 'друг',\n",
       " 'друз',\n",
       " 'дума',\n",
       " 'е',\n",
       " 'евре',\n",
       " 'европ',\n",
       " 'ед',\n",
       " 'едв',\n",
       " 'единствен',\n",
       " 'естествен',\n",
       " 'ещ',\n",
       " 'ждат',\n",
       " 'желан',\n",
       " 'жен',\n",
       " 'женщин',\n",
       " 'жертв',\n",
       " 'живет',\n",
       " 'животн',\n",
       " 'живут',\n",
       " 'жизн',\n",
       " 'жил',\n",
       " 'жит',\n",
       " 'жител',\n",
       " 'журналист',\n",
       " 'зависим',\n",
       " 'задач',\n",
       " 'заключен',\n",
       " 'закон',\n",
       " 'замет',\n",
       " 'занима',\n",
       " 'запис',\n",
       " 'заран',\n",
       " 'зат',\n",
       " 'зачаст',\n",
       " 'защит',\n",
       " 'заяв',\n",
       " 'заявлен',\n",
       " 'здан',\n",
       " 'земл',\n",
       " 'зна',\n",
       " 'знает',\n",
       " 'знаком',\n",
       " 'знал',\n",
       " 'знат',\n",
       " 'знач',\n",
       " 'знают',\n",
       " 'зрен',\n",
       " 'зрител',\n",
       " 'ива',\n",
       " 'игр',\n",
       " 'игра',\n",
       " 'ид',\n",
       " 'иде',\n",
       " 'идет',\n",
       " 'идт',\n",
       " 'избежа',\n",
       " 'известн',\n",
       " 'издан',\n",
       " 'изменен',\n",
       " 'изначальн',\n",
       " 'им',\n",
       " 'имеет',\n",
       " 'имел',\n",
       " 'имен',\n",
       " 'имет',\n",
       " 'имеют',\n",
       " 'импер',\n",
       " 'инач',\n",
       " 'инд',\n",
       " 'иностра',\n",
       " 'интерв',\n",
       " 'интерес',\n",
       " 'интересн',\n",
       " 'интернет',\n",
       " 'информац',\n",
       " 'иска',\n",
       " 'исключительн',\n",
       " 'искусств',\n",
       " 'испан',\n",
       " 'использ',\n",
       " 'использова',\n",
       " 'исследован',\n",
       " 'истор',\n",
       " 'источник',\n",
       " 'итог',\n",
       " 'июл',\n",
       " 'июн',\n",
       " 'кажд',\n",
       " 'кажет',\n",
       " 'каза',\n",
       " 'казн',\n",
       " 'как',\n",
       " 'картин',\n",
       " 'карьер',\n",
       " 'каса',\n",
       " 'каф',\n",
       " 'качеств',\n",
       " 'квартир',\n",
       " 'кем',\n",
       " 'километр',\n",
       " 'кин',\n",
       " 'кит',\n",
       " 'кита',\n",
       " 'класс',\n",
       " 'клуб',\n",
       " 'кндр',\n",
       " 'книг',\n",
       " 'ко',\n",
       " 'ког',\n",
       " 'количеств',\n",
       " 'ком',\n",
       " 'команд',\n",
       " 'комисс',\n",
       " 'комнат',\n",
       " 'компан',\n",
       " 'конец',\n",
       " 'контрол',\n",
       " 'конфликт',\n",
       " 'конц',\n",
       " 'котор',\n",
       " 'коф',\n",
       " 'крайн',\n",
       " 'критик',\n",
       " 'кров',\n",
       " 'кром',\n",
       " 'крупн',\n",
       " 'кстат',\n",
       " 'культур',\n",
       " 'куп',\n",
       " 'курс',\n",
       " 'лагер',\n",
       " 'легк',\n",
       " 'лет',\n",
       " 'летн',\n",
       " 'лечен',\n",
       " 'либ',\n",
       " 'лиг',\n",
       " 'лидер',\n",
       " 'лиц',\n",
       " 'личн',\n",
       " 'личност',\n",
       " 'лиш',\n",
       " 'люб',\n",
       " 'любов',\n",
       " 'люд',\n",
       " 'людьм',\n",
       " 'ма',\n",
       " 'магазин',\n",
       " 'максимальн',\n",
       " 'мал',\n",
       " 'мам',\n",
       " 'март',\n",
       " 'мат',\n",
       " 'матер',\n",
       " 'материа',\n",
       " 'материал',\n",
       " 'машин',\n",
       " 'мен',\n",
       " 'меньш',\n",
       " 'мер',\n",
       " 'мероприят',\n",
       " 'мест',\n",
       " 'местн',\n",
       " 'месяц',\n",
       " 'метр',\n",
       " 'миллион',\n",
       " 'минимум',\n",
       " 'министр',\n",
       " 'минут',\n",
       " 'мир',\n",
       " 'миров',\n",
       " 'мнен',\n",
       " 'мно',\n",
       " 'мног',\n",
       " 'множеств',\n",
       " 'мо',\n",
       " 'мог',\n",
       " 'могл',\n",
       " 'могут',\n",
       " 'модел',\n",
       " 'может',\n",
       " 'можеш',\n",
       " 'молод',\n",
       " 'момент',\n",
       " 'мор',\n",
       " 'москв',\n",
       " 'муж',\n",
       " 'мужчин',\n",
       " 'музык',\n",
       " 'мысл',\n",
       " 'наверн',\n",
       " 'назад',\n",
       " 'назва',\n",
       " 'назван',\n",
       " 'называ',\n",
       " 'наибол',\n",
       " 'найт',\n",
       " 'наказан',\n",
       " 'нам',\n",
       " 'намн',\n",
       " 'наоборот',\n",
       " 'написа',\n",
       " 'например',\n",
       " 'народ',\n",
       " 'населен',\n",
       " 'насил',\n",
       " 'наскольк',\n",
       " 'настольк',\n",
       " 'наход',\n",
       " 'национальн',\n",
       " 'нача',\n",
       " 'начал',\n",
       " 'наш',\n",
       " 'нашел',\n",
       " 'нашл',\n",
       " 'не',\n",
       " 'небольш',\n",
       " 'невозможн',\n",
       " 'недавн',\n",
       " 'недел',\n",
       " 'неизвестн',\n",
       " 'некотор',\n",
       " 'нем',\n",
       " 'немн',\n",
       " 'необходим',\n",
       " 'неоднократн',\n",
       " 'нередк',\n",
       " 'нескольк',\n",
       " 'несмотр',\n",
       " 'ник',\n",
       " 'никак',\n",
       " 'никт',\n",
       " 'ним',\n",
       " 'нов',\n",
       " 'новост',\n",
       " 'номер',\n",
       " 'нормальн',\n",
       " 'ноч',\n",
       " 'ноябр',\n",
       " 'нрав',\n",
       " 'нужн',\n",
       " 'нью',\n",
       " 'об',\n",
       " 'обвинен',\n",
       " 'област',\n",
       " 'обнаруж',\n",
       " 'образ',\n",
       " 'образован',\n",
       " 'обратн',\n",
       " 'обучен',\n",
       " 'общ',\n",
       " 'обща',\n",
       " 'обществ',\n",
       " 'объяв',\n",
       " 'обычн',\n",
       " 'обязательн',\n",
       " 'огон',\n",
       " 'огромн',\n",
       " 'одежд',\n",
       " 'одн',\n",
       " 'однажд',\n",
       " 'однак',\n",
       " 'одновремен',\n",
       " 'оказа',\n",
       " 'окол',\n",
       " 'окончан',\n",
       " 'окончательн',\n",
       " 'октябр',\n",
       " 'он',\n",
       " 'оп',\n",
       " 'операц',\n",
       " 'орган',\n",
       " 'организац',\n",
       " 'оруж',\n",
       " 'осен',\n",
       " 'основ',\n",
       " 'основн',\n",
       " 'особ',\n",
       " 'особен',\n",
       " 'оста',\n",
       " 'остав',\n",
       " 'остальн',\n",
       " 'остр',\n",
       " 'остров',\n",
       " 'ответ',\n",
       " 'ответствен',\n",
       " 'отец',\n",
       " 'отказа',\n",
       " 'откр',\n",
       " 'откуд',\n",
       " 'отлич',\n",
       " 'отмет',\n",
       " 'относительн',\n",
       " 'отношен',\n",
       " 'отправ',\n",
       " 'отсутств',\n",
       " 'оттуд',\n",
       " 'отц',\n",
       " 'официальн',\n",
       " 'очен',\n",
       " 'очеред',\n",
       " 'очередн',\n",
       " 'памят',\n",
       " 'пандем',\n",
       " 'пап',\n",
       " 'пар',\n",
       " 'параллельн',\n",
       " 'парт',\n",
       " 'перв',\n",
       " 'период',\n",
       " 'песн',\n",
       " 'петербург',\n",
       " 'писа',\n",
       " 'писател',\n",
       " 'письм',\n",
       " 'пишет',\n",
       " 'план',\n",
       " 'плат',\n",
       " 'плох',\n",
       " 'площад',\n",
       " 'побед',\n",
       " 'поведен',\n",
       " 'повод',\n",
       " 'погибл',\n",
       " 'поддержк',\n",
       " 'подобн',\n",
       " 'позж',\n",
       " 'пойт',\n",
       " 'пок',\n",
       " 'показа',\n",
       " 'пол',\n",
       " 'полгод',\n",
       " 'политик',\n",
       " 'полиц',\n",
       " 'полицейск',\n",
       " 'полност',\n",
       " 'положен',\n",
       " 'полтор',\n",
       " 'получ',\n",
       " 'получа',\n",
       " 'польз',\n",
       " 'помим',\n",
       " 'помн',\n",
       " 'помога',\n",
       " 'помоч',\n",
       " 'помощ',\n",
       " 'поначал',\n",
       " 'понима',\n",
       " 'поня',\n",
       " 'понятн',\n",
       " 'поп',\n",
       " 'попа',\n",
       " 'попаст',\n",
       " 'попрос',\n",
       " 'популярн',\n",
       " 'попытк',\n",
       " 'пор',\n",
       " 'порядк',\n",
       " 'поскольк',\n",
       " 'последн',\n",
       " 'посмотрет',\n",
       " 'пост',\n",
       " 'постепен',\n",
       " 'постоя',\n",
       " 'поч',\n",
       " 'пошел',\n",
       " 'поэт',\n",
       " 'появ',\n",
       " 'прав',\n",
       " 'правд',\n",
       " 'правильн',\n",
       " 'правительств',\n",
       " 'практическ',\n",
       " 'предлож',\n",
       " 'председател',\n",
       " 'представител',\n",
       " 'прежд',\n",
       " 'прежн',\n",
       " 'президент',\n",
       " 'премьер',\n",
       " 'преступлен',\n",
       " 'привел',\n",
       " 'приговор',\n",
       " 'придет',\n",
       " 'приеха',\n",
       " 'призна',\n",
       " 'прим',\n",
       " 'пример',\n",
       " 'примерн',\n",
       " 'принима',\n",
       " 'приня',\n",
       " 'принят',\n",
       " 'приход',\n",
       " 'прич',\n",
       " 'причин',\n",
       " 'пришел',\n",
       " 'пришл',\n",
       " 'пробл',\n",
       " 'проблем',\n",
       " 'провел',\n",
       " 'провест',\n",
       " 'провод',\n",
       " 'программ',\n",
       " 'продаж',\n",
       " 'проект',\n",
       " 'произошл',\n",
       " 'происход',\n",
       " 'пройт',\n",
       " 'прост',\n",
       " 'прот',\n",
       " 'протяжен',\n",
       " 'проход',\n",
       " 'процесс',\n",
       " 'прошел',\n",
       " 'прошл',\n",
       " 'прощ',\n",
       " 'прям',\n",
       " 'пут',\n",
       " 'пыта',\n",
       " 'пят',\n",
       " 'работ',\n",
       " 'работа',\n",
       " 'рабоч',\n",
       " 'равн',\n",
       " 'рад',\n",
       " 'раз',\n",
       " 'развит',\n",
       " 'различн',\n",
       " 'разн',\n",
       " 'район',\n",
       " 'рамк',\n",
       " 'ран',\n",
       " 'раньш',\n",
       " 'рассказа',\n",
       " 'рассказыва',\n",
       " 'расследован',\n",
       " 'ребенк',\n",
       " 'ребенок',\n",
       " 'ребят',\n",
       " 'революц',\n",
       " 'регулярн',\n",
       " 'редк',\n",
       " 'реж',\n",
       " 'режим',\n",
       " 'режиссер',\n",
       " 'резк',\n",
       " 'результат',\n",
       " 'республик',\n",
       " 'реч',\n",
       " 'реш',\n",
       " 'решен',\n",
       " 'род',\n",
       " 'родител',\n",
       " 'родственник',\n",
       " 'рожден',\n",
       " 'рол',\n",
       " 'росс',\n",
       " 'российск',\n",
       " 'рубл',\n",
       " 'рук',\n",
       " 'руководств',\n",
       " 'русск',\n",
       " 'рынок',\n",
       " 'ряд',\n",
       " 'сайт',\n",
       " 'сам',\n",
       " 'самолет',\n",
       " 'самостоятельн',\n",
       " 'сво',\n",
       " 'свобод',\n",
       " 'связ',\n",
       " 'связа',\n",
       " 'сдела',\n",
       " 'северн',\n",
       " 'сегодн',\n",
       " 'секс',\n",
       " 'сем',\n",
       " 'сентябр',\n",
       " 'серг',\n",
       " 'серге',\n",
       " 'середин',\n",
       " 'сериа',\n",
       " 'сет',\n",
       " 'си',\n",
       " 'сил',\n",
       " 'сильн',\n",
       " 'сист',\n",
       " 'систем',\n",
       " 'ситуац',\n",
       " 'сих',\n",
       " 'сказа',\n",
       " 'скольк',\n",
       " 'сконча',\n",
       " 'скор',\n",
       " 'след',\n",
       " 'слишк',\n",
       " 'слов',\n",
       " 'сложн',\n",
       " 'служб',\n",
       " 'слух',\n",
       " 'случ',\n",
       " 'случа',\n",
       " 'случайн',\n",
       " 'смерт',\n",
       " 'сми',\n",
       " 'смог',\n",
       " 'смогл',\n",
       " 'смотрет',\n",
       " 'снача',\n",
       " 'снима',\n",
       " 'снов',\n",
       " 'соб',\n",
       " 'собра',\n",
       " 'событ',\n",
       " 'совершен',\n",
       " 'совет',\n",
       " 'советск',\n",
       " 'современ',\n",
       " 'соглас',\n",
       " 'согласн',\n",
       " 'сожален',\n",
       " 'созда',\n",
       " 'создан',\n",
       " 'солдат',\n",
       " 'сообщ',\n",
       " 'сообщен',\n",
       " 'сообществ',\n",
       " 'соста',\n",
       " 'состоян',\n",
       " 'сотн',\n",
       " 'сотрудник',\n",
       " 'соцсет',\n",
       " 'союз',\n",
       " 'специалист',\n",
       " 'специальн',\n",
       " 'список',\n",
       " 'спокойн',\n",
       " 'способ',\n",
       " 'спуст',\n",
       " 'сраз',\n",
       " 'сред',\n",
       " 'средств',\n",
       " 'срок',\n",
       " 'ссср',\n",
       " 'стал',\n",
       " 'станет',\n",
       " 'станов',\n",
       " 'станц',\n",
       " 'стат',\n",
       " 'статус',\n",
       " 'степен',\n",
       " 'сто',\n",
       " 'стол',\n",
       " 'стольк',\n",
       " 'сторон',\n",
       " 'стран',\n",
       " 'страх',\n",
       " 'студ',\n",
       " 'студент',\n",
       " 'суд',\n",
       " 'сумм',\n",
       " 'сут',\n",
       " 'существ',\n",
       " 'счет',\n",
       " 'счита',\n",
       " 'сша',\n",
       " 'сын',\n",
       " 'та',\n",
       " 'так',\n",
       " 'такж',\n",
       " 'те',\n",
       " 'теб',\n",
       " 'текст',\n",
       " 'тел',\n",
       " 'телефон',\n",
       " 'тем',\n",
       " 'территор',\n",
       " 'тех',\n",
       " 'течен',\n",
       " 'тип',\n",
       " 'то',\n",
       " 'том',\n",
       " 'точк',\n",
       " 'точн',\n",
       " 'трагед',\n",
       " 'требова',\n",
       " 'трет',\n",
       " 'трех',\n",
       " 'труд',\n",
       " 'трудн',\n",
       " 'ту',\n",
       " 'туд',\n",
       " 'тысяч',\n",
       " 'тюрьм',\n",
       " 'тяжел',\n",
       " 'убийств',\n",
       " 'увер',\n",
       " 'увидел',\n",
       " 'увидет',\n",
       " 'уда',\n",
       " 'узна',\n",
       " 'уйт',\n",
       " 'улиц',\n",
       " 'умер',\n",
       " 'университет',\n",
       " 'управлен',\n",
       " 'уровен',\n",
       " 'уровн',\n",
       " 'услов',\n",
       " 'успех',\n",
       " 'успешн',\n",
       " 'утвержда',\n",
       " 'утр',\n",
       " 'участ',\n",
       " 'участвова',\n",
       " 'участник',\n",
       " 'участок',\n",
       " 'учен',\n",
       " 'учител',\n",
       " 'ушел',\n",
       " 'факт',\n",
       " 'фактическ',\n",
       " 'фбр',\n",
       " 'феврал',\n",
       " 'фильм',\n",
       " 'фон',\n",
       " 'форм',\n",
       " 'фот',\n",
       " 'фотограф',\n",
       " 'франц',\n",
       " 'характер',\n",
       " 'хвата',\n",
       " 'ход',\n",
       " 'хот',\n",
       " 'хотел',\n",
       " 'хоч',\n",
       " 'хочет',\n",
       " 'хуж',\n",
       " 'цел',\n",
       " 'центр',\n",
       " 'церкв',\n",
       " 'церков',\n",
       " 'час',\n",
       " 'част',\n",
       " 'чащ',\n",
       " 'человек',\n",
       " 'чем',\n",
       " 'чест',\n",
       " 'четыр',\n",
       " 'четырех',\n",
       " 'числ',\n",
       " 'член',\n",
       " 'чувств',\n",
       " 'шест',\n",
       " 'школ',\n",
       " 'шла',\n",
       " 'шли',\n",
       " 'шо',\n",
       " 'ых',\n",
       " 'эт',\n",
       " 'эффект',\n",
       " 'южн',\n",
       " 'явля',\n",
       " 'язык',\n",
       " 'якоб',\n",
       " 'январ',\n",
       " 'япон'}"
      ]
     },
     "execution_count": 38,
     "metadata": {},
     "output_type": "execute_result"
    }
   ],
   "source": [
    "cleaned"
   ]
  },
  {
   "cell_type": "markdown",
   "metadata": {
    "id": "_mg2Au7XZzev"
   },
   "source": [
    "Для того, чтобы использовать модель LDA необходимо создать матрицу частот слов текста. Благо в sklearn есть для этого готовый класс CountVectorizer, который не требует отдельной леммитизации и токенизации текста "
   ]
  },
  {
   "cell_type": "code",
   "execution_count": 54,
   "metadata": {
    "id": "LjGztNThc3_3"
   },
   "outputs": [],
   "source": [
    "vec = CountVectorizer( tokenizer=word_tokenize, stop_words = stop_words, vocabulary = cleaned) \n",
    "bow = vec.fit_transform(x_train) \n",
    "bow_test = vec.transform(x_test)\n",
    "\n",
    "scaler = MaxAbsScaler()\n",
    "bow = scaler.fit_transform(bow)\n",
    "bow_test = scaler.transform(bow_test)"
   ]
  },
  {
   "cell_type": "code",
   "execution_count": 55,
   "metadata": {
    "id": "LRXORPZteCSx"
   },
   "outputs": [],
   "source": [
    "from sklearn.decomposition import LatentDirichletAllocation as LDA"
   ]
  },
  {
   "cell_type": "code",
   "execution_count": 56,
   "metadata": {
    "colab": {
     "base_uri": "https://localhost:8080/"
    },
    "id": "Hjd0X2swc7Ah",
    "outputId": "bdcce4e1-61f9-4f64-b14c-1a48d3522d47"
   },
   "outputs": [
    {
     "name": "stdout",
     "output_type": "stream",
     "text": [
      "iteration: 1 of max_iter: 30\n",
      "iteration: 2 of max_iter: 30\n",
      "iteration: 3 of max_iter: 30\n",
      "iteration: 4 of max_iter: 30\n",
      "iteration: 5 of max_iter: 30\n",
      "iteration: 6 of max_iter: 30\n",
      "iteration: 7 of max_iter: 30\n",
      "iteration: 8 of max_iter: 30\n",
      "iteration: 9 of max_iter: 30\n",
      "iteration: 10 of max_iter: 30\n",
      "iteration: 11 of max_iter: 30\n",
      "iteration: 12 of max_iter: 30\n",
      "iteration: 13 of max_iter: 30\n",
      "iteration: 14 of max_iter: 30\n",
      "iteration: 15 of max_iter: 30\n",
      "iteration: 16 of max_iter: 30\n",
      "iteration: 17 of max_iter: 30\n",
      "iteration: 18 of max_iter: 30\n",
      "iteration: 19 of max_iter: 30\n",
      "iteration: 20 of max_iter: 30\n",
      "iteration: 21 of max_iter: 30\n",
      "iteration: 22 of max_iter: 30\n",
      "iteration: 23 of max_iter: 30\n",
      "iteration: 24 of max_iter: 30\n",
      "iteration: 25 of max_iter: 30\n",
      "iteration: 26 of max_iter: 30\n",
      "iteration: 27 of max_iter: 30\n",
      "iteration: 28 of max_iter: 30\n",
      "iteration: 29 of max_iter: 30\n",
      "iteration: 30 of max_iter: 30\n"
     ]
    },
    {
     "data": {
      "text/plain": [
       "LatentDirichletAllocation(max_iter=30, n_components=60, n_jobs=2, verbose=1)"
      ]
     },
     "execution_count": 56,
     "metadata": {},
     "output_type": "execute_result"
    }
   ],
   "source": [
    "lda = LDA(n_components = 60, \n",
    "                 max_iter=30,\n",
    "                 n_jobs=2,\n",
    "                 learning_method='batch',\n",
    "                 verbose=1)\n",
    "lda.fit(bow)"
   ]
  },
  {
   "cell_type": "markdown",
   "metadata": {},
   "source": [
    "Посмотрим какие ключевые слова выделит модель и на какие темы она разделит произвольный текст "
   ]
  },
  {
   "cell_type": "code",
   "execution_count": 88,
   "metadata": {},
   "outputs": [
    {
     "data": {
      "text/plain": [
       "'Несмотря на то, что ещё весной бушующую в Молдавии и Польше болезнь назвали чумой, киевские врачи диагностировали лишь гнилую горячку с пятнами (тиф) и не посчитали нужным вводить карантин. Свободно владея языком, там он отвечал за продажи телевизоров на российском рынке. А Иосиф Сталин в разговоре с британским премьером Уинстоном Черчиллем утверждал, что без США и Британии «мы бы проиграли». Среди них и известные люди – деятели культуры, политики, учёные и военные. Кинг прославился на американском телевидении уже когда ему было далеко за 50, а успеху предшествовали долгая работа, банкротство, проблемы со здоровьем, арест и восстановление репутации. Историю путешествия норвежских учёных рассказало издание The Atlantic. Любой примат, претендующий на звание человека, обязан иметь ряд признаков, без которых подобное превращение невозможно. Интересный факт о моем городке.Там есть выходцы с Восточного Тимора и мягко говоря,они не очень хорошо к нам относятся.Однажды в течение конфликта моему отцу пришлось ехать в больницу с ранением головы,также Таракан один изтех городов,который имеет большие запасы нефти. Детство Саблина пришлось на Великую Отечественную войну. Этот провал серьёзно ударил по репутации агентств, но им же дали второй шанс, чтобы всё исправить и не допустить повторения катастрофы. Мне, как человеку с аэрофобией, такое приключение далось непросто. Незадолго до них Алиман заразился коронавирусом Covid-19, а 17 сентября умер в больнице от осложнений. После этого Голдберг открыл на GoFunMe проект под названием «Мариачи для Аарона Шлоссберга» с намерением собрать 500 долларов. Однако с точки зрения исторической достоверности к автору книги есть вопросы. Люди, в определенных условиях, ведут себя очень примитивно, на уровне базовых инстинктов. О значении этого метода в борьбе за внимание в зале суда размышляет главный критик моды в The New York Times Ванесса Фридман. На исторической родине личность Баранова малоизвестна, поэтому реакция на событие в России оказалась сдержанной. Обойти успех капиталистического датского конструктора из пластмассы было невозможно, и желание создать свой собственный аналог не пропадало вплоть до развала социалистического лагеря. Фолкнера научили поддерживать температуру хот-догов, ему подарили термометр и оборудование для мытья рук. Дотошный студент выведал интересные подробности: оказалось, можно покупать баллы напрямую, по десять центов за штуку. Отца, тоже Гордона Рамзи, сын описывал как «алкоголика и жуткого бабника, которому невозможно сказать “нет”». Долго утешал себя, что раз выбираю премиум, к примеру Dunhill или «Собрание», то курю что-то менее вредное. Безмолвные губы иногда шевелились в беззвучном шепоте. Сразу скажу, что организация, процесс обучения и сам прыжок прошли отлично. Два века спустя, в 1930-м году, он был взорван, как и многие другие храмы по всей стране. Изоляция полная — сейчас все в курсе, что это слово значит. Поэтому для масштабных съемок и завершенных сюжетов, чтобы произвести должное впечатление на зрителей, бои приходилось реконструировать. Читательница также пожаловалась на прохожих, которые не обращают внимания на происходящее. И это не смотря на то, что покупала я билет онлайн! Также нам не положено знать какие именно юридические услуги оплачивает из наших денег председатель. Спортсмены, отличники, выдающиеся участники оркестра. Русскоязычные комики, не ставшие постоянными резидентами проектов на ТНТ, практически всем обязаны YouTube. 47-72). Сафин утверждает, что секс был по обоюдному согласию, а модель «никак не противилась происходящему».  14 ноября план Джона Чау шёл как надо — он приближался к северному сентинельскому острову. Жители столицы узнали о настоящих новостях с нескольких сторон. В те годы подобную экспедицию должны были пройти все старшеклассники — считалось, что суровые условия сближают подростков и учат их выдерживать тяжёлые условия. Когда шоу транслировалось по телевидению, зрители сообщали о любой информации по делу на горячую линию, а после перезагрузки на Netflix можно писать на сайт «Неразгаданных тайн» (недоступен в России). Её пик пришёлся на 2017 год, когда цена за единицу биткоина постоянно росла (в итоге добравшись до отметки 20 тысяч долларов), а бизнесмены и любители скупали видеокарты, чтобы с их помощью в домашних условиях (или огромных ангарах) майнить биткоины. 70 лет власти Дании не извинялись перед невольными участниками эксперимента, но в конце 2020 года премьер-министр всё-таки признала проблему, опубликовав большой отчёт о том, что же тогда произошло с детьми. Мужчина объяснил ей настоящее значение, но женщина только разозлилась на него из-за этого и отказалась признавать, что сама назвала ребёнка оскорбительным именем, не проверив его перевод.  Болезнь окрестили «модным» диагнозом, считая, что человек может с ней справиться самостоятельно или высмеивая, что кто-то заедает грусть антидепрессантами, хотя мог бы заняться спортом, посмотреть комедию или просто выспаться. Его отец, Бенджамин Гаррисон, был известным политическим деятелем. А страдают от них только маменькины сынки и патологические доносчики. Как итог, в Бхопале регулярно проходят акции протеста — от мирных маршей и пикетов с десятками участников до многотысячных митингов. Тем не менее, когда активисты пришли на намеченное место на пересечении улиц Профсоюзная и Островитянова – неподалёку от ещё не построенной станции метро Коньково, там уже шёл незапланированный субботник. Спустя десятилетия после трагедии 8 августа 1969 года до сих пор остаётся актуальным вопрос — что если бы Чарльзу Мэнсону повезло с музыкальной карьерой чуть больше, чем в реальности? И они сражаются на передовой наравне с мужчинами. Виктор Копаница ведёт паблик «Стендапьё» о комедии в регионах. Они считали, что тюльпаны помогут сколотить им состояние, но в итоге остались ни с чем. Я не восприняла это смс всерьез, пока не позвонили из поликлиники — сказать ещё раз, что я должна сидеть дома, иначе оштрафуют. При этом на собрании отсутствовала ревизионная комиссия в полном составе. Ничего особенного. Я родился в Житомире, дважды по два года жил в Киеве уже после окончания университета. Обновлено 20 августа: эвакуация людей из Кабула продолжается, но паника из-за нехватки рейсов не утихает. Почему именно так происходит?  Примечание о возможном конфликте интересов: автор этого текста приходится родственником одному из спикеров.  Так и вышло: спустя несколько часов спасатели обнаружили живыми всех членов группы. Один из них, Майкл Лэнг, соответствовал образу эталонного хиппи – ни денег, ни крыши над головой, ни даже обуви. Марк Пинкус (Mark Pincus), который позже вложит в Facebook деньги и станет сооснователем крупной видеоигровой компании Zynga (FarmVille), полагал иначе. Кладмены винят в существовании системы наркоторговли «всех, кроме себя», отмечает автор. С разрешения издательства TJ публикует главу «Операция «„Перестройка“», в которой Померанцев рассказывает, как бывшие члены советских спецслужб связали падение страны с информационной пропагандой врагов, и к чему это привело. TJ не рекомендует готовиться к ЕГЭ исключительно по этой подборке, тем более, что во многих сериалах сюжет первоисточника переосмыслен. Для нас развлечением стало перед завтраком погонять отдельных солдат пулемётом по полю.  Якобы его создатель Эрл Дин изучал ингредиенты Coca-Cola в иллюстрированной энциклопедии, и перепутал слова coca (кока) и какао (cocoa). У Генриха сложилась не очень хорошая репутация и все потенциальные кандидатки на место королевы, очень быстро отказывались и еще при этом довольно остроумно шутили. Судя по сайту тура, билет на одного человека стоит от 6055 до 10700 евро (от 438 до 775 тысяч рублей). Он оставался на плаву, потому что они убирали старые доски по мере их разложения, заменяя их на более прочные. И тем самым разрешили ему покинуть шоу. Через восемь месяцев правоохранительные органы сорвут Дмитрию Кузнецову (настоящее имя Хаски) несколько концертов, в его текстах найдут «признаки экстремизма», а ему самому дадут 12 суток ареста за танцы на чьей-то припаркованной возле клуба машине. Первые подобия вытрезвителей в России – «бражные тюрьмы» – появились в эпоху Бориса Годунова в Москве на Варварке. TJ рассказывает историю Ламарр, заслужившей уважение в сферах искусства, кинопроизводства и технологий. Столь серьёзное потрясение на долгие годы обессилило кинематографистов. Но на деле авторитарные идеологии и диктаторское правление остаются привлекательными для миллионов людей из разных стран. В 18 веке предгорья Аппалачей в районе современных штатов Кентукки и Западная Вирджиния заселили выходцы из Шотландии и Ирландии. Это уникальное неврологическое состояние, которое позволяет человеку помнить всё когда-либо произошедшее с ним. TJ поговорил с представителями киберспортивных организаций СНГ и узнал, насколько сложна работа менеджеров, приносит ли она стабильный доход и как научиться этому делу. Всё ради возможности довести работу над фильмом до конца.  Издание The New York Times выяснило подробности истории. По каким причинам народ Ирана предпочёл вестернизации строгое следование религиозной традиции и политическую власть мусульманского духовенства? Главная особенность комплекса — вертикальный телескоп, построенный силами ВВС США в 1969 году. Снова на работу я вышла уже в 2008 году, с тех пор выпустила три группы детей, теперь набрав четвёртую. Начальникам и начальницам разного уровня спускают сверху разнарядку более высокопоставленные коллеги по круговой поруке: необходимо проконтролировать явку всех работников на общероссийское голосование.  В деталях подпольного бизнеса разобралось издание Motherboard. Имонн МакКейб: В книге описывается все от аэрофотосъемки Надара с воздушных шаров в середине 1800-х и вплоть до современных дронов. Через несколько часов ребёнка нашли спящим на борту, а его мать объявили пропавшей без вести. Пока даже не представляю, что останется от малого и среднего бизнеса, в особенности никак не связанного с государством, если ситуация не станет лучше, допустим, к середине или концу 2020 года. Мы ждали 10 минут, 15 минут. Например, я почти 3 года проработал в Тинькофф Банке. Следственный комитет возбудил уголовное дело по части 3 статьи 238 УК РФ (выполнение работ или оказание услуг, не отвечающих требованиям безопасности, повлекшие по неосторожности смерть двух или более лиц). В 1990 году я, окончив Ленинградский государственный институт театра, музыки и кинематографии, получил распределение в Театр им.Ленсовета на роль Осла в «Бременских музыкантах». Дали запечатлел расколотое испанское общество 1930-х годов. Я заинтересовался этой школой, стал гуглить, пытаться попасть. Последней каплей стало качество связи: «Йота» стала ужасно ловить в метро, а зачастую даже при хорошем соединении LTE скорость была заметно ниже комфортного уровня. Источниками статьи являются: Официальный сайт РПЦ, Православная энциклопедия. В Европе ею страдают от 3,9 до 13,7% жителей. Ситуация изменилась, когда приехала Роберт, аниматор, которая играла Эльзу из диснеевского фильма «Холодное сердце». Парень полез в сложную тему, в которой не разбирался совершенно — и закономерно обжёгся на ней. Они лишены родительского воспитания, жизненных ориентиров и отличаются лишь деструктивным поведением. Постепенно из этих приключений стали складываться комиксы, один из которых стал вирусным и облетел Рунет. После ареста Голунова в июне 2019 года к работе над его текстом подключились журналисты из ведущих российских изданий — Forbes, The Bell, «Ведомостей», «Новой газеты», РБК, Русской службы Би-би-си и «Фонтанки». Но даже с учётом этого успешные модели могут за две-четыре недели зарабатывать 100 тысяч рублей и больше — серьёзная сумма для большинства россиян. Ларри Флинт родился в семье отца-алкоголика и несовершеннолетней матери. Остров признан \"музеем Дании\" и все дома и сады охраняются, включая единственную в Дании восьмигранную церковь. Там он встречает крупного лысого мужчину по имени Леон Камповски, который называет себя Майклом Джексоном и уверен, что его кожа тёмного цвета. Сутками ранее экипаж судна получил сигнал от Министерства рыболовства и океанов Канады с просьбой помочь в спасении животного: кит запутался в рыболовных сетях и не мог двигаться. Из-за цензуры времён Брюса Ли в стране строго относились к демонстрации нунчаков — главного оружия Микеланджело. Часто к этому времени они уже накопили опыт предыдущих моногамных (традиционных) отношений и осознали, что этот формат не позволяет им полноценно удовлетворять их потребности, оставаясь при этом честными перед собой. Если ваша кровь перманентно напоминает сахарный сироп, это состояние и называют \"диабет\". При этом Светлана постоянно подчёркивает, что она не стремится к власти и хочет «дальше жарить свои котлеты». К 71 годовщине убийства вспоминаем историю жизни и борьбы Милады. Нам с другом объяснили, что в Краснодарском крае введён карантин, и потому всех, кто прилетает из неблагополучных регионов, отправляют на самоизоляцию на 14 дней: либо по месту жительства (если есть прописка в регионе или если арендуете квартиру), либо в обсерватор на 14 дней. Шпигельман рассказал об издателе Максвелле Гейнсе, который в 1933 году начал печатать забавные графические истории в виде брошюр, используя всего четыре цвета. Потомки Мусы не сохранили страну, и та распалась на несколько частей, погрязнув в междоусобицах. Их мать занималась бытом и детьми, а отец работал в банке. Как и у многих городков, у Парадайза есть своя легенда о происхождении. Недовольная отношением властей Македонии к себе местная албанская диаспора после конфликта в Косово и притока беженцев оттуда в начале 2001 года начала кровавое восстание и спровоцировала гражданскую войну, затянувшуюся почти на год. Жители, у которых есть автомобиль, могут ездить за водой в город или на озеро, однако у пожилых такой возможности нет. Ежегодно в стране проводят больше 2,5 миллиона проверок на детекторе лжи, несмотря на то, что цены за тест порой достигают 700 долларов. Первое время тут располагался маршал Тевтонского ордена, позже к нему подселился и сам Великий Магистр (которого выгнали из его замка в Мариенбурге). Политик случайно познакомился с ней и её матерью, после чего завязал разговор. Ещё 10 парламентских кресел получили мелкие партии. Эту же версию неоднократно озвучивали в международных СМИ. «Богатые, расточительные 80-е, они просто разбрасывались синими карточками!» — посетовал Джейсон. Как есть два Петербурга – парадный и настоящий, так и Пушкиных существовало двое. Для удобства чтения истории героев и комментарии специалистов сокращены и отредактированы. Безумные и похожие на научные исследования, хорроры Кроненберга запустили целую волну телесных киноужасов. В то время приют находился в более печальном состоянии, чем сейчас – денег выделяли меньше. Поэтому, рассмотрим данные за 2015 - 2016 год. Он выучился на бухгалтера и проработал по специальности 35 лет, хотя внешне похож скорее на работягу. В 15:40 я стоял на Сенной площади, силовики предположительно кинули светошумовую гранату, а после начали массово задерживать людей. По словам Келли, он разговаривал с матерью девушки, погибшей на митинге в Шарлотсвилле, и извинился за то, что она вынуждена снова и снова видеть сцену наезда и представлять гибель своей дочери, хотя та и не попала в кадр. 15 июня стало известно, что правительство Гонконга приостановит рассмотрение поправок к закону об экстрадиции. Но не так давно он женился на соседке, живущей напротив, поэтому теперь он тоже живёт напротив. Власть столкнулась с ровно противоположной проблемой — как подтолкнуть женщин к рождению детей. 2014 год Так что я перешёл на кафедру телекоммуникаций и ещё в институте устроился на первую работу. После свидания с ней он написал пару сообщений своей девушке Стефани, зашёл на несколько сайтов для взрослых и уехал ночевать в военную казарму. Никакой оплаты за работу нет, вместо этого жителей приюта заставляют ежедневно молиться. Посмотрела нас, послушала и выписала направление на КТ (компьютерную томографию). Мы весело и задорно вели хроники этого абсурда, включая многочисленные скандалы вокруг авиакомпании, посты Тёмы Лебедева и другие курьёзные случаи, связанные с кадровыми решениями высокого начальства. Но это был своего рода символизм: словно таким образом мы поддерживаем российскую сборную. Сами создатели позиционировали \"Завоевателя\", как прорыв в кинематографе. Став первой в современной России женщиной-машинистом электрички, она столкнулась с критикой в соцсетях. Селфхарм зачастую воспринимается обществом как способ заявить о себе или сигнал о готовности совершить суицид. Современные талибы дистанцируются от своих предшественников из 1990-х, которые установили в Афганистане одну из самых мрачных диктатур в истории 20 века. Общее количество избирателей чуть больше тысячи человек. Историю пранкера и его жертв рассказало издание Wired. Но хрен там плавал. И пока проблема не решена, никакое лечение не даст продолжительного эффекта, никакое новое знание не освоится и никакого прогресса не наступит. Но всё закончилось 20 июля 2017 года, ровно три года назад. Отчасти мультсериал вдохновлён комиксами Marvel: главный злодей носит железный костюм, как Тони Старк, а горгулия Демона внешне и характером напоминает Мистик из «Людей Икс». Эта культура произошла из пацифизма, идеологии неприязни к любого рода насилию. Самые же страшные вещи с людьми делают другие люди. Статьи эти я писал 7 лет, взвешивая каждое слово, чтобы через минимум текста передать то, что НЕОБХОДИМО знать каждому, кто изучает иностранные языки. — Сосисы! — звучно объявлял Леша с заднего сиденья. Секс-работницы проходили медосмотры, получали заменительный билет вместо паспорта, а по всей стране открывались бордели. Сразу отмечу, что я искренне хотел бы разрешить этот конфликт с живым Джасеем, но у жизни свои планы, поэтому мне остаётся только простить его и поделиться своей историей. Сама певица отнеслась к этому хорошо: «Взрослые, здоровенные, настоящие мужики поют душевную песню [...]. Перед смертью Ганс и Софи вели себя удивительно храбро, отмечали позднее тюремщики. На торговых рядах можно было найти всё что угодно, жизнь кипела там без остановки. Вскоре у него началась опиоидная ломка, которую он описывает как «тяжелую форму гриппа с предчувствием скорой смерти». Если есть голова то можно зашибать целых три сотни. «Русский медвежонок» — конкурс по языкознанию среди школьников, созданный математиком Игорем Рубановым и лингвистом Еленой Муравенко. Но немцы до последнего продвигали миф о «курорте» и в 1944 году смогли убедить в этом даже Красный Крест, а вместе с ним — и всю Западную Европу. Ты работаешь диаконом в церкви. Последнее для неё особенно важно, ведь из-за редкого заболевания её мышцы и сухожилия медленно превращаются в кости. Нет. Лекарства от недуга не существует, так что десять лет спустя, к 43 годам, некогда крепкий Нагашиме превратился в дряхлого старика. Расскажите о своей работе в школе. Периодически дом англичанки наполнялся гостями. Я перебирал много названий, были лиричные вроде «Дым без огня» или «Русская школа экспериментов». Ролл горячо поддержали в соцсетях. 25-летнюю жительницу маленькой деревни Эль Кортесаль отправили на попечение к священникам после того, как у неё начались галлюцинации и она стала разговаривать сама с собой. Он обогнал предыдущего рекордсмена на 8 дней, пройдя всю дистанцию за 117 суток. Родители Дерахшани с детства прививали ей любовь к чтению и шахматам. Отдав России земли и реки, которыми практически никто не пользовался, Империя Цин избавила себя от лишних проблем. Нельзя было пользоваться интернетом, телефоном, делать фото и выходить из помещения без специального разрешения. В июле 2017 года в Баку проходил музыкальный фестиваль «Жара»: по красной дорожке проходили Вера Брежнева, Валерия, Иосиф Пригожин, Глюкоза, Олег Газманов и Моргенштерн. В эти времена и начнётся путешествие. В письме говорилось, что мужчина хочет преподавать боевикам английский язык, утверждает телеканал. Теперь, когда мои частные детективы нашли столько информации? Правительство Ельцина проталкивало конституционную реформу, чтобы увеличить полномочия президента, а Съезд народных депутатов во главе с Русланом Хасбулатовым пытался поправками в конституцию РСФСР уменьшить их. TJ с опорой на картину рассказывает, почему расследование неудачного ограбления превратилось в запутанное дело со множеством подозреваемых. Ждал я минут 15. Он был намного эффективнее, дешевле и безопаснее в использовании, чем мышьяк, и по сей день остается предпочтительным крысиным ядом. Против этого выступал мэр города и жители: по их словам, кот стал символом заведения. В России около трёх миллионов человек с таким диагнозом. На ней были приняты пять основополагающих принципов общего процветания народов Большой Восточной Азии, включающие в себя : создание союза азитских стран, изничтожение дискриминации по любым признакам, создание общего экономического фонда, освобождение Африки и остальной Азии от колониализма и в конце-концов, подчинение бывших колонизаторов. «Общество приверженцев распространения учения пророка и джихада» не сразу стало воинственным, но всегда обладало мощной идеологией. Люблю так делать», — вспоминает Хейниц события мая 2010 года. Дружба! Джудит Форари (венгерский медицинский историк) в своих научных работах упоминала о существовании египетских мазей, изготовленных с применением трав, чеснока, ну и, конечно же, порошка, изготовленного из бычьего рога. Расскажите, как давно вы в Ухане и чем вы занимаетесь? Есть пара причин, почему хочется сделать пост уже сейчас: кажется, что всё необычное в России я уже собрал, а когда вижу что-то новенькое в путешествиях, ленюсь привозить. Сейчас же можно только ходить и наблюдать следы распада. Дальше просмотр готового текста и его редактура. Представитель фирмы отказалась разглашать журналистам данные о клиенте, объяснив это политикой конфиденциальности. В 1972 году из-за удара молнии на территории административного здания лесничества загорелись волосы Саливана. Тогда на повестке стояли фальсификации на думских и президентских выборах, а также новый срок Владимира Путина. Вместо этого за его спиной многолетний опыт работы в тяжёлых условиях, когда действовать нужно жёстко и оперативно: в том числе собирать тела погибших, идентифицировать личные вещи или говорить с родственниками усопших. Камель Ахмади родился в Иране в турко-курдской семье. Ветеран подчеркнула, что по местному телевидению очень часто показывают Володина. Однако из-за Covid-19 многие больницы в стране переполнены, и пациентов с порфирией выписывают раньше времени, что может привести к более тяжёлому приступу. Крепостные, попадая на службу к помещице, оказывались словно в паутине, из которой было невозможно выбраться, и становились жертвой хладнокровной паучихи. Оказалось, что при помощи поддельных счетов она взяла несколько кредитов в разных банках на сумму около 200 тысяч долларов. В 2012 году полиция маленького городка Лэйк Чарльз в штате Луизиана задержала 72-летнего мужчину, при себе у него нашли трубку для курения крэка. Оставшиеся без жилья, люди перестали доверять власти, и когда та решила вакцинировать их, в городе неожиданно вспыхнул бунт. По словам представителя полиции Монтерей Джона Торнбурга, Анжеле повезло остаться в живых после такого падения. Детям понравилось. Праздновать Новый год в России 1 января установил император Пётр I в 1699 году, вместе с привычным летоисчислением от Рождества Христова. После пандемийного 2020 года, сильно ударившего по внешней торговле и доходам от туризма, власти решили отказаться от ещё одного наследия эпохи Кастро. В перестройку о гомосексуализме говорить начали, но в связке со СПИДом. История Скрипаля одна из многих в череде исторического противостояния спецслужб СССР, а затем России и Запада. Несмотря на многовековую традицию, представители третьего пола часто испытывают давление и со стороны соотечественников, и со стороны властей и государства. Как говорит Бенфилд, многие думают, что страдающие обсессивно-компульсивным расстройством — это перфекционисты, которые дотошны до любых мелочей. Но только в случае с Кувабарой эта методика дала осечку. Насекомые стали прототипами будущих «карманных монстров», получивших аббревиатуру «покемоны». Авторы: Hoodo (Москва), 2017 и Карим Джаббари (Монреаль), 2017 Школьница делала домашнее задание по литературе и встретила незнакомое слово «Laurel». Тогда же Ягайло издал привилей, согласно которому охотиться в пуще мог только он и его брат Витовт. Работая в типографии, он заметил американский журнал с головоломкой «Number Place». Принято считать, что если человек одинок, то он несчастен или имеет множество комплексов. 1. Если кандидат идет не от партии, можно чуть-чуть подкорректировать паспортные данные в подписных листах, которые он сдал в избирательную комиссию: Материал «Батеньки» — именно про это. Спасатели решили пробурить параллельный к шахте тоннель, чтобы добраться до мальчика в обход, а не напрямую (это грозило дополнительным сходом грунта). Оказалось, что у меня в ушах образовалась холестеатома — проще говоря, это такое опухолеподобное образование, состоящее из омертвевших клеток кожи, кератина и холестерина, которое начинает разрушать всё вокруг себя. Клиенты платили от пяти до десяти тысяч долларов за тренинги, перед прохождением которых подписывали договоры о неразглашении. А споры по поводу их диагнозов продолжаются до сих пор. Задание было несложным. А в 18 сгребла в охапку кота, акварели и уехала жить к однокурснику. Оно и логично, но оно и обидно. И тогда парень нанес ему три точных удара в живот, еще прежде, чем Гудини успел подготовиться к демонстрации своих сил. Споры вокруг того, чем на самом деле был бунт на «Баунти», продолжаются среди историков и деятелей культуры до сих пор. Выбрал не самую дешевую, но в самом центре города — у Зоопарка. Для погружения в мир мы использовали игры, но не только компьютерные. За спиной послышался голос: «молодой человек, остановитесь», я немного оторопел — если эти ребята что-то натворили и меня припишут к ним в соучастники, то будет не очень приятно. Как говорят организаторы, их главная задача — добиться освобождения фигурантов «Московского дела» и прекращения уголовных дел против них. Хорошей «анти-индульгенцией» здесь служит то, что в 1941-1944 годах финны воевали на стороне Германии: значит, и в 1939-1940 годах не всё с ними было так чисто. Благоприятные условия для развития бизнеса нисколько не усыпляли бдительность Джона, он все время \"держал руку на пульсе\" и добивался максимально подробных отчетов от своих сотрудников. Обновлено 6 мая 2021 года: видеохостинг LiveLeak закрылся спустя 15 лет работы. Но у меня есть вариант для себя. Разумеется, рядовой житель островов слабо представлял себе, что происходит. Ниже — его история, рассказанная от первого лица, и началась она ещё в Москве. Мы платно вызвали курьера взять мазок на среду и на следующий день, в четверг, пришел положительный результат. Актёр завоевал доверие и любовь зрителей, став воплощением главного темнокожего супергероя в современной поп-культуре, и подтвердив звание в реальной жизни. 1 сентября 1939 года немецкие войска вторглись на территорию Польши и Вольного города Данцига без формального объявления войны. В русском дубляже балладу исполнил актёр Прохор Чеховской, который озвучивал Лютика. Все эти истории достаточно известны и давно стали важной частью фанатского культа вокруг «Изгоняющего дьявола». При выходе из метро на Площади Революции обычно работают сезонные ярмарки, ходят туристы и москвичи — 30 марта площадь опустела. Благодаря этому я двигаюсь вперёд. Аналогичные восстания в Рыбинске, Костроме и Муроме провалились, а надеяться на войска Антанты не имело смысла. Стоит лишь отметить, что юноши были молоды, прекрасны, наивны, а также находились под мощным воздействием разнообразных эликсиров. Андрес Эскобар играл в футбол с самого детства. По данным источников Bloomberg, работы по освобождению Суэцкого канала продлятся как минимум до 31 марта. Представитель Абердинширского совета Нил Акерман (Neil Ackerman), сообщивший общественности об «уникальной находке» признался, что наука может достаточно точно определять возраст самих камней, но не время их установки. При этом голоса всё ещё подсчитываются, по предварительным данным нынешний президент Йовери Мусевени лидирует с 65% голосов. Революция 1905–1907 годов, вошедшая в историю как первая русская революция, привела де–факто к появлению в России конституционной монархии. Мы стали изучать запросы людей в поисковых системах и анализировать выдачу. ООН и правозащитники потребовали у властей ОАЭ доказать, что принцесса жива, но пока не получили доказательств. На месте быстро собралась толпа. К тому же за бесконечными стойками махровых халатов и уродливых ночных рубашек с цветочными принтами он так и не присмотрел ничего подходящего. Далее полиция переключилась на раненую, потерявшую плод. В первоначальном варианте арт-объект представлял из себя две стеклянные рамы с купюрами, отображавшими годовые доходы австрийца и датчанина. Я как член Р.К.П. сим удостоверяю, что эти два дня она действительно по болезненному состоянию МНОЮ НЕ БЫЛА ОТПУЩЕНА на занятия по разстройству желудка и по повышенной температуре. А началось всё с простой ошибки. Он вступился за семью соседа, которого пришли раскулачивать. Но если вы сидите и наблюдаете за человеком или ситуацией, будьте терпеливы — и заметите пять, десять или даже сто решающих моментов. И каждый раз, когда пастухи пригоняли к нему на водопой табун лошадей, появлялся конь необыкновенного телосложения и масти, который спускался с горной кручи неизвестно откуда, и поэтому пастухи стали называть его «небесным». В 1999 году он начинался как мероприятие для поклонников «Звёздных войн» и вырос практически до русского Comic Con. В 1960-х годах доминиканский президент Хуан Бош даже ввёл ироничное понятие «гаитизации», как характеристику регрессивного развития той или иной страны. Позже выяснилось и имя отца — Уильям Брэдфорд Бишоп-младший. Некоторые физики, в первую очередь Альберт Эйнштейн не согласились с копенгагенской интерпретацией и чувствовали, что ее зависимость от неопределенности показывает, что квантовая механика все еще не является полной теорией. А пока американские солдаты впопыхах покидают Афганистан, оставляя талибам трофейное оружие и припасы, Россия и остальной мир наблюдают за успехами боевиков. С 1979 по 1992 годы в Сальвадоре с переменным успехом велась гражданская война между правительством страны, поддерживающимся Рональдом Рейганом и повстанцами, придерживающимися социалистических идей, именующих себя ФНОФМ (Фронт национального освобождения имени Фарабундо Марти). Сам закон действовал в США с 1969 по 1977 по своду федеральных нормативных актов 14 C.F.R. 1211. Город строился красиво и добротно, по проекту ленинградских архитекторов. Оказалось, что да, но с оговорками. Ее мужа назначили комендантом в печально известный лагерь Бухенвальд в 1937 году и с этого момента Ильза, которую спустя время назовут фрау Абажур, стала держать в страхе весь лагерь. «Ну, погоди!» Я решил поговорить с ним и узнать, что происходит», — рассказал он. Общее число образовательных учреждений в столице — больше ста, включая университеты и международные школы Австралии, Кореи, Сингапура и Новой Зеландии. Речь про настоящий сундук. Именно в этот день папа римский Урбан Второй призвал христиан вырвать Святую Землю из лап неверных. Редко, но вспоминал. Такие эпидемии не требуют отдельных возбудителей, их не всегда можно предугадать и вовремя предотвратить их развитие. Венесуэла отделена от острова проливом, который в самом узком месте составляет всего 20 километров. Позавчера повалил снег, разыгрался буран и за сутки (как вещает в эти дни ТВ, не про нас конечно) навалило месячную норму. История нарушений авторских прав началась в сентябре 2018 года. Также мы должны были создать профиль на платформе для фрилансеров Fiverr. TJ пообщался с инструктором по горным лыжам Антоном Ждановым, чтобы узнать, как проходит обучение новичков, и поговорил с лыжниками разных возрастов о том, почему они выбирают этот спорт, несмотря на травмоопасность. А вдруг это не поломка?! Продюсер Билана Яна Рудковская сидела в зале с бизнесменом и бывшим сенатором от Чечни Умаром Джабраиловым, она попросила его повлиять на Тимати. Все трое — казахи, выросшие в уезде Монголкюре. Согласно легендам, всю ночь духи предков, волшебные существа и чудовища блуждали среди простых смертных. «После проведённых следственных действий в качестве обвиняемой по уголовному делу была привлечена сотрудница департамента. Он родился в 1994 году в городе Коломна, а в шесть лет переехал с родителями в Канаду. За освещение этих проблем Нобелевскую премию мира в 2021 году получила филиппинская журналистка Мария Ресса. В 2013 году частная компания, владевшая островом, обанкротилась. Шахматы появились в Индии (чатуранга) примерно в 5-6 веке до нашей эры, а потом через арабские страны (шатрандж) попали в Европу, где сильно изменились. В 1976 году Паттерсон совместно с биологами Рональдом Коном (Ronald Cohn) и Барбарой Хиллер (Barbara Hiller) основали некоммерческую организацию The Gorilla Foundation, целью которой стало воспитание и дальнейшее обучение Коко. Председательство Мао Цзэдуна во главе Коммунистической партии Китая (1949-1976 годы) стало временем ожесточённой борьбы с противниками режима. Признание геноцида официальная Анкара продолжает трактовать как «провальное решение» и «ничтожную попытку переписать историю». Через пару дней жители города обнаружили ещё двоих животных, одно из которых находится у Маргариты. Ради этого детей во всём мире принялись переучивать пользоваться правой рукой со школьной скамьи. Как президент и председатель Верховного совета он руководит страной уже 28 лет — это самый несменяемый из действующих лидеров постсоветского пространства. И в какой-то момент наткнулся на приложение Headspace. Благодаря в том числе и Вейцману, в ООН большинством голосов приняли резолюцию о разделе Палестины на еврейское и арабское государство. Ноутбук, скоростные поезда, караоке и VHS-кассеты — это лишь несколько изобретений, которые создали в Японии в 20-м веке. Сейчас партнер требует погасить все т.к фирма на нем, а клиенты требуют вернуть деньги из дебеторки. В ряде стран, например, в США, Германии, Австралии, Новой Зеландии, Индии, Индонезии можно зарегистрироваться не только как мужчина или женщина, но и как интерсекс или не указывать пол вообще. Одной из жертв процесса стало Хеттское царство. На тот момент никто не знал, что пожилой мужчина скончался от Эболы. Однажды он проходил мимо Отеля Плаза в Нью-Йорке и услышал как женщина звала кого-то: «Мистер Баффет!», кого-то кто стоял совсем рядом. По версии следствия, он увидел на мониторе оповещение о начале пожара, но закрыл его, отключил пожарную сигнализацию и не вызвал спасателей. В 2019 году обрезанию подверглись как минимум четыре ленты: «Мстители: Финал», «Рокетмен», «Хеллбой» и «Тайная жизнь домашних животных 2». Как говорится в известном меме, было «ничего не понятно, но очень интересно». Даже сам Рютте, руководящий правительством с 2010 года, несколько раз отклонял соответствующие предложения от оппозиционных политиков и религиозных организаций. Мужчина не может устроиться на работу из-за отношения к бывшим заключённым, а государство игнорирует его письма в местные администрации. От отчаяния и страха родители обращались в разные клиники.  Исследование выявило, что в ближайшие 30 лет в Японии не случится землетрясения с цунами, способным серьёзно навредить ядерной станции. Иногда международные соревнования сами провоцировали вооружённое насилие. Сама мысль об отставке белорусского президента многим кажется невероятной. На многих можно увидеть пометки, сделанные при чтении. С вероятностью 95% коммунальные службы без пинка не отреагируют, а никто из ваших соседей и пальцем не пошевелит, чтобы сообщить о проблеме. Газеты описывали костюм как «немного объемнее, чем обычная одежда», который при расправлении напоминал «своего рода плащ с широким капюшоном из шелка». В стороне не остались и ветераны боевых действий — многих из них настолько поразил фильм, что Министерству по делам ветеранов пришлось создать специальную горячую линию. Рикихэй Иногути. Это был первый правовой акт, связанный с этим растением. Бухту сочли идеальным местом для укрытия кораблей. В 2016 году системный администратор в лондонской фирме по имени Крис Монтейру каждый день возвращался домой с работы и занимался своими небольшими интернет-исследованиями. Я хочу умереть. Долгое время он оставался одним из последних скрывавшихся от правосудия организаторов массовых убийств. В итоге победителями в командном многоборье стали гимнастки из России. Из-за проблем со здоровьем её отец не мог работать, поэтому ответственность за семью легла на его жену. Есть люди, которые коллекционируют модели самолетов, есть те, кто ходит в походы. Ещё в те времена, когда был школьником, который ежедневно носит на своей спине 5-7 килограммов груза, я пользовался исключительно рюкзаками. Стоит, если душа лежит только к этому, если вы готовы спасать жизни людей, забыв про себя. Утверждается, что с помощью высокотехнологичных средств специалисты восстановят захваченную информацию без выкупа. В 19 веке, во время колонизации Новой Зеландии европейцами, это помогло туземцам отстоять свои права и сохранить идентичность. Ему удалось сделать не один выстрел, а несколько, полностью разрядив оружие. Она существует с 1993 года и связана с одной из известнейших уличных группировок Bloods. Его отец, Джон Маскелайн, прославился созданием особых замков, открывавшихся, если поместить в них монетку (в начале 20 века эту технологию использовали при создании платных туалетов), а дедушка, тоже Невил Маскелайн, был известным британским астрономом. В его «вселенной» ГДР не только не исчезает, но и сама мирным путём поглощает ФРГ, объединяя немцев в общем социалистическом государстве. По сюжету, Петрова и трое других персонажей составят специальный отряд, которому приказано высадиться в Берлине для ликвидации высокопоставленных противников. Мало того, что туманы вызывали лихорадку, ревматизм и несли с собой частицы сажи от угольных пожаров, туманы Британских островов теперь стали еще более неприятными, ибо ядовитые выбросы из фабричных труб придавали им едкий вкус, неприятный запах и грязно-желтый или коричневый цвет. Работа Хэскока наглядно показала, насколько важен снайпер и его навыки в современных боевых действиях.  В 2015 году депутат Госдумы Александр Хинштейн предложил разрешить отправлять их на производства в сотнях километров от места отбывания наказания. 19.02.1942 Франклин Рузвельт подписал указ № 9066, который подготовил почву для перемещения японцев-неграждан и американцев японского происхождения в лагеря для интернированных. Из-за слишком непредсказуемых последствий для обеих сторон. У режиссёра-вундеркинда и талантливого сценариста неоднократно возникали творческие разногласия, которые вылились в спор об авторском праве на сценарий. Это действительно так – организм человека меняется в условиях самоизоляции. Дилия неожиданно стала режиссёром такого проекта. Иногда, я просыпался за несколько часов перед началом занятий в колледже, чтобы снять восход солнца. В 2018 году работники проектно-учебной лаборатории образовательной и молодёжной журналистики ВШЭ провели онлайн-опрос и выяснили, что 70% учителей становились жертвами травли со стороны учеников. Однако история «католических концлагерей» ещё не изучена до конца, и расследование длится по сей день. Из 30 миллионов вакцинировались три миллиона, но только первым компонентом — они не могут получить вторую дозу из-за нарушения поставок из Индии. Темнокожие пережили рабство и террор, и их положение стало основательно улучшаться лишь несколько десятилетий назад. Выполняет функцию средней общеобразовательной школы и мусульманской духовной семинарии Несмотря на это, полиция и власти считают программу ценным инструментом по поиску пропавших. Задача автора — выдернуть героя из зоны комфорта. Сейчас компания «Ростагроэкспорт», главой которой был Борис Александров, производит более 450 наименований молочных и молокосодержащих продуктов. А когда это всё-таки удалось, шум вокруг преступника оказался столь огромен, что породил подражателей и прочно закрепился в общественном сознании. Дальнейшее расследование выявило проблемные стороны ДНК-тестов, которые, несмотря на точность, приводят к ложным обвинениям. Последним ушёл из жизни 43-летний Павле Йованович — участник сборной США по бобслею Олимпиады 2006 года повесился 3 мая 2020 года. Задержанного журналиста затолкали в тот же автомобиль, заставили лечь лицом в пол и выключить видеотрансляцию. За этот косяк снимали рейтинг, и пользователь опускался вниз при поиске по людям. Сначала женщина считалась несвязанной с преступлением, но позже детективы засомневались в её непричастности к нападению. Но на помощь ему пришли другие страны Африканского Союза (АС), которые сформировали военную коалицию, освободившую Анжуан от власти полковника. Например, такой же календарь пришёлся на 1943, 1971, 1993, 2010 и многие другие годы. Интуиция не подвела девушку, за вандализмом стояли пять подростков 16-17 лет. «Родители хотели, чтобы я надел пиджак и поехал с ними в деревню, но я хотел ходить в спортивном костюме и бездельничать на природе. На ЛГБТ-активистку Юлию Цветкову завели третье административное дело о гей-пропаганде за рисунки однополой пары с ребёнком. Однако в Белом доме полагают, что это очередной способ правительства Ирана обманом освободиться от санкций, чтобы удержать власть, а не помочь своим гражданам. Доля порнозависимых граждан в США по разным оценкам составляет 5-8%. Также противникам строительства Храма противостояли бойцы, ЧОП, полиция, а на следующий день и ОМОН. 6 июля 2017 года в Лос-Анджелесе от инсульта скончалась 95-летняя супруга сценариста Джоан. Сначала Антоненко боролся с бюрократией местных властей, которые направляли его в разные инстанции из-за отсутствия регистрации в квартире. 22 мая 2017 года Зак Снайдер, создатель и главный идеолог Расширенной киновселенной DC, объявил об уходе с поста режиссёра «Лиги Справедливости». Выйдя на балкон, они увидели машину и людей «в шлемах со щитами», которые «избивали какого-то парня, а потом пытались затолкать его» в салон. Как появилась идея создания музея кино? Маршалл нашёл выход — он дал сотрудникам поручение найти в городе голубятню. Полная версия текста Когда-то для знакомства с мифологической изнанкой России хорошо подходили романы Виктора Пелевина. Однако в администрации города активистов подозревают в «маргинальном» и пагубном образе жизни, который лишь навредил строению. Для выздоровления ребёнок проходит длительное лечение, которое предполагает большое количество сложных процедур, поэтому наличие няни — это залог, что ребёнок получит шанс на выздоровление. В оккупации эти люди прожили от двух до трёх лет. Последний раз мальчика видели там в 5:00 по местному времени — в 8:00 в палатке уже никого не было. Пожалуй, Шанхай из всех посещённых мною мест оставил самые сильные впечатления, причём в первый же день — с них и начну. Марии 23 года, и почти 3 из них она посвятила производству пива, что делает ее одним из самых молодых пивоваренных специалистов в России и, вероятно, самой молодой девушкой-пивоваром в стране. Члены племени контактируют с другими такими же народами или изредка с представителями внешнего мира — туристами, учёными или рабочими, которые находятся на территории племени. В голове мысли: «Сейчас урегулируем все вопросы в течение недели и поедем забирать машину в выходные». Здесь прошло моё детство и до сих пор проживает почти вся семья. Если выйти на улицы китайских мегаполисов 11 ноября, то вероятность встретить толпы торопящихся куда-то курьеров или улыбающихся молодых пар многократно увеличивается. Процесс политизации начался после краха Российской империи. Коллекционер активно участвовал в «охоте», отвечал на тысячи писем и приглашал в гости особенно азартных искателей — и без скандала с обвинением в домогательствах не обошлось. Кстати, знали ли вы, что налоги тесно связаны с половой жизнью (об этом чуть ниже)? Он готов примерять на себя роли маргинальных и болезненных личностей, участвуя в картинах Дэвида Кроненберга, Дэвида Мишо или Роберта Эггерса. Ей и её товарищам пришлось выдержать не только тяжёлые условия содержания, но насилие высшего руководства. В 2015 году женщина по каким-то причинам перестала включать оперу, однако возобновила прослушивание музыки осенью 2017 года. В ней 22-летний студент Московского университета призывал истребить всю императорскую фамилию, после чего жизнь в стране должна обязательно наладиться. Эту бумагу мы привыкли видеть и сейчас, так как мягкая бумага оказалось тем самым, что все искали. По данным социологических опросов, риторика Байдена выглядит убедительной, а к концу июля рейтинг политика оторвался от Трампа почти на 10%. Кратко о темах разговора: Ещё несколько тысяч остались парализованными из-за поражений спинного мозга и патологий нервной системы. «С их помощью они как бы перешагнули колючую проволоку», — говорила Маркова. И задолго до того как Nike стала Nike. Как убедиться, что тебя лечат правильно, а не попросту выкачивают деньги на бесполезные процедуры? В апреле 1921-го вступил в коммунистическую партию и первым же его местом работы стал 62-й батальон войск Всероссийской чрезвычайной комиссии по борьбе с контрреволюцией и саботажем в Ставрополе. В 536 году нашей эры тревел-блогер Прокопий Кесарийский прибыл в Италию с миссией: рассказать о возрождении Римской империи и полакомиться пастой. Он даже самостоятельно «лечился» от гомосексуальности, чтобы «подтвердить свою гетеросексуальность».  Но сейчас мы будем рассматривать только её небольшую часть — метрическую систему мер. Ровно так же, как это было с его отцом, дедушкой и так далее. Посещение служб заболевшей женщиной привело к тому, что последователи церкви разнесли коронавирус по всему городу и за его пределы — за это десятки тысяч людей требуют расформировать организацию. Вызываю лифт и жду. Казалось, что он сделал всё, чтобы исчезнуть, просчитавшись только с самым последним этапом. НЕ спРашИВай зАчЕМ оЧЕнь жду.) На государственную службу Андрей Липов поступил в 2008 году. В 2000 году жительницу Лондона Рут Миддлтон (Ruth Middleton) сбили мотоцикл и такси, пока она шла по Вестминстерскому мосту. На начало ремонта одну из комнат и балкон я уже отремонтировала в 2016 году и в расчёт не беру. И хоть главным героем произведение был отнюдь не автор, однако его“Я” все равно присутствовала в каждой строчке и в каждой букве, описывающей мысли главного героя. Пользователи критиковали их за халатность, с которой они изучали животное.  За 15 долларов школьникам и родителям пообещали пиццу и общий просмотр фильма. Есть одноэтажные домики и высокие небоскрёбы, но кто в них будет жить? Ради гробов уничтожаются ценные породы дерева, металлы распадаются на ядовитые соли, которые, согласно исследованиям учёных из университета ЮАР, вредят растениям. Журнал GQ подробно изучил, как молодой человек завоевал славу профессионального похитителя искусства, движимый целью создать собственную сокровищницу. И со свойственной юности смеси максимализма и наивности, я захотел это дело поправить. Другой рабочий на той же смене пять раз посещал врача со странными симптомами, после чего ему диагностировали серьёзное повреждение почек. Проблемы с Международным аэропортом начались ещё на стадии проекта. Жители деревни держат скотину — в основном кур и коров. Этот процесс был запущен после 2011-2012 г. и сегодня дошел до того, что почти треть нарушений на карте «Голоса» — это принуждение к голосованию через работодателей. Приехавшие сотрудники потребовали прекратить их видеосъёмку, заявив что это «запрещено законом». Так, в 1963 году между двумя недавно получившими независимость от Франции североафриканскими странами: Морокко и Алжиром состоялся пограничный спор, - Морокко заявило о своих претензиях на алжирскую провинцию Тиндуф. Начались репрессии, людей арестовывали и высылали целыми семьями, без суда приговаривали к длительным заключениям. Все попытки оказались неудачными и в итоге привели к гражданской войне, начавшейся в 2004 году и до сих пор не закончившейся. Очевидец, который вызвал полицию, рассказал Metro, что в момент разрушения строитель «смеялся и делал фотографии». В условиях борьбы двух систем (капитализма и социализма) США стремились к идеологическому превосходству над СССР. Пока китайские спортсмены старательно зарабатывали для своей страны золотые медали, метеорологическая администрация пристально следила за погодой. В этом тексте я рассказал о самой чудовищной (и одновременно прекрасной) поездке. Наводя ужас на протяжении нескольких лет, Зодиак в итоге исчез, оставив полицию с ворохом зашифрованных записок и вопросом, кто же всё-таки скрывался за его маской. Такая относительно небольшая цена объяснялась затратами, необходимыми для поддержания работы бункера. С момента смерти тело Брейди хранилось в морге, и патологоанатом отказывался отдавать его, пока ему не предоставят гарантии, что труп будет захоронен не на болотах Сэддлуорт. Игроки Национальной футбольной лиги (НФЛ) — те первопроходцы, которые обнаружили, что после первого же вдоха данное вещество способно моментально дать встряску всему организму, схожую с выбросом адреналина, но нет никаких доказательств тому, что уровень физических показателей спортсменов может возрастать. Мы почувствовали, что обсуждая с коллегами из других стран то, как они проходят через это испытание и относятся к ситуации, какие меры принимаются в их странах, нам становится чуть легче переносить ограничения. Формат свободный — от простого текста до серии фото, видео, комикса или наскальной живописи. «Таким странам как Швеция нужно сокращать выбросы не менее чем на 15% ежегодно, если мы учитываем аспект равенства и справедливости в отношении климата», — писала девушка. Как такое может быть? По словам Ивана, в тот вечер он отработал смену в хосписе на Долгоруковской, 30, после чего отправился к метро Театральная. Натянула на голову чулок с прорезями для глаз, а на ноги – бахилы. На Западе такой перерыв называется саббатикал, и изначально это история о том, что ты уходишь в долгий (от одного месяца до года) отпуск и возвращаешься назад в ту же компанию. Дело в том, что я был (да и остался во многом) достаточно беспокойным ребёнком — моё шило в положенном месте нередко давало о себе знать. Историю поисков «идеального» детектора лжи рассказало издание The Guardian. Из официальных — в политехе, но как бы не до конца. Однако Кеворкян перешёл черту, когда в программе «60 минут» включил видеозапись со смертью Тома Юка, 52-летнего бухгалтера, страдавшего от тяжёлой формы бокового амиотрофического склероза или болезни Лу Герига. Да и секретарь комиссии была настроена не самым дружелюбным образом, перебивая с характерным учительским \"Подождите!\". Живое знакомство с инструментом желательно: стоит оценить, как гитара лежит в руках и звучит. В США разрабатывался подобный вертолет фирмы Сикорского S-67. Но современные исследования указывают на то, что зона отчуждения не настолько разрушительна к экосистеме, как считалось. Тогда же владелец книги узнал, что несколько первых изданий продали на аукционе, поэтому он решил проверить свой экземпляр. Помимо дела «Бессмертного полка» в этом году возбудили еще два дела за посты с оправданием действий нацистов в социальных сетях. Но так как я довольно ленивый, обязанность по поиску жилья перекинул на своего будущего соседа из Киева. Этот рисунок включили в табличку, которую установили на аппараты «Пионер-10» и «Пионер-11». Мать - Евдокия Яковлева Зеленина, 36 лет, из деревни Зелениной, Ермоловской волости того же уезда. Поэтому мне бы хотелось осветить один очень милый эпизод из его жизни. Короче, в письме они потроллили Microsoft. Император Хирохито, дед нынешнего правителя, начал руководить страной ещё перед Второй мировой войной. «Можете себе представить степень возмущения наших туристов, это очень тяжёлая, в общем, ситуация. Автор привёл в материале неправильные пароли из соображений безопасности. 8 марта Басманный суд Москвы арестовал 17-летнего школьника А.Г. (Би-би-си изменила инициалы) и студента Абдулазиза Абдулазизова, которые живут в Петербурге и давно общаются друг с другом. Нюанс в том, что два дня назад стало известно, что сразу шесть футболистов основного состава «Ростова» сдали положительный тест на коронавирус Covid-19. Я хочу познакомиться». Поэтому я был сильно удивлен увидев толпы людей в библиотеках Сингапура. Нетерпимости способствуют и регулярные высказывания спортсменов, поп-исполнителей, представителей РПЦ и политиков, делая опасной жизнь не только самих гомосексуалов, работающих в сфере секс-услуг, но и всего российского ЛГБТ-сообщества. Я закончил школу в 2018 году. Героиня финального эпизода пятого сезона «Чёрного зеркала» Эшли О — талантливая певица, чьи треки моментально становятся хитами. Ещё одно «первое» выступление Кобзона в 1962 году на «Голубом огоньке» — с песней «А у нас во дворе». Молодёжь вступает в криминальные группировки, не видя другого способа добиться успеха в жизни, и делит зоны влияния при помощи холодного оружия. «Церковь объединения» приняла решение всё же устроить праздник, но предпринять меры предосторожности. Что удивительно, в эту группу регулярно попадали какие-то люди и просили сделать свою простенькую фигню. Треть, иногда половина, жителей были чернокожими: через орлеанские порты и дальше — вниз по Миссиссипи — на невольничьи рынки поставляли рабов со всего западного побережья Африки. Командование объявило о немедленном прекращении тренировок и эвакуации. Это Саамская земля с множеством озёр и жёстким климатом, где зима длится 7-8 месяцев. Гость напоминает случайно заглянувшего американского туриста, но зал моментально взрывается аплодисментами. Концепция проста — неизвестная инфекция превращает людей в хищных ходячих мертвецов и быстро вынуждает выживших покинуть свои дома в поисках убежища. А также первые в мире задние фонари из поликарбоната, встроенные в задний бампер. О внутренней «кухне» токийского хранилища и тонкостях его работы японец рассказал изданию The Japan Times. Недовольная отношением властей Македонии к себе местная албанская диаспора после конфликта в Косово и притока беженцев оттуда в начале 2001 года начала кровавое восстание и спровоцировала гражданскую войну, затянувшуюся почти на год. Степан, помня, что дочь сидит на коленях у жены, затормозил значительно мягче, чем следовало бы, и его «Жигуль» остановился, сильно ткнувшись в заднее крыло «Волги».  Дворянское звание и титул были лишь тонким наслоением цивилизации, и зачастую не мешали (и даже помогали!) рыцарю проявлять крайнюю жестокость как на войне, так и в быту: от избиения жены до пыток монахов. Возможно, вы читали мои отчёты, но в бег я пришёл совсем недавно. Следователи выяснили, что это мужчина ростом около 1,75 метров и возрастом до 30 лет. Занятие сексом я себе не представляю так часто. При ударе о Землю он выработал энергию, сравнимую со взрывом 250 тысяч атомных бомб, аналогичных той, что сбросили на Хиросиму. Человека, о котором идет речь, звали Джозеф Зада. Он останавливает ваши попытки сделать всё идеально, и подталкивает к тому чтобы сделать по-другому. Она была вторым ребёнком в семье таксиста Митчелла и фармацевта Дженнис Уайнхаус — потомков евреев из российской империи. Всем и каждому. Постоянно читая Библию, Кэмпбелл уже в школьные годы обнаружил поразительное совпадение индейских мифов с библейскими мотивами: за что, естественно, только схлопотал от набожных родителей за абсолютно кощунственные мысли. То ли собрание ещё не началось, то ли его уже разогнали, я так и не понял. Р – решка. В 1955 году Министерство обороны Великобритании составило секретный отчёт о возможных рисках в случае ядерной войны с СССР. При родах я немного позадыхался: получил 7/10 баллов (или тройку с плюсом) по шкале Апгар из-за кислородного голодания и чего-то там ещё.  Евгений Александрович, как ваша школа пережила учебный год в пандемию и с каким настроем вы встречаете год грядущий? Родители Джесси Джеймса, оба уроженцы Кентукки, познакомились летом 1841 года. Открытие фирменного магазина в центре Москвы, телезвёзды и топовые блогеры на презентации компании, реклама в шоу «Голос» — LeEco буквально открывала дверь в Россию с ноги. Основные источники статьи: Операция завершилась лишь 10 июля, когда из пещеры вывели последнего ребёнка и 25-летнего тренера. Её отец был военным чиновником. От 10км для новичков и тех, кто хочет пробежаться только по асфальтовым дорогам Суздаля, до 107км для самых стойких ультрамарафонцев, которых не пугает расстояние, июльская жара и маршрут гонки. Возможно, просто прикусил его на тренировке. Проект начинается с идеи и людей, которые хотят её реализовать — команды. В последний раз он играл в любительской лиге в 2015 году, но тренировался с местной командой АХЛ, при этом заливая им лёд по основной работе. У большинства людей новогодние праздники в первую очередь ассоциируются с ёлкой: процесс поиска и украшения хвойного дерева давно превратился в предновогодний ритуал. Также есть сомнительного происхождения диплом переводчика — получал двойное высшее образование. В 21 веке секс-игрушки пытаются оснастить искусственным интеллектом, наделяют характером и адаптируют под желания разных клиентов, а некоторые из них — на пути к замене живого партнёра. Решали проблему неудобства очень просто: брали первую попавшуюся палку или кость, а затем ковырялись выбранным инструментом между зубами. Я родился в Кабардино-Балкарской Республике в городе, который называется Прохладный. Всё свободное время юноша рисовал акварельные картины и чертил эскизы, надеясь, что когда-нибудь его талант заметят. Президент города Франтишек Кольбуш дал распоряжение нанести на крыши больниц «знак красного креста на белом фоне». Налив себе чашечку кофе, я открыл карту и начал размышлять, о том, в каком районе нужно снимать квартиру. Смертная казнь — одно из древнейших наказаний, знакомых человечеству. Два года спустя в погоне за карьерой к нему присоединился 20-летний Дирк Шлегель — они дружили и увлекались футболом с детства. В 2014 году в Самаре открылась «Поэтическая Мастерская», идея создания которой принадлежит поэту Роману Мнацаканову и организатору развлекательных мероприятий Александру Максимову. У России под рукой не было океана, зато были многочисленные пространства для территориального расширения. Более стойкими оказались духи низшего порядка, пережившие своих «старших товарищей» и глубоко укоренившиеся в русском фольклоре. По данным СМИ, с подростковых лет исполнители сталкиваются с жёстким обучением и агрессией менеджеров, которые контролируют весь распорядок дня. Журналисты запечатлели как минимум два танка «Абрамс» и две армейские гусеничные платформы «Брэдли». Ощущение, будто его в последний момент вытащили из пасти какого-то животного, которое не сумело его прожевать. Кстати, лайфхак! Его семье — жене и детям — поступили угрозы. Не собирался гулять, просто небольшой крюк дворами, не знаю, музыку наверно хотел подольше послушать. И для того, чтобы стать Сталиным ему пришлось пройти максимальную «школу жизни», которая почти целиком состояла из тюрем и ссылок. В пятидесятых Уолли Воджек купил ранчо The Jack and Jill Ranch, а в семидесятых дал ему новое имя Double JJ Ranch Resort, которое в 2009 году сократилось до нынешнего Double JJ Resort, где в 2008 году с подачи джем-группы «The String Cheese Incident» и прошёл «Ротберийский Фестиваль», изначально ориентировавшийся на джем и рок-музыку, но уже тогда собравший 30 тысяч человек. Это баловство, конечно, но кто знает, что именно стало началом начал? Такой должна была стать «Девушка с татуировкой дракона» с Руни Марой и Дэниэлом Крэйгом в главных ролях. За почти 30 лет жертвами «бригады» стали более 20 человек, и бандиты заработали на них сотни тысяч долларов. В те годы идея казалась перспективной, но вторичной — все силы американцы бросили на покорение Луны. Вся часть всё знает, но все молчат в тряпочку. Когда медиаменеджер позвонил в контактный центр банка, то ему сообщили, что не совершали звонков. По мнению Зырянова, мюсли можно заменить на овсянку и тёмный шоколад, а чипсы и попкорн — на капусту, потому что она тоже хрустит. Третьи называют себя «ревнителями Православия» и готовы прибегать к нехристианским методам достижения своих целей, вплоть до раскольничества – одного из страшнейших грехов в православии. Российская полиция задержала мужчину по запросу властей Объединённых Арабских Эмиратов, который получили по линии Интерпола. Полицейские с собаками искали девушку с 28 марта, к ним присоединились волонтёры и мама Брюстер. Их ищут с помощью собак, сонара и дронов. В 10:01 он оторвался от земли и направился в Дюссельдорф, где должен был оказаться через полтора часа — в 11:39. Демонстрацию простых тружеников под красными знамёнами и с портретами Ленина в руках расстреляла своя же советская армия. Консервативное издание The Federalist подробно разбирало ошибки писательницы. Однако окончательно она пока не закрывается, потому что на ее счет поступают средства: некоторые жильцы до сих пор выплачивают рассрочку за квартиры. Шествие препятствовало работе не только журналистов. В 2008 году канадка Донна Пеннер отпраздновала свадьбу одной из дочерей и начала готовиться к своему 45-летию, когда столкнулась с обильным кровотечением во время менструации. Успешная попытка на то и успешная, что задумка остаётся нераскрытой, а человеку, несмотря на странности и подозрительность его кончины, удается прожить новую жизнь неузнанным. Но Оливеру не понравилась одна деталь: одна из остановок в туре по продвижению книги была в штаб-квартире организации «Фокус на семье». Я с удовольствием составила ей компанию и даже попробовала сделать пару спусков сама. Каждый год объем утечек данных вырастает в несколько раз, несмотря на все меры предосторожности. Его хорроры становились остроумными метафорами общества потребления, милитаризма и влияния новых медиа. Государство «не видит» проблему, поэтому в стране нет соответствующей базы: ранней диагностики, обученных специалистов, адаптивной инфраструктуры и так далее. Варшава в свою очередь заручилась поддержкой Англии и Франции, но не до конца осознавая масштаб конфликта. Когда США вступили в войну, президент Coca-Cola Роберт Вудрафф приказал «проследить, чтобы каждый человек в форме получал бутылку колы за пять центов, где бы он ни находился и чего бы это ни стоило компании». Он буквально отмахивался руками, как только я пытался узнать у него какие-то подробности. Вероятно, это связано с тем, что Гейси обвинили в убийстве 33-х мальчиков в 1980 году — за год до того, как Кинг начал писать роман «Оно». Об издании Doxa написали многие общественно-политические издания в контексте «Московского дела» как о новом либеральном медиа, которое выросло из студенческого сообщества. Сегодня я напишу об одном чрезвычайно важном решении. В 2007 году Рассел начал проникать в дома молодых девушек и детей, которые жили неподалёку. Вместе с этим в стране уже долгое время продолжает падать рождаемость, а среди молодёжи популярны самоубийства и смерти из-за переработок. Это намного выше среднего диапазона от 15 до 25 Гц синих или сельдяных китов. - Правда. На вопросы отвечают: На восточном направлении его внешней политики он активно пытается военным путем под свой контроль многочисленные ханства – остатки Золотой Орды. Но там пообещали руководящую должность и повышение зарплаты. Мне очень хотелось поскорее вручить их имениннику, я предвкушала, как он удивится и обрадуется, — ведь дата концерта совпадала с днем его рождения. Компанию объединяла общая любовь к выпивке, девушкам и неординарному времяпрепровождению. В 1985 году у жительницы китайского города Сиань Ли Цзинчжи и её мужа родился сын Мао Инь. Быть хладнокровным – это значит всегда и во всем оставаться господином над собой. Своё детство близнецы провели за игрой в Dungeons and Dragons и просмотром «Бэтмена» Тима Бёртона. Неспроста на этот счёт постоянно ведутся споры, включая дискуссии об «истинном» создателе радио или лампы накаливания. Пройдя рамку металлодетектора, я встретил женщину в белом халате с бесконтактным термометром, которая измерила мою температуру и объяснила куда идти. Президентские выборы в Египте пройдут с 26 по 28 марта, но граждане слабо верят в перспективы. Шах Мохаммед Реза Пехлеви считался проводником американских идей в Иране. За это время город прошёл путь от маленькой колонии до столицы могущественной державы. Тиндер, очередной свайп вправо (или влево, не помню), взаимный отклик, общение, встреча. Станислав Лем — это один из самых известных польских фантастов и философов.  Bubble обещают выпустить блокбастер, который будет балансировать где-то между Marvel и DC и откроет собой первую российскую киновселенную. Да, два года никто не замечал, а тут — здрасьте. Она путается в двух пунктах меню, и ей каждый раз приходится заново рассказывать, как работать с телефоном. Сначала я как-то не болел выборами, а потом, 13-го числа, поинтересовался у врача. В 2018 году 31-летний предприниматель и руководитель хостела в Остине Брент Андервуд вместе со своим другом Джоном Биером купил заброшенный шахтёрский город Серро Гордо за 1,4 миллиона долларов. Иностранные студенты множества стран не могут попасть в Россию на учёбу из-за ограничения по списку стран, ссылка на который отражена по заявлениям сотрудников Минобрнауки в алгоритме организации работы в отношении иностранных обучающихся, прибывающих в Российскую Федерацию в целях обучения. Его отец — дорожный инспектор — много выпивал и был, по словам Макафи, «очень несчастным человеком». Подобный принцип используется и на Международной космической станции. Кинематограф начал стремительное шествие по свету, операторы фирмы Люмьер отправлялись в длительные командировки. Два года спустя в Госдуме декриминализацию домашнего насилия назвали «чудовищной ошибкой», однако никаких существенных изменений в российском законодательстве не принято. Барышников-старший был человеком жестким, с крутым нравом. В руководстве армии отказались от общей полевой кухни в пользу индивидуального набора пайков, в который и входили консервы, а также галеты, таблетки для обеззараживания воды, спички, туалетная бумага, жевательная резинка и сигареты. А на практике от них перетряхивает. 30-летняя Элиз Кристи — часть британской команды по шорт-треку, участвовавшей в двух предыдущих зимних Олимпийских играх. Несколько лет гангстеры при помощи местных продажных чиновников держали Мичоакан в страхе. За остальные города нашей Родины я не уверен. Добычу закончили уже в СССР, примерно в 1935 году, а два года спустя НКВД использовал шахты совершенно по-другому. Одна из причин — импортозамещение. Покуда эта ситуация не изменится, за помощью в его компанию будет обращаться всё больше людей. Символом того времени стала Кристиана Фельшеринов — старшеклассница, автор и главная героиня книги «Мы, дети станции Зоо», ставшей бестселлером и откровением для всей Германии. Я человек неконфликтный, хотя и эмоциональный и тогда эти предупреждения мне казались странными. Дочь Рабасы занимается программированием с семи лет.  НТВ также выпустил короткий профиль тогда ещё 45-летнего Путина, рассказывающий о его пути от студента юридического факультета до главы российского правительства и о влиянии на его судьбу отношений с Анатолием Собчаком и Анатолием Чубайсом. Пару лет назад жене на работе подарили наборы Lego, а когда мы его собрали, вспомнилось увлечение и проснулась страсть к этому. Поэма «Черный человек» стала квинтэссенцией болезни и мучений Сергея Есенина. «Единая Россия» и её союзники используют бюджетные деньги для проведения выборных кампаний, массово скупают маргинальных личностей и неответственных граждан и безнаказанно нарушают выборное законодательство. Обложка с вооружёнными Матроскиным, Шариком и почтальоном Печкиным, а также предисловие задают определённый настрой. Все эти события не мешали жизни квартала, никогда не знавшего отбоя от гостей. Владимир Андрианович Чертилин, бывший техник 900 истребительного авиаполка, ныне проживающий в городе Уральске, делился воспоминаниями о своих товарищах и коротком разговоре перед вылетом с лейтенантом Николаем Сериковым. Повезло относительно: из-за жуткого расписания шаттлов и перекрытых дорог ни у меня, ни у иностранных болельщиков не было другого выбора, как идти пешком до «Ростов-Арены» около 6 километров. Программа приглашает учителей переехать из больших городов в глубинку, чтобы помочь детям получить достойное образование. Зато улыбающимися рожицами увешан салон автомобиля. Мама вылетела из своего сидения и побежала к мужчине в конце салона — он сидел головой вниз с кожей зелёно-синего цвета. Воспитание —сложная задача, но что если апокалипсис действительно наступит? И, конечно, некоторое финансирование. На деле за оригинальной концепцией стояла Элизабет Мэги — активистка, желавшая обличить проблемы капитализма. Наш дивизион зачем-то с утра выгнали в парк военной техники, не поставив при этом личному составу никаких конкретных задач. Подробности необычного явления выяснило издание Gizmodo. Оказалось, что после отъезда в СССР учёный подозревался в покушении на революционера Сергея Кирова, возил тачку с грунтом на Колыме и работал в «шарашке» – НИИ тюремного типа под контролем НКВД. Они работают во многих сферах: устраивают свои фестивали под названием Head In The Clouds, выпускают дизайнерскую одежду, запускают своё кулинарное шоу и сотрудничают со многими артистами из совершенно разных стран. И тогда мне пришла в голову ещё более гениальная идея: сделать сыр. Интерес зрителей и критиков к фильмам Малика не угасает и по другой причине — он постоянно экспериментирует над возможностями киноязыка. И тут, как говорится, ПОПЕРЛО. На судне, по утверждению издания, находились крысы-людоеды, которые «съели тех, кто был на борту». Перед тем, как я попал в «Игру на выживание», у меня где-то полгода была жёсткая депрессия. Я спросил, за что, а она ответила: «Ты играешь на пианино, а у меня мама плохо спит». Так что же такое православие, как оно появилось, почему сначала прижилось в России, а потом его пытались уничтожить? 15 лет назад, когда я училась у него в школе журналистики, он был необъятный, кудрявый, не очень опрятный, но очень харизматичный. TJ рассказывает, какой запомнят «мэра здорового человека». а также устройство в виде льва в натуральную величину. Издание TIME приводит одну из теорий, почему задумали именно такую операцию: высокопоставленные чиновники и агенты СССР якобы проводили переговоры в местах, где гуляют кошки. Историю юношей и их потомков подробно рассказало издание Би-би-си. Вскоре после она исчезла, но только чтобы появиться по северокорейскому телевидению, а затем вновь пропасть со всех радаров. После этого все начали готовиться к отлёту. Жители страны продолжают стареть и умирать, не имея наследников. И вот, как я этого добивалась. Поэтому в царские времена туда отправляли в ссылку декабристов, коммунистов и сочувствующих, именами которых наверняка названы пара-тройка улиц в ваших городах, а в советские – открыли там ВятЛаг (часть Гулага), и стали отправлять туда уже всех подряд вообще за всё. С 2012 года его правнук Денис Карагодин собирает информацию о тех, кто участвовал в фальсификации обвинений против его прадеда. Филипп был персоной знатной, и поэтому имел целую дюжину охранников. В 2014 году глава Tesla связался с главным и выпускающим редакторами сайта — Болтоном и Беркли. Спустя два дня у Буры начался отказ от еды и разовый кровавый стул с последующим истощением, мы регулярно ходили на уколы, инфузии, сдавали анализы, делали исследования УЗИ, придерживались всего назначенного «лечения» в клинике «Астин». Я крайне негативно настроена по отношению к турецким и азербайджанским властям. Разговоры о гуманности казни поднимаются в обществе регулярно, особенно на фоне расследований ФБР, которые подтверждают невиновность осуждённых или выявляют многочисленные ошибки в расследованиях преступлений. В школах и колледжах находится много избиркомов, их комиссий в основном — сотрудники этих образовательных организаций. Его называют мастером малобюджетных хорроров и научно-фантастических картин – он не только снимал полуночные фильмы о противостоянии с силами тьмы, но и был одним из виднейших пионеров синтезаторной музыки. Пользователи Твиттера назвали её «обнажённой Афиной». Военные, чекисты и прочие исполнители приступили к операции поздней ночью, а уже рано утром команда к экстренному сбору поступила непосредственно гражданскому населению. В центре города его окликнул неизвестный и ударил сзади назвав «спидозным п****** (геем)». На исходе эпохи Застоя такая история произошла в Советском Союзе. Буттиджич родился в 1982 году в городе Саут-Бенд, штат Индиана, в семье преподавателей европейской литературы Университета Нотр-Дам. Разберём сие действо по полочкам.  Проходишь в салон, садишься на свое любимое место. Однако в самом Китае власти более 30 лет скрывают от сограждан правду о случившемся: сайты, рассказывающие о побоище, блокируются, а люди, активно интересующиеся этими событиями, попадают в поле зрения силовиков. Большинство детей, которые обучаются в Акшаре, до открытия школы работали в местной каменоломне, зарабатывая около 2,5 долларов (162 рубля) в день. Затем начнётся приготовление, которое занимает около пяти минут. Хотя многие торговые дороги, по информации археологов, существовали ещё до Бронзового века, эта дорога осталась самой важной для человечества. В середине 19-го века в штате Пенсильвания появилось поселение, построенное вокруг двух открытых шахт, в которых добывали антрацитовый уголь. В 1919-м его арестовали в Одессе и чуть не расстреляли – спасло вмешательство кого-то из влиятельных государственных деятелей. Опустим тонкости, как это происходило. Помимо права легально развозить пассажиров на собственном автомобиле (то есть не отдавать часть дохода за аренду), обладатель лицензии получал в собственность устойчиво дорожающий актив. По данным полиции, в течение восьми лет он совершил больше 250 ограблений на общую сумму в 260 тысяч долларов. Принято считать, что первый случай заражения ВИЧ в мире зафиксировали в 1981 году. Естественно, я начал изучать все возможные материалы по разным видам закаливаний, гимнастик, питанию и т.д. По сути в автохроме основное изображение было чёрно-белым,а слой цветных микроскопических гранул, выступая в роли своеобразного цветного фильтра при просмотре на свету преобразовывал чёрно-белое изображение в цветное. TJ пообщался с ними. Именно благодаря им он занялся поиском бежавших фашистов. Для создания первого советского атомного проекта было принято решение копировать американский прототип, который доказал свою эффективность и работоспособность на практике. В итоге Сталин вместе с Каменевым, Бухариным и Зиновьевым признали Троцкого предателем, убрали со всех постов и заставили уехать в Мексику, где с ним случились известные события. Из-за этого организаторы перенесли акцию на Пионерскую площадь к Театру юных зрителей. Годами мелкие банды похищали людей и требовали выкуп за их освобождение у родных, а когда те платили, преступники требовали ещё и ещё, а потом пропадали, часто убивая жертв. Далее все зимние фото автора, если без указания источника. По их мнению, этот метод не решает проблему, а усугубляет её, а педофилы вместо полноценного лечения получают лишь риск развития инсультов и инфарктов. В 1881 году из кожи одного из казнённых за убийство двоих помощников шерифа якобы сделали ботинки, пишут авторы книги «Камера смертников All Stars: история бейсбола, коррупции и убийства». Чем и пользовались бывшие нацистские и фашистские функционеры. Вскоре её родители покинули советскую Армению и переехали в Иран, где занялись бизнесом. «Джильи» Мартина Бреста – история об отношениях между недалёким гангстером Ларри Джильи (Аффлек) и киллершей-лесбиянкой Рики (Лопес), следящими за слабоумным братом окружного прокурора. Полиция северного Квинсленда работала вместе с местными жителями, которые рассказали, что видели похожего на британца человека неподалёку от берега. Результатом стали долгие судебные разбирательства, которые принесли Уинклвоссам не только огромные деньги, но и неоднозначную славу. А в 2017 году только к северным берегам страны принесло около 40 лодок. Ну да, случалось со мной пару бед, то под машину попал, то упал с третьего этажа — ерунда в масштабах Вселенной. В каком году её записало «Браво», я даже не знаю. Встреча Годзиллы и Кинг-Конга интересна как любителям франшизы о японском монстре, так и поклонникам гигантского примата, да и в целом всем, кто хочет зрелищности и лёгкости. Кажется, у него буквально не было иного пути, кроме как заниматься наукой. Попробовав себя в нескольких журналах, Эдгар По стал влиятельным литератором, важной публичной фигурой, чьи критические статьи привлекали внимание, а поэзия – изумляла. Я моментально представил конские члены с лицами двух мужиков и интуитивно почувствовал, что такого не может быть. Пакет из магазина ставится на пол? Летают туда несколько авиалиний, но мне больше всего подошли KLM – с пересадкой в Амстердаме и 9,5 часов полёта до самой Арубы. Член избиркома с правом решающего голоса в ИКМО «Владимирский» Леокадия Френкель рассказала TJ, что вместе с победившими кандидатами пытается не допустить подобных фальсификаций в своём округе: ей пришлось ночевать в здании администрации района, а также на неё напала заместительница председателя ИКМО (избирательной комиссии муниципального образования), которая попыталась закрыть её в кабинете. Кого-то в красной одежде перед зеленым фоном — и это будет сопоставление цветов. Сам Эльзер, позже на допросах говорил, что его не устраивало ущемление свободы вероисповедования, контроль Гитлерюгендом детей, снижение оплаты труда и фиксация места работы для большинства граждан. Заранее прошу прощения, мог что-то напутать, информации не много, и порой она противоречива. Культурное влияние живописи оставило свой след в умах людей.  Солдаты воюющих армий несколько дней вместе молились, хоронили павших, выпивали, пели рождественские гимны и играли в футбол. По словам задержанных, никакой акции рядом с местом их рейда в Пушкинском сквере у станции «Тверская» не проводилось. Этот процесс прослеживается и на примере Российской империи. Отношения у них были странные: она искренне любила его и пыталась наладить его жизнь, в частности, выбить ему собственную квартиру; он то любил её, то видел в ней только друга, но мучил собственнической ревностью. Позднее у меня возникло ощущение, что я оказался как будто каким-то ненормальным в этой ситуации. Их универсальный магазин стал первым в России доступным для среднего класса. В отношении обуви в различное время теды выбирали либо оксфорды, либо замшевые ботинки на высокой полиуритановой подошве. К концу 19-го столетия для рождения комиксов сложились все условия: улучшенная техника печати, позволившая газетам использовать цвет и многотиражность, мода на карикатуры, отображение текста в «пузырях», которые ещё называют филактерами. Операция завершилась полным разгромом союзников. Ветер вырывает деревья с корнем, обрушивает рекламные конструкции, опрокидывает припаркованные машины.  TJ публикует хронику Великой мемной войны, которая на момент написания материала до сих пор не закончилась. Она заметила, что окружающие её люди постоянно выгорают: они усердно работают, заработанные деньги тратят на развлечения и материальные ценности, а позволить себе спокойствие и свободное время могут далеко не все. Примерно в три часа ночи я, очень пьяный, покинул вечеринку у друзей. Можете не волноваться, комрады, к тому времени я уже вывел часть своих средств на другую биржу, а те, которые остались на этой бирже были успешно слиты по моей любимой стратегии «купи дороже, продай дешевле». В отличие от онлайн-разводов, где для наживки специально ставят полуголые фотографии очень сексуальных девушек, в данном случае по профилю трудно догадаться, что это мошенники: все фотографии очень приличные, и только описание выдает, что за ними стоит одна и та же группа людей, ужасно помешанных на кофе. Совершенствование киноязыка и развитие технологий сделали длинный кадр популярным способом решения задач режиссёра — как драматургических, так и технических. Люблю быть один», — говорит предприниматель. Он был состоятельным врачом, поскольку лечил людей из «высших слоёв общества», включая трёх монархов: королеву Анну, короля Георга I и Георга II. Сейчас я работаю моделью и фрилансером. Снежинск — это малоизвестный, но не аномальный город. TJ поговорил с участниками квир-коллон и другими представителями ЛГБТ-сообщества Белоруссии об их решении внести ЛГБТ-повестку в митинги и критике этой идеи, уровне гомофобии в стране и общих надеждах на перемены. Тот и предложил юноше поступить на свой курс. Началом женского футбола в России считают 1911 год, когда в газете «Футбол» опубликовали информацию о матче между женскими командами «Пушкино» и «Петрово-Разумовская» (5:1). TJ приводит несколько ссылок, среди которых есть освещение трагедии, обсуждение и критика различных версий и даже книга по мотивам происшествия. СМИ назвали имя подозреваемого — это Александр Боровой. НМИЦ онкологии им. Н.Н. Петрова в Петербурге рассматривает возможность с середины мая перепрофилироваться, прервав лечение тысячи пациентов с онкологией. Днём создания интеллектуальной игры считают 4 сентября 1975 года. Помнить об истории - значит, не повторить. И был такой боец, которого я не мог победить. Большинство из нас узнали, как пахнут Guerlain или Yves Saint Laurent, только в 90-е, когда рынок открылся для зарубежных товаров. Любопытно что немецкий мемориал, стоит отдельно особняком, забор стоит как элемент концепции ,высотой он чуть выше колена, в отличии от всех этих индивидуальных заборов ,некоторые которых выше 180см В Голландии и Германии память Анны Франк увековечена в музеях, а фонд, открытый в её честь, до сих пор помогает детям и подросткам в «горячих точках» и проблемных регионах. «О боже, господи», — сказал британский актёр Стивен Фрай в 2012 году, когда перед ним открыли мусорную корзину. Начавшееся полицейское расследование спровоцировало побег многих жителей из деревни, которая пришла в запустение. Для уроженки исландской столицы Рейкьявика Бирны Бряунсдоттир этот день должен был пройти как обычно. Курение, ставшее очень популярным в 20 веке, вызывает массу заболеваний дыхательной и сердечно-сосудистой систем. В 2007 году Бадди вместе с одногруппниками по юридической школе смотрел пиратский фильм, когда неожиданно он переключился на документальную запись. Вскоре адвокаты и знакомые Глушкова подтвердили информацию. По предварительным данным, он бил и душил девушку, а чуть позже ударил ножом. В феврале 2015 года 15-летняя Шамима Бегум и две её школьные подруги собрали вещи и тайно вылетели из Лондона в Турцию, а затем перешли границу Сирии. Если вы являетесь производителем креативного контента и хотите привлечь финансирование для своего проекта или просто продать произведение, всегда помните одно главное правило. Супруги рассказали изданию Boston Globe, за что на них обиделись в компании, как они переживали нападки и планируют ли продолжать добиваться справедливости. Они сложились по 1000 рублей, закупили штукатурку, материалы для крыши и приступили к работе. Цитата: Старостину посоветовали посмотреть «под ёлочкой» — и там он нашёл коллаж с фотографиями и сертификат на 25 тысяч рублей. TJ перевёл рассказ канадца с незначительными сокращениями. Я связался с издательством, и сначала вышел на переводчицу книги, а через неё на девушку, которая была редактором в 2005 году. За это время ему удалось превратить телеканал из никому не известного медиа в одно из ведущих СМИ в стране с сильной журналисткой командой: Леонид Парфёнов, Татьяна Миткова, Михаил Осокин, Василий Уткин, Елена Масюк, Виктор Шендерович, Павел Лобков и другие. Местный ювелир Джон Лайонс накануне вечером приметил своим рабочим глазом человека, лежащего у стены береговой линии пляжа.   Мне должны были звонить и говорить во сколько приходить, немного следить за происходящим и уходить домой. Эффективность труда в громоздкой лагерной империи была низкой. 5. И Уйбу, и Брина, родили в один временной промежуток. TJ пообщался с Ирой о жизни с саркомой и внезапной популярности, а также попросил психолога рассказать, как юмор помогают справиться с тяжёлой болезнью. Для современной американской литературы Кормак Маккарти — одна из самых важных и значимых фигур.  Можно сколь угодно говорить о христианской морали, светской этике и прочих светлых материях, но 86-100 миллиардам нейронов в вашем мозгу на это плевать. 18 сентября газета The New York Times выпустила расследование, основанное на анонимных источниках. Убийца испугался и убежал. Это история стала была отображена в книгах, фильмах и музыке. Автором документа стал антрополог Генри Филд, который представил его управлению стратегических служб США. В последний раз такое произошло с американским туристом — его осудили на 15 лет каторги, а через год вернули на родину в вегетативном состоянии. В первый раз, из-за ошибки на сервере с резервной копией, а во второй раз — из-за недостаточно высокого качества итоговой версии. Библиотека, хоть и крупнейшая в субъекте, представлялась мне понятным и незамысловатым местом. Первая грузоперевозка самолётом стала гонкой, в которой самолет соревновался с поездом. В фильмах и сериалах часто показывают, как родственники или друзья развеивают урну с человеческим прахом в памятном месте. Просидев около трёх месяцев дома, в июне я (осторожно) выбирался на улицу, в июле ездил в Карелию, а в августе вёл себя ещё менее опасливо — ходил на стадион смотреть футбол, посещал кафе и музеи. «Великую красоту» Паоло Соррентино там показывали больше шести лет. Он их тратит, уверенный, что сумму ему вернут мама и папа. TJ с опорой на тред и данные СМИ пересказывает эту историю. Состояние пациента, помещённого в блок интенсивной терапии, оценивают как тяжёлое, уточнили РИА «Новости» в посольстве России. Обновлено 26 января: спасатели нашли тело Хулена, он погиб. Но со временем восприятие «Шоугёлз» напомнило судьбу других провальных фильмов – «Комнаты» Томми Вайсо и «Шоу ужасов Рокки Хоррора» Джима Шармана. Мы поговорили с Еленой о том, как одна из главных рок-групп поколения устроила коллаборацию с художницей из России. В 2000-е американские телезрители тепло принимали телешоу, построенные на человеческих страданиях за деньги. А «Батенька» запустил серию материалов о проблемах героиновых наркоманов. В 2018 году я уже год работала тренером в клубе по художественной гимнастике. Фото Уилла Кирка, университет Джонса Хопкинса Спрятавшись за серебряными и золотыми масками, Daft Punk выстроили узнаваемый образ – безликих роботов, стоящих за неоновыми установками перед гигантской пирамидой. Общественность посчитала дело против него политическим. 31 августа 1985 года Ричард Рамирез вошёл в круглосуточный магазин в Лос-Анджелеса за покупками, но не заметил группу людей, стоящих около парковки и около стеллажа с газетами и журналами. Как объяснил Гриер, ему пришлось взять лазурит, поскольку синий трудно найти в природе. Песню написали зимой 1984-го года — тогда Джордж и его напарник Эндрю Риджли приехали в гости к родителям Джорджа. Спустя годы в общественном сознании в статусе «первого» закрепился именно баннер AT&T — разрешением 468x60 пикселей с кислотным шрифтом. Пьер был военным до самого мозга костей, в бог знает каком поколении. В начале 1950-х годов он решил значительно усовершенствовать систему, чтобы она стала более надёжной и безопасной. В 2018 году Росздравназдор провёл плановую проверку данной клиники и обнаружил, что врачи проводят медицинские операции, не предусмотренные выданной лицензией — они могут привести к смерти пациента. А жителей старше 65, нарушивших указ, будут штрафовать по административным статьям о невыполнении обязательных санитарно-гигиенических мероприятий (штраф до 500 рублей) неповиновении законному распоряжению должностного лица (штраф до тысячи рублей). P.S. Выяснилось, что на многих избирательных участках в Москве не хватает наблюдателей. Они указывают на то, что попытка забрать труп одного человека рискует привести к частичному или полному вымиранию уникального народа. В этом сезоне гриппа в США зафиксировали 19 миллионов случаев заболевания. Детали исчезновения неизвестны — полиция не обнаружила следов взлома. Неоднократно монахини просили высшее руководство католической церкви вмешаться, но, как утверждают жертвы и правозащитники, это не приводило к изменениям. Они покидали родину, охваченную тяжёлым социальным и экономическим кризисом, и перебирались в динамично развивающуюся латиноамериканскую страну, остро нуждавшуюся в рабочей силе и обещавшую быстрый заработок. УИК подменил результаты выборов. И хотя сооружение образовалось из-за речной воды более трёх миллионов лет назад, обнаружили Сон Донг только в 1991 году, а первое исследование провели в 2009-м. Джудит брала пример с родных и в 40-х годах тоже занялась шитьём.  Мне писали в личные сообщения в твиттере и во «ВКонтакте». За 40 лет Pepsi Cola Company смогла прийти к высоким продажам в Америке и решила, что пора расширяться. Ещё при жизни родителей Чарли приходилось бегать к друзьям в гости в надежде, что там его угостят обедом. На ближайшей заправке покупаю литр масла на доливку. Я не исключаю, что он мог бы стать режиссёром», — говорил в интервью журналу Esquire постановщик Рашид Нугманов, человек, сыгравший в жизни и кинокарьере Виктора Цоя одну из ключевых ролей. К тому времени все автобусы и поезда до Казахстана уже отменили. 5. Великобритания — 2,83 $трлн Мать Ричарда страдала от бредового расстройства и также злоупотребляла алкоголем. Далее, уже другие члены УИК сверили мои паспортные данные со своим списком и выдали мне набор (начинающего бота Максима Каца) из бюллетеня и ручки, которую (ооочень щедро с их стороны) рекомендовали оставить у меня. Учитель по истории поручил классу придумать проект, приуроченный к принятию в состав штатов Аляски и Гавайев. Кроме того, по подозрению в мошенничестве задержали парламентариев от партии Дмитрия Козлова и Сергея Кузнецова. Наркотики, оружие, бордели, наёмные убийцы — список временно ограничен лишь законами физики. Лонгрид посвящён эффекту социальной депривации — отказу от общения с окружающими людьми и тому, как он влияет на организм. Рен прибег к помощи благотворительной организации Water4 и стал сооснователем фонда Fight for the Forgotten, решившего конфликт между племенами без открытого столкновения. Врачи спасли её ребёнка, Светлана успела дать ему имя — Кирей, в честь дедушки. Тогда небольшие группы наёмников-европейцев, так называемых «диких гусей», свергали неугодные Западу режимы в разных странах Чёрного континента. Специалисты заключили, что пенсионер умер естественной смертью. В его состав входят музыканты как из импровизационной среды, так и из академической, исполняющие музыку без предварительной подготовки. Однако, как это обычно бывает, «дуракам ТБ не писан», поэтому за 3 года до аварии процедура очистки была изменена. Дофамин или допамин (в англоязычной литературе) – это нейромедиатор, который производится в мозге человека и имеет важное значение для процессов мотивации и обучения. Заикание развивалось с нарастающей силой и в течении примерно месяца закрепилось. С юных лет душа Видока начала требовать праздника, а касса пекарни начала вызывала зуд в пятой точке, поэтому Видок стал периодически подчищать неаккуратно лежащие купюры. В попытках бесплатно помочь людям вернуть данные он проводит за компьютером большую часть жизни, а угрозы вынудили его покинуть родину и перебраться в Великобританию. 1900 — из Луганска вышел на железнодорожные магистрали первый построенный здесь товарный паровоз. Впоследствии Степан был задержан германскими властями за попытку провозглашения независимого украинского государства и отправлен в концлагерь, откуда был освобождён в 1944 году. В 2017 году супружеская пара Эмада и Бахаре Шарги, проживающая в США, составили список американских и европейских городов, куда бы они могли переехать, так как обе их дочери благополучно поступили в американские вузы и больше не нуждались в поддержке. Владельцы заведений считают, что местные власти необдуманно уничтожают малый бизнес и лишают людей мест работы и досуга. За год она стала главным символом эко-активизма и борьбы с климатическими изменениями. Тело покрывалось трупными пятнами. В туалете он снова собрал фотоаппарат и устроил съёмку во время концерта. Масштаб разрушений и горе граждан сравнивался с другим городом-руинами — Сталинградом. Прибыв в Болонью к старшему брату, он остался там на два года в ожидании улучшения политической ситуации на родине. Для удобства чтения истории героев и комментарии специалистов сокращены и отредактированы. Руководство организацией взял на себя исламский богослов Айман аз-Завахири, однако уровень его влияния был куда меньше, чем у бен Ладена. Русские историки Олег Вишлёв и Михаил Мельцюхов называют парады в других городах мифом. Первые деньги от разработки игр Алексей получил от центра научно-технического творчества молодежи «Дока». Она в течение нескольких месяцев возглавляла чарты США и других стран — во многом потому, что дуэтом выступали Майкл Джексон и Пол Маккартни. Недавно в Туле использовали кота с тайником на шее, в Бразилии — почтового голубя, а в Петербурге — арендовали для этого дрон. Историю Кокла рассказало издание Би-би-си. На боях UFC и других профессиональных организаторов зарабатывают телеканалы и крупные стриминговые сервисы, а на YouTube один за другим появляются любительские промоушены. Финикийцы считались старейшими мореплавателями древности ещё задолго до расцвета греческой цивилизации. Иван решил искать препарат среди личных аптек других пациентов, расклеив объявления на подъездах в Волгограде. Прошедшие семь лет оставили немного следов о событиях тех дней. Захваченные земли были переданы епископу Замланда, подчиненному римской церкви. Историю научного расследования рассказало издание The New York Times. На дополнительных выборах в городской Совет депутатов из 20 участков (УИКов) наблюдатели движения независимых общественных контролёров смогли закрыть все точки. Условия и образ жизни Нейландов не выделялся среди остальных семей 60-х годов. Для удобства чтения цитаты героев незначительно отредактированы и сокращены. На сайте \"Память народа\" только в 2020 году появились фото Николая и подробности службы.  Несколько лет мы не виделись и почти не общались, но между нами сохранилась какая-то связь. Почему её не искали родные?) и тот факт, что на теле обнаружили следы удара тупым предметом в области шеи, не убедили общественность в официальной версии. В августе 2004 года ещё только накапливающая силы компания Google вышла на первую публичную продажу акций (IPO). В 21 веке слово «Веймарская» иногда используется и без применения к Германии. Редакция всё равно провела акции, но на чужом стенде, вдобавок столкнувшись с провокацией неизвестных. Родные и друзья Разина помнят его открытым и общительным человеком, и тем удивительнее для них стал факт, что он втайне от всех готовился покончить с собой. Идея пришлась по нраву королю, и вскоре началась одна из самых известных и непредсказуемых авантюр в истории мировой медицины. Задача дать «достойную отповедь» авторам – «разным Чуковским, Брюсовым, Измайловым» – была возложена на Каменского (доклад «Смехачам наш ответ»), хотя давали отпор авторам многочисленных газетных атак на футуризм и Бурлюк, и Маяковский. Позже дочь Брукса, которая любит покемонов, предложила ему выкупить у него карточки за 6 фунтов, но мужчина решил оценить их у специалистов. Они жалуются прежде всего на условия труда: огромные штрафы и нежелание заключать с ним трудовые договоры. Этот материал не несёт в себе негатива по отношению к тем, кто не соблюдает меры властей, это просто фотографии Петербурга в хорошую погоду в условиях пандемии коронавируса. Ко времени вашего знакомства Хаксли уже вовсю практиковал психоделические трипы с препаратами. Такое поведение может привести к непониманию, упрёкам и отторжению. Весной 2009 года специальный агент ФБР Джеймс Крейг (James Craig) приехал в бюро в Омахе, штате Небраска. Бурное развитие киножурналистики в 1907-1909 годах не было случайностью. По данным Би-би-си, младенец возрастом менее трёх недель умер от пневмонии, и местные медики в лагере не смогли его спасти. Anyway. Если все дела влезли в промежуток, значит, мы всё успеем. Спорили долго (именно спорили, отбивался я цитатами из Ленина, Маркса, которые, до этого в основном и штудировал, не прокатило). Дети, читающие сказки о Гарри Поттере, представляют себя на месте главных героев и, конечно же, завидуют не только их приключениям, но и месту, где они учатся. Местные жители винили нечистую силу, но причина оказалась проще — трипы вызывал обычный хлеб. Бихевиоризм - это направление в психологии, которое изучает только поведение, поскольку именно оно поддаётся измерению и наблюдению. В конце 2017 года его и других нелегалов переселили в новое жильё, но они по-прежнему не могут покинуть остров. Высказывания Гринслейда осудил премьер-министр Великобритании и его коллеги, назвавшие его «подонком» и «лицемером». Мне с ранних лет хотелось выступать на сцене. В этот раз требовалось, чтобы пианино как по волшебству появилось посреди Московского вокзала. Однако рост организованной преступности в стране указывает на то, что журналистам, в том числе иностранным, становится опаснее работать в Европе. TJ поговорил с человеком, страдающим ОКР. На мой взгляд, эксперименты над животными — это как фильмы ужасов: чем жёстче, тем интереснее. 2. Акт техприсоединения, подтверждающие техприсоединение клиента к объектам электросетевого хозяйства, составленные и подписанные клиентом и уполномоченным представителем СНТ. Таких музыкантов воспринимают чуть хуже, чем тех, кто играет на улице. Это открыло целый ряд военных и политических неудач для Третьего рейха. Таким способом охранники добывали сведения о браконьерах. Панк рассказал, что незадолго до пандемии уже становился героем СМИ из-за своего «бэтмобиля». 2) Выявлено около 4 000 случаев рака щитовидной железы, по меньшей мере 9 человек умерло. Королевский дворец выпустит несколько коротких заявлений об ухудшающемся состоянии монарха. В этом же году де Сад женился на дочери президента налоговой палаты Франции. Последовала череда смены собственников. В 2011 году финский школьный учитель Сантери Коивисто списался с американским коллегой Джоэлем Левином в соцсетях. Он красивый и многострадальный, с богатой историей и нищим муниципальным бюджетом. Эдакий хорошим добрый атлант без странностей. Потому что объявление режима террористической угрозы (или как он там называется) в нашем детстве не было чем-то из ряда вон выходящим. Я уволилась и какое-то время путешествовала, думала о том, чем хотела бы заниматься. В октябре прошлого года неравнодушные жители решили провести субботник, чтобы прибрать лес и посадить новые деревья. В августе в японском городе Хатиодзи прошёл Чемпионат мира по скалолазанию. Первым человеком, который пытался поставить историю под контроль властей, стал историк Михаил Покровский. С самого рождения мы абсолютно беспомощны. Но если открыть англоязычную версию вики, там указана другая теория, и мне кажется она наиболее правдоподобной, так как она содержит логичное обоснование. На фоне возросшего спроса The Pokémon Company начала выпускать новые карточки, но и это не остановило ажиотаж. Хервиг говорит, что жители зачастую не замечают остановок, относятся к ним как к данности и даже стараются не заходить внутрь. Он приехал поступать в институт из Краснодара, там же начинал снимать любительские короткометражные игровые фильмы. Обожаю. В деревне был свой магазин, однако когда он закрылся в 1990-е годы после свержения режима Николае Чаушеску, жители отслеживали развозчиков хлеба через окно, чтобы успеть купить выпечку. Команда избранного президента намерена устранить разногласия между ближайшими союзниками по НАТО и противодействовать России. Помимо ГЭС, здесь совсем недавно построили очень живописный водосброс: Какое-то время в рунете называть карго-культом всё подряд стало настолько модно, что политолог Екатерина Шульман ввела термин «обратный карго-культ» — как логической ошибки, при которой критика копии переносится и на оригинал, как в случае с теми же либеральными институтами в экономике и политике. До этого занималась спортом на достаточно высоком уровне, но помешала серьёзная травма в 14 лет. Если ты отзанимался с кем-то у себя дома и тебе никуда не надо потом ехать, то эта штука отличная, а что делать, если у тебе например после этого надо ехать домой на электричке из города Железнодорожный в город Москву где чертовы дачники со своими саженцами и ты со своей эрекцией сражаетесь за жизненное пространство? Естественно ни какой водки в те времена не существовало, а наиболее популярным напитком среди высших слоев было вино. По возвращении из Москвы в Коломну я обратился за советом к своему товарищу. Историю жёсткой кампании властей Китая против запрещённых книг рассказала газета The New York Times. Если в премьерную дату драма Содерберга не снискала особой популярности, то сегодня — момент, когда фильм переживает второе рождение. Сейчас её рост – метр тридцать пять, а вес примерно тридцать килограмм. Куэрри не успел на нём выступить — его сразу сняли с соревнований из-за заболевания. Основные источники статьи: Чохральский был восьмым ребёнком в семье ремесленников и до 16 лет учился в педагогическом колледже, так как его отец хотел, чтобы сын стал учителем. Эти роскошные условия стали уступкой государства военным, которые до сих пор уважают Пиночета и его соратников. Его слова долго не выходили у Хрущёва из головы. За почти 20 лет нелегальной кражи песка для жителей Индии стало очевидно — он либо может сохранить первозданный вид озёр и рек, либо стать строительным ресурсом. Председатель комитета Госдумы по вопросам семьи, женщин и детей Тамара Плетнёва добавила, что в обвинения журналисток не верит, и посоветовала им «одеваться и ходить поприличнее». Этим свойством нашего организма можно пользоваться и манипулировать. Пишут, что у Рескорлы было необычайно обостренное чувство опасности. После массовых жалоб и запуска кампании «фроттаж под суд» чат сделали приватным, а каналы, дублировавшие информацию в Телеграм и Инстраграм, заблокировали. Для пострадавших организовали лагеря и выделили помощь. Стоит отметить, что количество бюллетеней, которые получают члены комиссии для надомного голосования, равно количеству избирателей в реестре. Она стала одной из самой многочисленной за всю историю протестов в России — на проспект Сахарова вышли более 50 тысяч человек. Вены выступают, но это в очень редких случаях, когда высокое АД или, например, после физической активности. Эксперты установили, что она умерла от холода, указав в качестве причины кровопотерю и переохлаждение.  Открытие самой большой арены в мире, самым богатым человеком в мире и самым могущественным императором в тот момент истории было эпохальным событием. Снимайте в аэропорте, торговом центре, на пляже, в парке, в автобусе или метро, в коридоре поликлиники, в продуктовом магазине... да в любом общественном месте. Мать с четырьмя детьми переехала в крошечную квартирку, оплачиваемую местными властями, у неё не было возможностей платить за жилье. Однако бывшие союзники не смогли договориться при дележе новых приобретений. Но люди перестали вытаптывать землю — это главное. Императрица замечает это и спрашивает военачальника, почему он не ест. Утром 3 сентября пассажиры «Принцессы Алисы» вышли на палубу встречать солнечную и тихую погоду. Однако ту речь, а также вклад девушки, помнят немногие. По данным международной организации Autism Speaks («Аутизм говорит»), занимающейся исследованием расстройства аутистического спектра, в США каждый 88-й ребёнок рождается с таким диагнозом. На законодательном уровне репатриация в Израиль для жителей стран СНГ регулируется Законом о Возвращении 1950 г.  По этому закону право на репатриацию имеют те, у кого есть еврейские корни: еврей, дети евреев, внуки евреев. «Маяк» – это детище кинокомпании А24. Вообще тема немецкого закона о чистоте пива настолько обширна и интересна, что ей можно смело посвятить целый фильм, а то и вовсе полноценный сериал. Мы должны сражаться за неё». В суд вызывали повестками, уведомления о письмах из суда приходили по месту жительства и по месту регистрации, в Казань. Помимо всем известных сказок, вроде «Колобок», «Гуси-Лебеди», «Репка», «Василиса Прекрасная», еще одного варианта «Курочки Рябы» (кстати, смысл этой короткой истории, сюжет которой знает практически каждый, на деле уходит корнями к мифу о мироздании, но об этом как-нибудь в другой раз), Александр Николаевич собрал материал, переполненный пошлостью, ненормативной лексикой, антиклерикальным характером (высмеивание попов), известный под названием «Русские заветные сказки», где фигурируют названия «Мой жопу»; Если случайно оказаться в Себорге, то может действительно показаться, что это отдельная страна. Пергамент не самый удобный материал для книг: он гнётся и идёт волнами, что портит удобство и внешний вид издания. Трудную ситуацию с абортами в Лесото описывает издание CNN. Лето абитуриента состоит из ЕГЭ, выпускного, подачи документов в несколько вузов, вступительных испытаний, иногда переезда. Он постепенно увеличивал свою аудиторию, расширяя круг знакомств через индивидуальные заказы. Легендарные передачи типа «Что? Возможно, я слишком наивен, но у меня в этом плане всё просто: врач сказал — и я его слушаю, потому что привык доверять мнению людей, которые годами учатся лечить других. Варлам Шаламов провёл в лагерях 19 лет: в Вишерском 3 года, 16 лет в Севвостлаге (Колыма). Неа. Наконец, список сократили до двух кандидатов. Там он как глава семьи ухаживал, подбадривал и танцевал с матерью. Началось всё в 2014 году, когда я окончил первый курс псих-педа в СПб. Я в смысле про высмеивание детских пороков. По просьбе Би-би-си она вновь вернулась к воспоминаниям о жизни в коммуне и к трагедии, которая её постигла. Для начала записал себя спящим на GoPro — едва досмотрел получившийся ролик. Однажды университетские друзья и художники-интеллектуалы — Луис Бунюэль и Сальвадор Дали завели разговор о сновидениях. Для вас небольшая выжимка в самом начале текста очень простым языком: Когда пациенту надевали на голову передатчик, врач начинал чувствовать на себе всё, что ощущал больной. Это люди, способные из кучи разноцветных деталей создать произведение искусства без помощи инструкции.  Долгие годы эта работа находилась на одном уровне с Кораном, а на предмет знакомства с ней заставляли сдавать экзамены в вузы. Оперативник и переговорщик ФБР Байрон Сейдж, который с первого и до последнего дня пытался убедить членов секты сдаться, до сих пор пытается ответить на вопрос, что же пошло не так. Сайгон вот-вот должны были захватить северовьетнамцы, а в силу обстоятельств для эвакуации можно было использовать лишь вертолёты. У них родилась общая дочь. Сам писатель множество раз просил не искать подтекста в его творении, и оставить персонажей в покое. Тут главное прочитать несколько статей и понять, что Telegram даёт делать с помощью своих API, а какие идеи стоит завернуть, потому что их реализация может затянуться на пару месяцев. Многие считали положение страны унизительным из-за большого влияния США на внутреннюю и внешнюю политику. По словам пассажиров, они несколько минут затаскивали её обратно в салон, так как из-за резкого снижения произошли сильные перепады давления.  Предположительно, из-за заслона температура на Земле снизилась на 3-6 °C , что привело к массовому вымиранию животных и людей в Евразии и Африке. В середине 2000-х годов в северокорейском городе Хверён на границе с Китаем, экономика которого в основном основывалась на добыче угля, перестали платить зарплаты работникам угольной шахты. Лишь десять лет назад итальянское правительство объявило калабрийским гангстерам войну, тесня бандитов по всем фронтам. В 1944 году Колыму, северо-восточную окраину СССР, край жестоких исправительных лагерей, посетил вице-президент США Генри Уоллес. Еще осенью 2019 года я рассказала своему парню о NZM и он, к моему удивлению, очень загорелся сходить. Однозначных ответов на эти вопросы пока не имеет никто, зато страхов и поспешных выводов достаточно. Интерес к 80-ым проявляется в фильмах, играх и музыке с начала 2010-ых, а сейчас достиг своего пика во многих сферах. Акции получили название «Пятницы ради будущего» (Fridays For Future), указывая на день, когда бастуют участники движения. Один самолёт стоил 23 миллиона фунтов (119 миллионов в пересчёте на современные цены). С другой стороны, это неудивительно. На подходе к нему, метрах в 30-40, сидела собачка: красивая, ухоженная дворянка в шлейке и с пакетиком корма. У-ди решил во что бы то ни стало добыть из Давани жеребцов-производителей и развести в Китае \"небесных коней\". Она училась за границей и, по собственному признанию, «объездила весь мир», долгое время жила в Канаде, где работала в магазине готового платья и начала изучать специфику fashion-ритейла. Итак, диплопия, или двойное зрение, — это восприятие изображений, поступающих на сетчатку двух глаз, раздельно и со смещением (иногда дополнительно с поворотом) относительно друг друга. Через месяц после назначения премьер-министром Великобритании первое крупное политическое событие на посту Джонсона — приостановка работы правительства решением Королевы, резко вызвавшее массовые протесты в стране. Я восхищаюсь тем, как Харари структурирует и подаёт информацию. Спустя 12 лет, в 2005 году Аарон Фрейзер выиграл гражданский иск о неправомерной смерти против Майкла Хаима. Я был уверен, что ему передавался мой дискомфорт от нахождения в переполненной тюрьме и моя неуверенность в предстоящем приговоре. Звери также страдают от вырубки лесов, загрязнения окружающей среды промышленными отходами и мусором, от браконьерства и нелегальной охоты, однако не всегда государство обращает внимание на эти случаи. К двадцатилетию трагедии TJ собрал ссылки на расследования, книги и интервью с семьями погибших на подводной лодке «Курск». Сложно представить, какое именно положение занимал Толстой в то время.  В течение нескольких лет радикалы освободили часть заложников в обмен на выкуп или в результате боевых действий, но судьба более сотни человек по-прежнему неизвестна. На этих двух чувствах и зиждилась могущественная еврейская преступная организация «Цви Мигдаль». Далее её представим руководству страны», — сказал он в интервью ТАСС. В 1660-х годах английский издатель Джон Дантон решил разбавить светскую хронику и советы по стилю для джентльменов в журнале «Афинский Меркурий». Весной 2009-го в армию призвали более 300 тысяч человек, а осенью 2019 года — «лишь» 132 тысячи. После этого о наследнице не было новостей, а правозащитники требовали спасти её из заключения. В 1932 г. он основывает компанию Kiddicraft с капиталом 100 фунтов стерлингов. По информации «Нашей нивы», из подземного перехода выбегают шокированные люди: одежда некоторых из них осыпана штукатуркой. Самая популярная причина отмывания денег — это сохранение их в безопасности. Как дочь протестантского пастора из ГДР попала в большую политику, а затем в течение всего 10 лет добралась до кресла канцлера, где удержалась на столь долгий срок — в истории TJ. В интернете подобные идеи находят отклик вот уже несколько лет, учитывая всё растущее число прослушиваний и восторженных отзывов, которые не обошли стороной и поколение Z в тиктоке. Поэтому у меня были книги на любой вкус от «Энциклопедии для маленьких принцесс» до «Секс — это нормально» Льва Щеглова. Данный вид \"затравки\" ( воздействие на животных отравляющими веществами) мог проводиться насильственным и естественным путём По словам потерпевшей, профессор угрожал убить её после того, как она захотела расстаться. За последние годы она стремительно набирает популярность, в основном благодаря соцсетям. TJ поговорил с теми, кто пользовался возможностями совета, учил или преподавал с его помощью английский язык, а также участвовал в его программах и мероприятиях. При этом сам он, по словам Роя, никогда не общался с представителями этой фирмы. Как ты попал в «Вечерний Ургант» — проходил отбор или тебя пригласили? Им не хватало еды и воды, а снаружи раздавались выстрелы бойцов ИГИЛ, окруживших населённый пункт, в котором они находились. Семья Кори недавно переехала в Уэст Энд Бёрмингема перед его выпускным годом, но подросток хотел закончить обучение в своей школе, и поэтому ежедневно просыпался очень рано.  Несмотря на развитие других технологий, реконструкция лица по черепу сегодня остается единственным способом опознать труп в отсутствии других признаков. Увлекаюсь различными видами спорта, танцами, играю в покер и Hearthstone. Продолжая читать данный материал вы подтверждаете, что вам больше 18 лет.  Каждая из двух сторон объявляла свой выбор единственно истинным, а альтернативный вариант позиционировала как не имеющий отношения к белорусской истории новодел. В Black Ops 2 обрела первое игровое комьюнити. Сеть кофеен Starbucks закрыла более половины своих заведений на материковом Китае — суммарно в них как минимум две тысячи мест. Уверенный и опытный боец, он был уверен, что для него эта история закончится большим успехом. Мне казалось, что это почётная и важная работа, благодаря которой можно успешно состояться параллельно с учёбой в университете. Текущая явка за два дня — 6,9%. Но для Афганистана это означает, что власти страны почти один на один остаются с бывшим главным союзником «Аль-Каиды» и бен Ладена. Если еврейское имя \"Шлойме\" - означает \"40\", то греческое \"Ной\" - \"18\". Программа наставничества призвана исправить эту ситуацию. Более-менее целенаправленно, так, чтобы к педагогам ходить, с пяти лет. Так он стал бездомным и начал проводить ночи на подземных автостоянках и в домах друзей. Многие писатели, философы и политические деятели 17-18 веков восхваляли кофейные зёрна как средство для повышения трудоспособности. Данные о посещаемости конвенции в 2019 году пока не публиковались — только по онлайн-трансляциям. 1993 год: 12 декабря принимается новая Конституция Российской Федерации - срок полномочий президента - 4 года, пребывать в должности может не более 2-х сроков подряд Поэтому я не буду подробно останавливаться на офисной работе, затрону её коротко. Металлоискатели, которыми они проходят по территории барака помогают им найти массу интересного.Заточки, трубки, металлические ложки, вилки и прочая атрибутика человеческого существования улетают на помойку ( ну, трубки, конечно, они оставляют себе).Так же в зоне риска оказывается вольная одежда.В 8 часов утра господа представители его величества РЕЖИМА начинают обысковые мероприятия зеков в столовой.Ставят 10 столов к которым заключённые подходят по одному и сотрудник обыскивает сначала человека, потом его баулы. Объективность такой точки зрения сомнительна. В конце июля сайт о тульском футболе выпустил короткую заметку о нападающем из Конго, забившем семь мячей за «Витязь» в любительском чемпионате Новомосковска — на тот момент это был самый лучший результат в турнире. На этот раз он пообещал «выполнять наказ рабочего класса». Это, конечно, не 90 километров, которые бегал директор по развитию «Комитета», а для многих «десятка» — стандартная тренировка на каждый день. Чиновники обещали, что в массовом порядке граждан будут прививать только в начале 2021 года, возможно, ближе к февралю, так что я особо не ждал, что мне так быстро перезвонят. Историю Прометеи рассказало издание The Atavist Magazine. О том, что у меня есть гепатиты В и С, я узнал на мобильном пункте помощи наркозависимым, который курсирует по Петербургу с 1997 года. Это один из видов ЭКО (экстракорпорального оплодотворения – прим. Если да, то скорее кооперируйтесь и бегите вместе! Эндрю посещал престижную школу Сейр, но из-за проблем с поведением родители отправили его в военную академию в Теннесси, а затем — в армию, где он служил в парашютно-десантных войсках. Драки и унижения, межнациональные разборки, паршивый климат и такое же материальное обеспечение, куча негатива на всех площадках (тут несколько ссылок с первой страницы в любом поисковике, кроме разве что «Спутника»). По данным гособвинения, с 2008 по 2016 год Пешье отравил 24 пациентов в двух частных клиниках Безансона (восток Франции). 65-летний монах в прошлом — милиционер, в 1985 году его осудили на 13 лет за грабёж и убийство по неосторожности. В апреле 2017 года туда прибыли медведица Лула и лев Симба — единственные, кого удалось спасти из зоопарка в Мосуле во время войны. Представьте, в олимпиаде три задания: Саша Чёрный, произведения Лермонтова и я. Проезжая по Тверской улице мы увидели большое скопление людей. Когда держишь в море из устья Сыр-Дарьи, за кормою судна ложится светлый коридор. Уже позже, изучая сведения о выборах по участкам в районе, я увидел что на утро последнего дня голосования по моему участку явка была указана в районе 50%, что решительно не соответствовало увиденному глазами, при этом на участке буквально через дорогу явка на утро последнего дня голосования была указана 25%. Он развил в себе серьёзные навыки розыска, и именно с их помощью он, возможно, наконец восстановил справедливость для своей дочери. В книге идёт речь про советский период — с зарождения сибирского панка и до смерти Яны Дягилевой, рок-певицы и участницы «Гражданской обороны». Но ходят. Улыбчивая женщина примерно 60 лет поприветствовала пассажиров с лёгким испанским акцентом и начала задавать рутинные вопросы: «Вы бывали в Аспене раньше? и «Что вас сюда привело?». Только каждый пятый среди этих 39 пострадавших не стал инвалидом. TJ рассказывает эту историю на основе материалов Би-би-си и других открытых источников. В итоге спустя почти шесть лет суд решил, что они должны получить компенсацию за пребывание в тюрьме. Однажды он даже попытался убедить Кармака и его невесту отложить свадьбу ради участия в презентации Apple, но те так и не согласились. Сейчас же он представляет собой лишь груды скелетов некогда могучих, исторически важных зданий, заводов, времен и что главное - людей той эпохи. Итак в 1688 году англичане благополучно отправляют своего короля Якова II в эмиграцию. Помимо английского, Калеб Андерсен свободно владеет испанским, французским и китайским языками. Когда олимпийский яхтсмен Кевин Холл вытаскивал своего товарища Эндрю Симпсона из воды, он не мог до конца понять, реально ли происходящее или нет. В 1898 году Пьер и Мария Кюри открыли радий, что стало важным событием в мире науки. Подобной толпы посетителей в ночное время в Чернобыльской зоне не было очень давно. 12 июня 1958 года никто не знал ещё, где сыщется этот последний пациент. Жили в крайней форме нищеты. Для нас, например, такими недавно оказались сферы поставок оборудования для лабораторных исследований и косметологических процедур. Почему же в 20 веке это архаичное явление стало вновь актуальным для российского общества и остаётся им до сих пор? В мае 2018 года полиция наконец-то смогла идентифицировать личность умершего — и правда о нём оказалась совсем не такой, как предполагали пользователи. Государственное политическое управление (ГПУ) поставило цель увеличить население Сибири на 3-5 миллионов человек в течение пяти лет. В конце 19 века воздушные шары уже умели подниматься на такую высоту, но надёжным транспорт не был. Изредка проверяют социальные сети детей 38% опрошенных. Первые фингерборды выпустили в начале 1960-х в качестве неподвижных игрушек. Визуально во второй день у «Синей сцены» собирались значительно меньше людей, чем в первый. – Исполнитель роли Чендлера Бинга, актер Мэттью Перри, несколько лет снимался в «Друзьях», по его собственному признанию, «как в тумане». К тому времени большая часть семьи уже уходила по задымлённым коридорам и лестницам. Оппоненты князя утверждают, что церковь и государство сильно преувеличили реальные заслуги Александра, скрыв его неоднозначные решения. Первым в мире ледоколом арктического класса также стало русское судно, построенное на крупнейшей в этот период времени английской промышленной фирме «Armstrong Whitworth» по заказу Российской Империи. Но вместе с рухнувшим Советским Союзом нашу страну мгновенно заполнили различные товары и небывалые доселе услуги. Культовые картины с неудачной прокатной судьбой терпели фиаско по разным причинам: в одном случае этому способствовала конкуренция в прокатной сетке, в другом — халатность студийных боссов и ненадлежащая рекламная кампания. Карта, таким образом, может рассказать подробности криминальной жизни Лондона в Средние века: помимо карты ученые также представили подробный отчет о проделанной работе, включая таблицы с информацией о том, в какое время суток и день недели было совершено убийство, как быстро жертва умерла после покушения и в какую часть тела было нанесено ранение. Затем, в 132 г. до н.э. усуни в союзе с хунну вытеснили юэчжи из Или, заставляя их двигаться на юго-запад. Проходила она с 1920 по 1930 года. Дело в том, что 21 сентября в ООН начнётся саммит, посвящённый борьбе с изменением климата, а штаб-квартира организации находится в Нью-Йорке. Её прошлые работы: «Песни, которым меня научили братья» о жителях индейской резервации и «Наездник» о ковбое, который вынужден был оставить карьеру после серьёзной травмы головы. За свою карьеру она выиграла 39 турниров, завоевала Кубок Федерации в 2008 году и серебряную олимпийскую медаль в 2012 году. Причиной возбуждения уголовного дела стал готовящийся ежегодный доклад, посвященный проблемам обеспечения ядерной и радиационной безопасности на Северном флоте. Такая фотография больше похожа на сафари: вы просто выслеживаете объект, как зверя. На их судьбе и сосредоточена картина. Лишь «Матрица» смогла настолько популяризовать этот эффект, что его до сих пор используют во многих остросюжетных фильмах. 7 сентября 2010 года двадцатилетний самолет Ту-154М вылетел из города Удачный в Якутии в Домодедово с 81 человеком на борту, включая 9 членов экипажа. Историю мужчины рассказало издание The Guardian. Территориальный спор решали путём переговоров или взаимных уступок. Бернштейн считается местной звездой и отзывчивым человеком, но вместе со славой и бизнесом ему приходится нести тяжёлое бремя семейных трагедий. В начале 1990-х вместе со всем соцблоком развалилась и албанская богоборческая политика. За него проголосовали на фоне уличных акций: на протесты перед парламентом вышли тысячи людей. Ордоньес следит за техническим состоянием помещений, а одна из главных его задач — раз в пять дней спускать воду в 1400 кранах номеров, что занимает у него целый день: «Возможно, это самая скучная часть моей работы, но она необходима». Проблемы могут возникнуть только с Internet Explorer: по какой-то причине он отказывается загружать страницы. В марте 2018 года власти выделили дополнительные 200 тысяч долларов на продолжение расследования, которое считается одним из самых странных и непонятных в современной истории страны. Не помогли ни в секретариате Троцкого, который ценил творчество поэта, ни в Моссовете у Каменева — квартиры в Москве получали в первую очередь ответственные работники. Но приятного мало. Люцидные сновидения стали особенно популярны в научной литературе начала 20 века, однако ранние отсылки к ним встречались ещё в древнегреческих текстах. В течение нескольких минут, пока мужчина снимал данные и обменивался с Марией дежурными фразами, они едва дышали. Всё это выяснилось из отчёта австралийской армии о военных преступлениях в Афганистане, обнародованного 19 ноября. Именно поэтому одним из главных источников о происходящем в одной из крупнейших пенитенциарных систем мира остаются жители Китая и иностранцы, которые отсидели и вышли. После увольнения в 1915 году семья переехала в город Гифу для воссоединения с родственниками. Есть даже историческая байка о том, как появилось его название. Шквал огня выбил винтовку из его рук, после чего упавший на землю Дэй выхватил из кобуры пистолет. Поводом для суда стал известный в Европе препарат Mediator, выписываемый диабетикам и людям с ожирением. Во время второй мировой войны под влиянием свинга формируется классический хайлайф, а в 1957 году, когда Гана (колыбель жанра) стала независимой, правительство активно поощряло и финансировало африканские ансамбли. Мадрид же всегда отвечает на это полицейским произволом и судебными делами, и нынешние манифестации продолжают этот путь.  Но в период пандемии аборты отнесли к «несрочным операциям», а услуга телеаборта — когда женщины получают медицинское сопровождение онлайн и медикаменты по почте, в России недоступна. Во время учёбы неженатые студенты живут в общежитии на полном пансионе, а вся жизнь строго регламентируется. И т.д. Различными аргументами они пытались дискредитировать «медиумические явления» в глазах общественности, но тщетно: люди хотели верить в сверхъестественные силы и были рады обманываться. Несмотря на это, клуб не откроется заново на прежнем месте.  Тугоухостью называют нарушения, затрудняющие восприятие звуков тише 40 децибел без специальных устройств (слухового аппарата). Помимо «Пулково», аналогичные мероприятия проводят и другие российские аэропорты: «Домодедово», «Шереметьево», новосибирский «Толмачёво», воздушные гавани Иркутска, Мурманска и с недавних пор Симферополя. Надежда родилась в многодетной семье, в которой родители делали все, чтобы обеспечить детям хорошую жизнь и дать каждому образование. Так пришло время новой катастрофы: \"глобального потепления\". Воспоминания о детстве вызывают у Мари скуку — и она не стесняется признаваться в этом в интервью. Деньги на лечение ей собирали в соцсетях. В статьях так или иначе упоминались два главных слуха: о том, что в саркофаге может покоиться тело Александра Македонского, и о конспирологах, советующих археологам не вскрывать гробницу из-за возможного проклятия. Удаленка Здесь находится около 70 тысяч могил и склепов, где захоронено более миллиона останков. 31 декабря, 1899. Действительный статский советник, вхож ко Двору Его Величества. «Ну… В августе 1869 года двое американских финансистов Джей Гулд и Джеймс Фиск, управляющие железной дорогой Erie Railroad, решили подзаработать, спровоцировав рост цен на рынках. Я всегда занималась путешествиями и русским культурным наследием в разных ипостасях: работала журналистом в National Geographic, GEO, в журнале «Эксперт», на «Моей планете». Тэо надеется стать примером для других наркозависимых. Единомышленники объединялись в религиозные движения с чётко выраженными догмами, порядками и иерархией. Можете ознакомиться с материалом, для понимания дальнейшего повествования: Тем не менее и местные не пренебрегали задержаться на пару тройку часов после пар на \"кружок по интересам\". Однако с этим согласились не все. В ту ночь Нью-Йорк cловно стал гигантской декорацией для голливудского блокбастера: город встал в многокилометровых пробках, улицы наполнились людьми, не понимающими что делать и куда бежать. Основные источники статьи: Российские врачи не обнаружили в его организме никаких ядов или следов их пребывания. По словам Пателя, грабители переворошили весь дом: одежда и вещи были разбросаны на полу. Однако в прошлом, когда строительство завода только обсуждалось, власти держались в стороне от проекта и не критиковали его. Та рассказывала «внучке», что в 1984 году нашла её на помойке. Так как такие, как были, уже не продаются, пришлось покупать сразу пару — такие требования ПДД и здравого смысла. «Ближневосточный Париж» — так некогда называли столицу Ливана Бейрут. Июля 11 дня 1902 Ольга Иванова Быть может, не каждому читателю будет интересен взгляд на тему со столь давних времён, но мне кажется важным упомянуть даже самые древние события. - В зубах у кота. Государство и религия борется с ними, но спрос на профессиональную скорбь веками оставался высоким. Основные источники статьи: Моё знакомство с посткроссингом случилось летом перед седьмым классом. Основные сомнения в справедливости процесса вызывают его процессуальная сторона, доказательная база и нестыковки обвинения. Лишь нескольким подопытным удалось сбежать. Для меня «Республика» неотъемлемо связана с лучшими студенческими годами. В некоторых областных центрах сложились крепкие комедийные сообщества, даже несмотря на отсутствие собственных помещений. Казачьи части расстреливали плывущих из пулемётов. Пища, которую дают в тюрьме, с трудом тянет на оценку 3 из 100. Через несколько дней после ввода 1 компонента прививки , вечером я заметил распухание нижней части губы, т.е. начался аллергический отек. Рождённый в 1852 году Ямамото Гомбэй, успел повоевать против сёгуната в 1868-1869 годах (ему было 16-17 лет) и стать продолжателем дела младшего брата самого Сайго Такамори (великого военачальника) — Сайго Цугумити, который возглавлял флот Японии. Обычно я плохо сплю перед основным днем голосования. Кроме того, за последние 60 лет в попытке покорить гору погибли около 300 человек. Sr1 стали первыми электровозами на железных дорогах Финляндии и имели скорость до 140 км/ч (в дальнейшем, у модернизированных электровозов скорость повышена до 160 км/ч). Так или иначе, теперь Джонс может запоздало получить то, что ему причитается, — но что именно, пока непонятно. Наиболее известными войсками в Европе, например, были швейцарские наёмные войска и немецкие ландскнехты.  Вонг рассказал, что в момент ложного предупреждения находился на конференции в отеле на острове Кауаи. Сказано-сделано. Неизвестно, во что был одет младенец. Или много. Несколько сезонов подряд этот проект снимался в здании бывшего магазина на Петровско-Разумовской. В нём показываете результаты (с приложения Nike или Strava, либо то, каким вы обычно пользуетесь) за неделю, фотографию и описание вашей пробежки. TJ поговорил с создателем YouTube-канала об искусстве с позиции обывателя «Арт-Бланш» Кириллом Рубштейном, который анализирует смысл многих работ и направлений современного искусства. На нашем Истфаке учились и иностранцы. Добавлены новые солнечные батареи. Помимо этого кренделя сверху, был сосед на пару квартир вниз, который постоянно лупил свою дочь и орал бухой в квартире. При жизни можно написать хоть 10 штук и менять каждый день по настроению. Из неё выскакивают два брата акробата. Пользователь Твиттера Павел Комаровский вспомнил, как это произошло и при чём тут чиновники. Это произошло спустя всего лишь три месяца после того, как семья перебралась в дикую местность. И не особо вчитываясь в ТЗ, предложил свою кандидатуру. В некоторых клипах Помпи в одежде, которую я бы тоже называл африканской: Журналисты организовали им встречу. В этой связи интересно вспомнить, какие акценты делались в речах 2000-х годов, и насколько они были более миролюбивыми. В случае с Honor, компания вывезла на презентацию только из России несколько десятков человек, включая крупных техноблогеров вроде Максима Хорошева из Rozetked или Эльдара Муртазина. Родители ругаются, грозят друг другу разводом, жизнь нестабильная, а ребёнок всё это видит и становится тревожным.  По его словам, это не было секретной миссией, он просто хотел увидеть своими глазами страну, входившую в его поле деятельности. Попробую рассказать вам обо всем самом интересном, что можно найти на моих тридцати пяти квадратных метрах. Незадолго до смерти она предстала перед судом: Хаитт обвинила близкого друга и режиссёра в изнасиловании, а также рассказала, что больше года наблюдается у психиатра. Разрешалось только писать конспекты с процессов, которые позже переписывались в огромную книгу архива суда. В феврале 2018 года он задумался о получении дополнительного дохода и загрузил кадр на стоковый сервис Shutterstock. Напишите лонгрид по мотивам прочитанного. Если нет настроения читать простыню или хочется сразу приступить к разгромной критике, то в конце есть резюме. В интервью изданию Vanity Fair Харбор упоминал, что с детства мечтал отправиться в дальнее путешествие, но никогда не мог найти время. Они не могут сойтись с властями в едином мнении, с какой болезнью они столкнулись. 2. «Это произошло много лет назад. Что бы он радовал взгляд туристов и соседей.Кому он помешал, среди уже построенных вокруг домов, не понятно. В декабре 2001 года жители Северной Дакоты могли открыть утреннюю газету и увидеть там небольшую заметку в разделе «Странные новости» с заголовком «Культовый фильм спровоцировал охоту за большим состоянием». В 1901 года Гермоген хиротонисан в епископа и вскоре отправлен в Саратов, в епархию. Несколько часов поиска не дали никаких результатов — трое смотрителей исчезли, оставив после себя не заправленные кровати, закрытые двери и брошенные водонепроницаемые плащи. Ансамблем. У меня было довольно строгое воспитание, отчим — бывший военный. Различные общественные организации обещали им помощь, но одна из них нанесла непоправимый ущерб протесту до того, как он вылился во что-то влиятельное. Археологические экспедиции часто натыкаются на следы употребления алкоголя в быту. Конечно, хозяин замка – никакой не сумасшедший, а вот жены действительно не стало. Можно добавлять свои mp3-треки, настраивать плейлисты и эквалайзер. После этого я попытался выйти хотя бы с кем-нибудь на контакт. Национализм ничего не предлагает. Карантин затянулся, люди остаются на борту, эвакуированные оказываются заражёнными, а на судне поднимается тревога, которую пытается успокоить капитан. Потом я открыл для себя работы Дайдо Мориямы и понял, что хорошей фотографии не нужно быть резкой. Чернокожие американцы могли служить в армии и вести свой бизнес, хотя всё ещё не могли пользоваться одним туалетом с белыми. «Нам советовали подходить к Дому культуры с опаской — показать руки, поставить медикаменты на асфальт», — рассказал Сергей Дедух, корреспондент НТВ. У всех дружеские отношения, желание брать от жизни лучшее, какие-то проблемы и поиски себя» — так вы обозначали сюжет, когда комикс, как я понимаю, только зарождался. Джеймс Джойс – уроженец Дублина и выходец из многодетной семьи, ещё в детские годы прослыл способным и талантливым ребёнком. Она присоединилась к террористической группировке ИГИЛ, вышла замуж за боевика и родила трёх детей, которые впоследствии умерли от голода и болезней. Детство мамы в Чечне (тогда Чечено-Ингушская АССР) прошло спокойно. Мне очень интересно посмотреть на жизнь маленького общества, на то, как можно создавать больше, используя меньше ресурсов. Датой создания Унженского лагеря принято считать 5 февраля 1938 года. Многие выпивали пиво и заказывали закуски, хотя последнего в какой-то момент стало недостаточно для всех желающих. Белье — синяя в белую полоску армейская пижама со звездой и надписью «Армия России». «Описала всё то, что вычитала в книгах, либо изучала в университете. Всё это ради возможности задокументировать, как завещание своего тела науке помогает прогрессу. Со временем «эфир» закрылся, но интерес к явлению не пропал. Это не та самая секта. Несмотря на усилия американской разведки, представление о новом советском автомате у США было весьма условное. По просьбам пользователей мы не указываем их имена, а в некоторых случаях — даже название учреждений, чтобы не навредить отправителям. TJ нашёл человека, который на условиях полной анонимности рассказал, как в обход правил допуска водителей устроился в «Яндекс.Такси». Сформировалась она на основе трёх разных элементов — судебного поединка, рыцарских турниров и рыцарской же, дуэли. Перед глазами она видела все сообщения, над которыми она сидела бессонными ночами на протяжении пяти лет. За пару минут до нападения отец погибшей попытался предупредить её об опасности, но она не услышала его. Браун рассказал, что у обеих женщин были тёмные волосы, похожий цвет кожи и они обе говорили по-русски. Неизвестные пользователи открыли для них кампанию по сбору средств на встречу на GoFundMe. До конца 80-х годов я работал штамповщиком на Рязанском комбайновом заводе. Но на деле репрессии затронули тысячи ни в чём невиновных людей, а методы, которыми они совершались, до сих пор вызывают вопросы о психическом здоровье царя. Место пользуется спросом среди туристов благодаря пляжам и животному миру — дельфинам и тюленям. Я рос необременённый религией и достаточно отстранённым от криминального треша, что охватил в те годы страну. Актёр из России не стал открывателем спорного сравнения. Вместо трёх недель он провёл около разрушенного реактора четыре месяца, из-за чего получил умеренно тяжёлую дозу радиации — 100 бэр. В Восточной Германии для поддержания и укрепления режима с 1950 года действовала тайная полиция под руководством Министерства государственной безопасности ГДР – Штази. К концу игры стычки переросли в полноценные погромы. Работу этого мобильного пункта обеспечивает благотворительный фонд «Гуманитарное действие». О сообщении напомнил отец, рассказавший, что он получил письмо от некого «Г. Дюбуа» (G. Dubois), нашедшего бутылку на атлантическом побережье Франции. Тогда Меган заболела, но простудой дело не ограничилось — в школе она почувствовала сильную усталость, вялость и «затуманенность разума». Отец в то время получил работу на Чернобыльской станции. Под контролем МВФ Сеул провёл либерализацию экономики и создал конкурентный внутренний рынок. Вставляю в него SIM-карту и вижу на дисплее окошко «Необходима активация», что меня немного смутило.Думаю, ну ладно, давно новые телефоны не включал, может так и надо.  Российские власти считают, что во время штурма силовики действовали законно и не несут ответственности за огромное число жертв. Они проводят ритуалы, надрезая кожу на теле, похищают людей или в особых случаях идут на убийства, веря, что магия поможет заработать больше денег на жертвах. И теперь пассажиры пытаются бороться с проблемами и скоротать время до освобождения. Умник руководствуется здравым смыслом и полагается на логику. Деньги перевели одному из местных жителей, который передал их в школу. Даже члены одной семьи могли быть в разных концессиях и это в жизни проблем не создавало (так было вплоть до принятия ислама в 10 веке). Команда из восьми молодых женщин защищает земли Масаи с 2017 года. Мне тогда это показалось очень неестественным: как будто город не имел своего укромного места, куда нужно доехать, а располагался вот так бесхитростно прямо вдоль шоссе. В течение 50 лет в немецком коллективе неоднократно менялись участники и стиль. В 1848 году он предположил, что врачи, часто посещающие роды сразу после вскрытия, передавали «трупные частицы» пациенткам. Самое крупное сообщество во «ВКонтакте» в поддержку Северной Кореи называется «Группа солидарности с КНДР» и насчитывает больше 15 тысяч участников. Комический эффект создавался за счёт абсурда, а также трюков, ударов и падений — явных отсылок к американским комедиям 1920-х годов. По данным международной организации DEBRA (помогает людям с буллёзным эпидермолизом), в мире на 100 тысяч человек приходится один больной буллёзным эпидермолизом, поэтому в России должно быть не менее полутора тысяч больных, в то время как фактически зарегистрировано меньше 300 человек. Вернулся в Беларусь и устроился на завод, слесарем-автомехаником. TJ пообщался с представителями ЛГБТ в России, чтобы узнать, как они решились на каминг-аут, и что изменилось в их жизни после этого. Итогом политики Цыси стало падение империи и провозглашение республики, а впоследствии — приход к власти коммунистов. Думаю, во всём виноват Голливуд. В марте 1990 года Литва стала первой страной, объявившей о выходе из СССР. Я помню этих людей и помню как плакал, так как это была не она. В это же время в стране активно совершенствовалась отрасль ядерной энергетики, которая дала мощный толчок развитию арктической транспортной системы. Такие конфигурации стоят в среднем на 3-5 тыс.руб дороже, но желания продавать долго нет. Чжан упорно держится в тени, пока его компания, лавируя между репутационными скандалами и китайской цензурой, уверенно завоёвывает международный рынок через TikTok и другие проекты. Внутри поезда — зона повышенного давления, самолетная технология. Вдобавок мимо него не проходит ни один торговый путь. Тогда на полки советских книжных и библиотек легли первые 100 тысяч экземпляров «Хранителей» — так филологи Владимир Муравьев и Андрей Кистяковский перевели название первого тома The Fellowship of the Ring. Очень хорошо помню картинку: идём по реке, встаём на стоянку, я подхожу к реке взять воду для костра и вижу нефтяные пятна. Лига чемпионов и национальные чемпионаты по футболу прерваны досрочно, и на данный момент неизвестно, возобновятся ли эти турниры. 1999 год, Амадео только что добрался на каноэ до небольшого лагеря, где умирает его брат Хуан. В первой группе столкнулись команды Барбадоса, Гренады и Пуэрто-Рико. Историю Лин рассказало издание BreakerMag. Для продолжения движения было необходимо укрепить в этом месте почву и соорудить мост. Родезией фактически управляло белое меньшинство населения, что шло вразрез с политическими трендами послевоенного мира: антиколониализмом, верой в равенство рас и грандиозный потенциал стран «третьего мира».  Благодаря действиям Моррисона в стране удалось предотвратить массовые вспышки коронавируса и сохранить частный бизнес при помощи госинвестиций. Coca-Cola и PepsiCo всегда конкурировали за потребительские рынки в разных странах. В 19 веке, когда американское государство завершило своё становление, интенсивно развивалось железнодорожное сообщение — связи между людьми расширялись, нация придумывала собственный топос. Жаль что не «миллионами», как описывают, но всё же. Примерно так я рассуждал, прежде, чем поток моих мыслей прервал звонок жены, которая уже несколько дней лежала в роддоме: «Кажется, началось».'"
      ]
     },
     "execution_count": 88,
     "metadata": {},
     "output_type": "execute_result"
    }
   ],
   "source": [
    "\n",
    "sample = new_data.loc[5]\n",
    "#sample = re.split(\"\\. |\\.\\.\\. \", sample)\n",
    "sample"
   ]
  },
  {
   "cell_type": "code",
   "execution_count": 89,
   "metadata": {
    "id": "8rtvztcUd5Qd"
   },
   "outputs": [],
   "source": [
    "topics  = vec.transform([sample])\n",
    "topics = lda.transform(topics)"
   ]
  },
  {
   "cell_type": "code",
   "execution_count": 90,
   "metadata": {
    "id": "pMkQAZPtcn-0"
   },
   "outputs": [
    {
     "data": {
      "text/plain": [
       "array([[0.01666667, 0.01666667, 0.01666667, ..., 0.01666667, 0.01666667,\n",
       "        0.01666667],\n",
       "       [0.01666667, 0.01666667, 0.01666667, ..., 0.01666667, 0.01666667,\n",
       "        0.01666667],\n",
       "       [0.01666667, 0.01666667, 0.01666667, ..., 0.01666667, 0.01666667,\n",
       "        0.01666667],\n",
       "       ...,\n",
       "       [0.01666667, 0.01666667, 0.01666667, ..., 0.01666667, 0.01666667,\n",
       "        0.01666667],\n",
       "       [0.01666667, 0.01666667, 0.01666667, ..., 3.01666667, 0.01666667,\n",
       "        0.01666667],\n",
       "       [0.01666667, 0.01666667, 0.01666667, ..., 0.01666667, 0.01666667,\n",
       "        0.01666667]])"
      ]
     },
     "execution_count": 90,
     "metadata": {},
     "output_type": "execute_result"
    }
   ],
   "source": [
    "lda.components_"
   ]
  },
  {
   "cell_type": "code",
   "execution_count": 91,
   "metadata": {},
   "outputs": [
    {
     "data": {
      "text/plain": [
       "array([[1.13026762e-02, 7.05578997e-03, 5.64932021e-03, 1.43118742e-03,\n",
       "        4.24913722e-03, 3.75980360e-02, 4.29404059e-03, 1.83782743e-02,\n",
       "        3.47206758e-02, 1.14761503e-02, 4.47977234e-03, 1.65008398e-02,\n",
       "        3.03555357e-02, 1.30527878e-02, 1.27374451e-02, 1.41194081e-02,\n",
       "        8.55300668e-02, 7.11812883e-03, 1.83363912e-02, 1.54946085e-02,\n",
       "        5.75371109e-03, 1.70137874e-02, 2.03707483e-02, 1.56092347e-02,\n",
       "        4.89287111e-02, 1.41184778e-02, 5.67667914e-03, 2.26493644e-02,\n",
       "        1.56092771e-02, 4.95986565e-02, 5.64932021e-03, 1.26986983e-02,\n",
       "        7.05578997e-03, 1.12240091e-02, 2.25269573e-02, 3.20414252e-02,\n",
       "        1.42991092e-03, 4.26544175e-03, 7.09818761e-03, 2.32006194e-02,\n",
       "        5.66294251e-03, 2.71519239e-02, 1.57534394e-02, 8.55445091e-03,\n",
       "        9.97602397e-03, 1.43745570e-03, 1.83406082e-02, 1.16679764e-02,\n",
       "        2.39884565e-02, 3.54272949e-02, 1.26894054e-02, 4.98672785e-02,\n",
       "        1.55645639e-02, 2.34411627e-05, 2.34787372e-02, 1.42991092e-03,\n",
       "        1.70485809e-02, 7.11283311e-03, 7.05578997e-03, 1.13696068e-02]])"
      ]
     },
     "execution_count": 91,
     "metadata": {},
     "output_type": "execute_result"
    }
   ],
   "source": [
    "topics"
   ]
  },
  {
   "cell_type": "code",
   "execution_count": 92,
   "metadata": {},
   "outputs": [],
   "source": [
    "n_topics = 3\n",
    "n_keywords = 5"
   ]
  },
  {
   "cell_type": "code",
   "execution_count": 93,
   "metadata": {
    "id": "kJwlUUYoX0ep"
   },
   "outputs": [],
   "source": [
    "topics = np.squeeze(topics, axis=0)\n",
    "topics_indices = topics.argsort()[-n_topics:][::-1]"
   ]
  },
  {
   "cell_type": "code",
   "execution_count": 94,
   "metadata": {},
   "outputs": [
    {
     "data": {
      "text/plain": [
       "array([16, 51, 29], dtype=int64)"
      ]
     },
     "execution_count": 94,
     "metadata": {},
     "output_type": "execute_result"
    }
   ],
   "source": [
    "topics_indices"
   ]
  },
  {
   "cell_type": "code",
   "execution_count": 95,
   "metadata": {
    "id": "nQJdvWqkcPS6"
   },
   "outputs": [],
   "source": [
    "top_topics_words_dists = []\n",
    "for i in topics_indices:\n",
    "  top_topics_words_dists.append(lda.components_[i]) # components - показывает как часто слово i участвовало в предложении j "
   ]
  },
  {
   "cell_type": "code",
   "execution_count": 96,
   "metadata": {
    "id": "LiNYOTZmdGea"
   },
   "outputs": [],
   "source": [
    "keywords = np.zeros(shape=(n_keywords*n_topics, lda.components_.shape[1]))"
   ]
  },
  {
   "cell_type": "code",
   "execution_count": 97,
   "metadata": {
    "id": "mITZLHljdhsK"
   },
   "outputs": [],
   "source": [
    "for i,topic in enumerate(top_topics_words_dists):  # Выделим ключевые слова для каждой темы\n",
    "  n_keywords_indices = topic.argsort()[-n_keywords:][::-1]\n",
    "  for k,j in enumerate(n_keywords_indices):\n",
    "    keywords[i * n_keywords + k, j] = 1\n",
    "keywords = vec.inverse_transform(keywords)\n",
    "keywords = [keyword[0] if len(keyword)!= 0 else 0 for keyword in keywords]"
   ]
  },
  {
   "cell_type": "code",
   "execution_count": 98,
   "metadata": {
    "id": "T82KI6qmeqFb"
   },
   "outputs": [
    {
     "name": "stdout",
     "output_type": "stream",
     "text": [
      "topic 0:  лет имел мог век номер  \n",
      "topic 1:  проект tj жертв пол союз  \n",
      "topic 2:  месяц times the готов курс  \n"
     ]
    }
   ],
   "source": [
    "for topic in range(n_topics):\n",
    "    print('topic ' + str(topic)  + ': ', end = ' ' )\n",
    "    for key in keywords[topic * n_keywords:n_keywords*(topic  + 1)]:\n",
    "        print(key, end = ' ')\n",
    "    print(' ')"
   ]
  },
  {
   "cell_type": "markdown",
   "metadata": {},
   "source": [
    "Таким образом алгоритм разделил текст на 3 темы с определенными ключевыми словами\n",
    "\n",
    "Видно, что тут присутствуют слова с иностранными символами(чтобы это избежать необходимо изменить токенизатор, но к сожалению у меня не хватило на все времени)"
   ]
  },
  {
   "cell_type": "markdown",
   "metadata": {},
   "source": [
    "# Кластеринг\n"
   ]
  },
  {
   "cell_type": "markdown",
   "metadata": {},
   "source": [
    "Хотя это не является фактически решением поставленной задачи, но посмотреть наглядно на то, как алгоритм разделяет тематически тексты не помешает "
   ]
  },
  {
   "cell_type": "code",
   "execution_count": 109,
   "metadata": {},
   "outputs": [],
   "source": [
    "from nltk.tokenize import TweetTokenizer"
   ]
  },
  {
   "cell_type": "code",
   "execution_count": 117,
   "metadata": {},
   "outputs": [],
   "source": [
    "def tokenize_and_stem(text):\n",
    "\n",
    "    tokens = [word for sent in nltk.sent_tokenize(text) for word in nltk.word_tokenize(sent)]\n",
    "    filtered_tokens = []\n",
    "\n",
    "    for token in tokens:\n",
    "        if re.search('[а-яА-Я]', token):\n",
    "            filtered_tokens.append(token)\n",
    "    stems = [stemmer.stem(t) for t in filtered_tokens]\n",
    "    return stems"
   ]
  },
  {
   "cell_type": "code",
   "execution_count": 118,
   "metadata": {},
   "outputs": [
    {
     "name": "stderr",
     "output_type": "stream",
     "text": [
      "C:\\ProgramData\\Anaconda3\\lib\\site-packages\\sklearn\\feature_extraction\\text.py:388: UserWarning: Your stop_words may be inconsistent with your preprocessing. Tokenizing the stop words generated tokens ['бол', 'больш', 'будт', 'быт', 'вед', 'впроч', 'всег', 'всегд', 'даж', 'друг', 'е', 'ег', 'ем', 'есл', 'ест', 'ещ', 'зач', 'зде', 'ил', 'иногд', 'когд', 'конечн', 'куд', 'лучш', 'межд', 'мен', 'мног', 'мо', 'можн', 'нег', 'нельз', 'нибуд', 'никогд', 'нич', 'опя', 'посл', 'пот', 'почт', 'разв', 'сво', 'себ', 'совс', 'теб', 'тепер', 'тог', 'тогд', 'тож', 'тольк', 'хорош', 'хот', 'чег', 'чут', 'эт'] not in stop_words.\n",
      "  warnings.warn('Your stop_words may be inconsistent with '\n"
     ]
    },
    {
     "name": "stdout",
     "output_type": "stream",
     "text": [
      "(701, 683)\n"
     ]
    }
   ],
   "source": [
    "tfidf_vectorizer = TfidfVectorizer(max_df=0.8, max_features=200000,\n",
    "                                 min_df=0.2, stop_words=stop_words,\n",
    "                                 use_idf=True, tokenizer=tokenize_and_stem, ngram_range=(1,3))\n",
    "tfidf_matrix = tfidf_vectorizer.fit_transform(new_data)\n",
    "\n",
    "print(tfidf_matrix.shape)"
   ]
  },
  {
   "cell_type": "code",
   "execution_count": 119,
   "metadata": {},
   "outputs": [
    {
     "data": {
      "text/plain": [
       "array(['август', 'автор', 'актер', 'активн', 'александр', 'америк',\n",
       "       'американск', 'американц', 'апрел', 'арм', 'безопасн', 'бел',\n",
       "       'бизнес', 'благодар', 'близк', 'бо', 'бол', 'болезн', 'больниц',\n",
       "       'больш', 'большинств', 'борьб', 'брат', 'буд', 'будут', 'будущ',\n",
       "       'быва', 'бывш', 'быстр', 'быт', 'важн', 'ваш', 'ве', 'вед', 'век',\n",
       "       'велик', 'вер', 'вернул', 'вернут', 'верс', 'вечер', 'вещ',\n",
       "       'взгляд', 'взял', 'взят', 'вид', 'видел', 'вин', 'власт', 'вмест',\n",
       "       'вниман', 'внутр', 'вод', 'воен', 'возможн', 'возраст', 'войн',\n",
       "       'войск', 'вокруг', 'вообщ', 'вопрос', 'вперв', 'враг', 'врач',\n",
       "       'врем', 'времен', 'врод', 'всег', 'всегд', 'всем', 'вспомина',\n",
       "       'встрет', 'встреч', 'встреча', 'вступ', 'вступ рассказа',\n",
       "       'вступ рассказа эт', 'втор', 'выбор', 'вызва', 'высок', 'выступа',\n",
       "       'выход', 'вышл', 'герман', 'геро', 'глав', 'главн', 'глаз',\n",
       "       'говор', 'год', 'голов', 'голос', 'город', 'государств',\n",
       "       'государствен', 'готов', 'гражданск', 'границ', 'групп', 'дава',\n",
       "       'давн', 'даж', 'дал', 'далек', 'дальш', 'дан', 'две', 'движен',\n",
       "       'двух', 'девушк', 'действ', 'действительн', 'декабр', 'дел',\n",
       "       'дела', 'ден', 'денег', 'деньг', 'дет', 'детск', 'деятельн', 'дне',\n",
       "       'дня', 'доб', 'довольн', 'договор', 'документ', 'долг', 'долж',\n",
       "       'должн', 'доллар', 'дом', 'дорог', 'достаточн', 'друг',\n",
       "       'друг друг', 'друз', 'дума', 'е', 'европ', 'ег', 'ед', 'единствен',\n",
       "       'ем', 'есенин', 'есл', 'ест', 'ещ', 'желан', 'жен', 'женщин',\n",
       "       'жертв', 'жив', 'животн', 'жизн', 'жил', 'жит', 'жител',\n",
       "       'журналист', 'задач', 'заключен', 'закон', 'законч', 'занима',\n",
       "       'западн', 'запрет', 'зарплат', 'зат', 'заяв', 'здан', 'зде',\n",
       "       'здоров', 'земл', 'зна', 'знает', 'знаком', 'знал', 'зрител',\n",
       "       'игр', 'игра', 'ид', 'из-з', 'известн', 'измен', 'ил', 'имеет',\n",
       "       'имел', 'имен', 'ин', 'иногд', 'интерв', 'интерес', 'интересн',\n",
       "       'интернет', 'информац', 'искусств', 'использова', 'исследован',\n",
       "       'истор', 'источник', 'итог', 'июн', 'кажд', 'кажет', 'казн',\n",
       "       'как-т', 'какие-т', 'какой-т', 'картин', 'качеств', 'квартир',\n",
       "       'кин', 'класс', 'клуб', 'книг', 'ко', 'когд', 'количеств',\n",
       "       'коллег', 'команд', 'комнат', 'компан', 'конечн', 'конфликт',\n",
       "       'конц', 'котор', 'красн', 'кров', 'кром', 'крупн', 'кто-т', 'куд',\n",
       "       'культур', 'куп', 'курс', 'лагер', 'легк', 'лет', 'лиг',\n",
       "       'лиг автор', 'лидер', 'лиц', 'личн', 'лиш', 'лучш', 'люб', 'люд',\n",
       "       'люд котор', 'ма', 'магазин', 'мал', 'маленьк', 'мальчик', 'мам',\n",
       "       'март', 'массов', 'материал', 'машин', 'межд', 'международн',\n",
       "       'мен', 'меньш', 'мер', 'мероприят', 'мест', 'местн', 'месяц',\n",
       "       'метр', 'миллион', 'минут', 'мир', 'миров', 'мнен', 'мног', 'мо',\n",
       "       'мог', 'могл', 'могут', 'модел', 'можн', 'молод', 'момент',\n",
       "       'москв', 'московск', 'мужчин', 'музык', 'мысл', 'назад', 'назва',\n",
       "       'назван', 'называ', 'найт', 'нам', 'написа', 'например', 'народ',\n",
       "       'населен', 'настоя', 'наход', 'национальн', 'нача', 'начал',\n",
       "       'начина', 'наш', 'нашл', 'небольш', 'невозможн', 'нег', 'недел',\n",
       "       'неизвестн', 'некотор', 'нельз', 'нем', 'немецк', 'немн',\n",
       "       'необходим', 'нескольк', 'несмотр', 'ник', 'никак', 'никогд',\n",
       "       'никт', 'нич', 'нов', 'нормальн', 'нос', 'ноч', 'нрав', 'нужн',\n",
       "       'област', 'образ', 'образован', 'обрат', 'общ', 'обща', 'обществ',\n",
       "       'обществен', 'объясн', 'обычн', 'огромн', 'одн', 'однак', 'оказа',\n",
       "       'оказыва', 'окол', 'октябр', 'операц', 'определен', 'организац',\n",
       "       'оруж', 'основн', 'особ', 'особен', 'оста', 'остав', 'остава',\n",
       "       'остальн', 'ответ', 'отвеча', 'отдельн', 'отец', 'отказа', 'откр',\n",
       "       'открыт', 'относ', 'отношен', 'отправ', 'отсутств', 'официальн',\n",
       "       'очен', 'очеред', 'пар', 'парт', 'перв', 'перевод', 'переда',\n",
       "       'период', 'писа', 'письм', 'план', 'плат', 'плох', 'побед',\n",
       "       'повод', 'поддержива', 'поддержк', 'подобн', 'подход', 'позвол',\n",
       "       'позволя', 'позж', 'поиск', 'пок', 'показа', 'показыва', 'пол',\n",
       "       'политик', 'политическ', 'полиц', 'полицейск', 'полн', 'полност',\n",
       "       'получ', 'получа', 'помим', 'помн', 'помога', 'помощ', 'понима',\n",
       "       'поня', 'попа', 'попрос', 'популярн', 'попытк', 'пор', 'порядк',\n",
       "       'посл', 'посл эт', 'последн', 'постав', 'постоя', 'пот', 'потеря',\n",
       "       'похож', 'поч', 'почт', 'поэт', 'появ', 'появля', 'прав', 'правд',\n",
       "       'правильн', 'правительств', 'практическ', 'предлага', 'предлож',\n",
       "       'председател', 'представител', 'представля', 'президент', 'привел',\n",
       "       'приговор', 'призна', 'пример', 'примерн', 'принима', 'принцип',\n",
       "       'приня', 'приход', 'причин', 'пришл', 'пробл', 'проблем', 'провел',\n",
       "       'провод', 'программ', 'продаж', 'продолж', 'продолжа', 'продукт',\n",
       "       'проект', 'производств', 'происход', 'прос', 'прост', 'прот',\n",
       "       'проход', 'процесс', 'прошл', 'прям', 'пуст', 'пут', 'пыта', 'пят',\n",
       "       'работ', 'работа', 'работа туд', 'работа туд вступ', 'рабоч',\n",
       "       'равн', 'рад', 'развит', 'разговор', 'разн', 'район', 'ран',\n",
       "       'раньш', 'рассказа', 'рассказа эт', 'рассказа эт материал',\n",
       "       'рассказыва', 'реальн', 'ребенк', 'регион', 'регулярн', 'редк',\n",
       "       'режиссер', 'результат', 'республик', 'реч', 'реш', 'решен', 'род',\n",
       "       'родител', 'рол', 'росс', 'российск', 'рубл', 'рук', 'руководств',\n",
       "       'русск', 'ряд', 'сайт', 'самолет', 'сво', 'свобод', 'свободн',\n",
       "       'связ', 'связа', 'сдела', 'себ', 'сегодн', 'сем', 'сентябр',\n",
       "       'серг', 'серьезн', 'сил', 'сильн', 'систем', 'ситуац', 'сих',\n",
       "       'сих пор', 'сказа', 'скольк', 'скор', 'след', 'слишк', 'слов',\n",
       "       'сложн', 'служб', 'случ', 'случа', 'смен', 'смерт', 'сми', 'смотр',\n",
       "       'смысл', 'снача', 'снима', 'снов', 'соб', 'собира', 'собра',\n",
       "       'собствен', 'событ', 'совершен', 'совет', 'советск', 'современ',\n",
       "       'совс', 'соглас', 'созда', 'созда участник', 'созда участник лиг',\n",
       "       'создан', 'солдат', 'сосед', 'состоян', 'сотрудник', 'социальн',\n",
       "       'союз', 'специалист', 'специальн', 'способ', 'спрос', 'спуст',\n",
       "       'сраз', 'сред', 'средн', 'средств', 'срок', 'ссср', 'став', 'стал',\n",
       "       'станов', 'стар', 'стара', 'стат', 'стат созда',\n",
       "       'стат созда участник', 'стен', 'сто', 'сторон', 'стран', 'студент',\n",
       "       'суд', 'существ', 'сцен', 'счет', 'счита', 'сша', 'сын', 'такж',\n",
       "       'те', 'теб', 'текст', 'тел', 'телефон', 'тепер', 'территор', 'тех',\n",
       "       'течен', 'тог', 'тогд', 'тож', 'тольк', 'точк', 'точн', 'трет',\n",
       "       'труд', 'туд', 'туд вступ', 'туд вступ рассказа', 'тысяч', 'тюрьм',\n",
       "       'тяжел', 'уб', 'убийств', 'уда', 'узна', 'улиц', 'университет',\n",
       "       'уровн', 'услов', 'успех', 'утвержда', 'утр', 'уход', 'уч',\n",
       "       'участ', 'участвова', 'участник', 'участник лиг',\n",
       "       'участник лиг автор', 'учен', 'учител', 'феврал', 'фильм', 'фон',\n",
       "       'форм', 'фотограф', 'ход', 'хорош', 'хот', 'хотел', 'хоч', 'хочет',\n",
       "       'цел', 'цен', 'центр', 'час', 'част', 'чащ', 'чег', 'человек',\n",
       "       'черн', 'числ', 'чита', 'член', 'что-т', 'чувств', 'чут', 'шест',\n",
       "       'школ', 'штат', 'эт', 'эт врем', 'эт материал', 'явля', 'язык',\n",
       "       'якоб', 'январ'], dtype='<U20')"
      ]
     },
     "execution_count": 119,
     "metadata": {},
     "output_type": "execute_result"
    }
   ],
   "source": [
    "terms = np.array(tfidf_vectorizer.get_feature_names())\n",
    "terms"
   ]
  },
  {
   "cell_type": "code",
   "execution_count": 120,
   "metadata": {},
   "outputs": [],
   "source": [
    "from sklearn.metrics.pairwise import cosine_similarity\n",
    "dist = 1 - cosine_similarity(tfidf_matrix) # Будем использовать Коэффициент Отиаи как метрику близлости двух текстов"
   ]
  },
  {
   "cell_type": "code",
   "execution_count": 123,
   "metadata": {},
   "outputs": [],
   "source": [
    "# Используем метод ЛОктя бля нахождения оптимального количества кластеров\n",
    "from sklearn.cluster import KMeans"
   ]
  },
  {
   "cell_type": "code",
   "execution_count": 125,
   "metadata": {},
   "outputs": [],
   "source": [
    "import matplotlib.pyplot as plt"
   ]
  },
  {
   "cell_type": "code",
   "execution_count": 150,
   "metadata": {},
   "outputs": [
    {
     "data": {
      "image/png": "[encoded data removed]",
      "text/plain": [
       "<Figure size 432x288 with 1 Axes>"
      ]
     },
     "metadata": {
      "needs_background": "light"
     },
     "output_type": "display_data"
    }
   ],
   "source": [
    "Sum_of_squared_distances = []\n",
    "K = range(2,20)\n",
    "for k in K:\n",
    "    km = KMeans(n_clusters=k, max_iter=200, n_init=10)\n",
    "    km = km.fit(tfidf_matrix)\n",
    "    Sum_of_squared_distances.append(km.inertia_)\n",
    "\n",
    "plt.plot(K, Sum_of_squared_distances, 'bx-')\n",
    "plt.xlabel('k')\n",
    "plt.ylabel('Sum_of_squared_distances')\n",
    "plt.title('Elbow Method For Optimal k')\n",
    "plt.show()"
   ]
  },
  {
   "cell_type": "code",
   "execution_count": 151,
   "metadata": {},
   "outputs": [],
   "source": [
    "# КАК видим график получился не очень примечательный, но отсюда можно выделить ТРИ потенциальных количества кластеров \n",
    "# k = 6, 14, 16"
   ]
  },
  {
   "cell_type": "code",
   "execution_count": 132,
   "metadata": {},
   "outputs": [],
   "source": []
  },
  {
   "cell_type": "code",
   "execution_count": 136,
   "metadata": {},
   "outputs": [],
   "source": [
    "term_doc_matrix = vec.transform(new_data)\n",
    "embeddings = lda.transform(term_doc_matrix) "
   ]
  },
  {
   "cell_type": "code",
   "execution_count": 152,
   "metadata": {},
   "outputs": [],
   "source": [
    "kmeans = KMeans(n_clusters=16)\n",
    "clust_labels = kmeans.fit_predict(embeddings)\n",
    "clust_centers = kmeans.cluster_centers_"
   ]
  },
  {
   "cell_type": "code",
   "execution_count": 153,
   "metadata": {},
   "outputs": [],
   "source": [
    " from sklearn.manifold import TSNE"
   ]
  },
  {
   "cell_type": "code",
   "execution_count": 154,
   "metadata": {},
   "outputs": [],
   "source": [
    "embeddings_to_tsne = np.concatenate((embeddings,clust_centers), axis=0)\n",
    "\n",
    "tSNE =  TSNE(n_components=2, perplexity=15)\n",
    "tsne_embeddings = tSNE.fit_transform(embeddings_to_tsne)\n",
    "tsne_embeddings, centroids_embeddings = np.split(tsne_embeddings, [len(clust_labels)], axis=0)"
   ]
  },
  {
   "cell_type": "code",
   "execution_count": 155,
   "metadata": {},
   "outputs": [],
   "source": [
    "from matplotlib import cm"
   ]
  },
  {
   "cell_type": "code",
   "execution_count": 156,
   "metadata": {},
   "outputs": [],
   "source": [
    "clust_indices = np.unique(clust_labels)\n",
    "\n",
    "clusters = {clust_ind : [] for clust_ind in clust_indices}\n",
    "for emb, label in zip(tsne_embeddings, clust_labels):\n",
    "    clusters[label].append(emb)\n",
    "\n",
    "for key in clusters.keys():\n",
    "    clusters[key] = np.array(clusters[key])\n",
    "colors = cm.rainbow(np.linspace(0, 1, len(clust_indices)))"
   ]
  },
  {
   "cell_type": "code",
   "execution_count": 157,
   "metadata": {},
   "outputs": [
    {
     "data": {
      "image/png": "[encoded data removed]",
      "text/plain": [
       "<Figure size 720x720 with 1 Axes>"
      ]
     },
     "metadata": {
      "needs_background": "light"
     },
     "output_type": "display_data"
    }
   ],
   "source": [
    "plt.figure(figsize=(10,10))\n",
    "for ind, color in zip(clust_indices, colors):\n",
    "    x = clusters[ind][:,0]\n",
    "    y = clusters[ind][:,1]\n",
    "    plt.scatter(x, y, color=color)\n",
    "    \n",
    "    centroid = centroids_embeddings[ind]\n",
    "    plt.scatter(centroid[0],centroid[1], color=color, marker='x', s=100)\n",
    "\n",
    "plt.show()"
   ]
  },
  {
   "cell_type": "markdown",
   "metadata": {},
   "source": [
    "Как видим, модель неплохо разделяет тексты на 16 кластеров, хотя есть некоторые объекты сливающиеся с объектами другого класса, отсюда и появляются такие \"странные\" кластеры"
   ]
  },
  {
   "cell_type": "markdown",
   "metadata": {},
   "source": [
    "# нахождение предложений являющимися началом абзаца, секции"
   ]
  },
  {
   "cell_type": "markdown",
   "metadata": {},
   "source": [
    "Хотя главной задачей является разделение текста на блоки, схожими по тематике, можно попробовать искать предложения являющимися началом секции или абзаца. Очевидно, что такие предложения имеют конкретные предлоги, которые наталкивают нас на то, что они являются началом какого-то блока, таким образом можно выделить их отдельно от остальных \n"
   ]
  },
  {
   "cell_type": "markdown",
   "metadata": {},
   "source": [
    "В наборе данных у нас уже есть разметка таких данных, назовем из классы - всего их 3: \n",
    "1 — первое предложение абзаца\n",
    "\n",
    "2 — первое предложение секции\n",
    "\n",
    "0 — остальные предложения (части абзацев)\n",
    "\n",
    "Нашей задачей является максимально различить два первых класса от последнего "
   ]
  },
  {
   "cell_type": "code",
   "execution_count": 158,
   "metadata": {},
   "outputs": [],
   "source": [
    "# Будем использовать простой  токенизатор, который не убирает пунктуацию и предлоги\n",
    "vec = CountVectorizer(ngram_range=(1, 1), tokenizer=word_tokenize) \n",
    "bow = vec.fit_transform(x_train) \n",
    "bow_test = vec.transform(x_test)\n",
    "\n",
    "scaler = MaxAbsScaler()\n",
    "bow = scaler.fit_transform(bow)\n",
    "bow_test = scaler.transform(bow_test)"
   ]
  },
  {
   "cell_type": "code",
   "execution_count": 162,
   "metadata": {},
   "outputs": [],
   "source": [
    "from sklearn.linear_model import LogisticRegression\n",
    "from sklearn.tree import DecisionTreeClassifier\n",
    "from sklearn.metrics import classification_report"
   ]
  },
  {
   "cell_type": "code",
   "execution_count": 163,
   "metadata": {},
   "outputs": [
    {
     "name": "stdout",
     "output_type": "stream",
     "text": [
      "              precision    recall  f1-score   support\n",
      "\n",
      "           0       0.72      0.85      0.78     23717\n",
      "           1       0.43      0.30      0.35     10089\n",
      "           2       0.24      0.02      0.04      1175\n",
      "\n",
      "    accuracy                           0.66     34981\n",
      "   macro avg       0.46      0.39      0.39     34981\n",
      "weighted avg       0.62      0.66      0.63     34981\n",
      "\n"
     ]
    },
    {
     "name": "stderr",
     "output_type": "stream",
     "text": [
      "C:\\ProgramData\\Anaconda3\\lib\\site-packages\\sklearn\\linear_model\\_logistic.py:763: ConvergenceWarning: lbfgs failed to converge (status=1):\n",
      "STOP: TOTAL NO. of ITERATIONS REACHED LIMIT.\n",
      "\n",
      "Increase the number of iterations (max_iter) or scale the data as shown in:\n",
      "    https://scikit-learn.org/stable/modules/preprocessing.html\n",
      "Please also refer to the documentation for alternative solver options:\n",
      "    https://scikit-learn.org/stable/modules/linear_model.html#logistic-regression\n",
      "  n_iter_i = _check_optimize_result(\n"
     ]
    }
   ],
   "source": [
    "clf = LogisticRegression(max_iter=200, random_state=100)\n",
    "clf.fit(bow, y_train)\n",
    "pred = clf.predict(bow_test)\n",
    "print(classification_report(y_test, pred))"
   ]
  },
  {
   "cell_type": "code",
   "execution_count": 167,
   "metadata": {},
   "outputs": [
    {
     "name": "stdout",
     "output_type": "stream",
     "text": [
      "              precision    recall  f1-score   support\n",
      "\n",
      "           0       0.70      0.96      0.81     23717\n",
      "           1       0.52      0.11      0.19     10089\n",
      "           2       0.73      0.01      0.03      1175\n",
      "\n",
      "    accuracy                           0.69     34981\n",
      "   macro avg       0.65      0.36      0.34     34981\n",
      "weighted avg       0.65      0.69      0.60     34981\n",
      "\n"
     ]
    }
   ],
   "source": [
    "# Теперь попробуем использовать desiciontree\n",
    "clf = DecisionTreeClassifier(max_depth = 12, random_state=100)\n",
    "clf.fit(bow, y_train)\n",
    "pred = clf.predict(bow_test)\n",
    "print(classification_report(y_test, pred))"
   ]
  },
  {
   "cell_type": "markdown",
   "metadata": {},
   "source": [
    "Так как нас больше интересует recall(полнота), показывающая сколько объектов класса она захватила, то будем отталкиваться именно от нее,  а кокретно на показания recall для 1 и 2 класса \n",
    "\n",
    "КАК видим desiciontree более наточен на presicion(точность), в то время как Линейная регресия на полноту, поэтому будем использовать эту модель"
   ]
  },
  {
   "cell_type": "markdown",
   "metadata": {},
   "source": [
    "Теперь посмотрим, что будет если менять униграммы нашего текста:\n"
   ]
  },
  {
   "cell_type": "code",
   "execution_count": 168,
   "metadata": {},
   "outputs": [],
   "source": [
    "vec = CountVectorizer(ngram_range=(2, 2), tokenizer=word_tokenize) \n",
    "bow = vec.fit_transform(x_train) \n",
    "bow_test = vec.transform(x_test)\n",
    "\n",
    "scaler = MaxAbsScaler()\n",
    "bow = scaler.fit_transform(bow)\n",
    "bow_test = scaler.transform(bow_test)"
   ]
  },
  {
   "cell_type": "code",
   "execution_count": 169,
   "metadata": {},
   "outputs": [
    {
     "name": "stdout",
     "output_type": "stream",
     "text": [
      "              precision    recall  f1-score   support\n",
      "\n",
      "           0       0.70      0.93      0.80     23717\n",
      "           1       0.48      0.16      0.24     10089\n",
      "           2       0.71      0.02      0.04      1175\n",
      "\n",
      "    accuracy                           0.68     34981\n",
      "   macro avg       0.63      0.37      0.36     34981\n",
      "weighted avg       0.64      0.68      0.62     34981\n",
      "\n"
     ]
    }
   ],
   "source": [
    "clf = LogisticRegression(max_iter=200, random_state=100)\n",
    "clf.fit(bow, y_train)\n",
    "pred = clf.predict(bow_test)\n",
    "print(classification_report(y_test, pred))"
   ]
  },
  {
   "cell_type": "code",
   "execution_count": 170,
   "metadata": {},
   "outputs": [],
   "source": [
    "vec = CountVectorizer(ngram_range=(3, 3), tokenizer=word_tokenize) \n",
    "bow = vec.fit_transform(x_train) \n",
    "bow_test = vec.transform(x_test)\n",
    "\n",
    "scaler = MaxAbsScaler()\n",
    "bow = scaler.fit_transform(bow)\n",
    "bow_test = scaler.transform(bow_test)"
   ]
  },
  {
   "cell_type": "code",
   "execution_count": 171,
   "metadata": {},
   "outputs": [
    {
     "name": "stdout",
     "output_type": "stream",
     "text": [
      "              precision    recall  f1-score   support\n",
      "\n",
      "           0       0.68      0.99      0.81     23717\n",
      "           1       0.56      0.04      0.08     10089\n",
      "           2       1.00      0.01      0.01      1175\n",
      "\n",
      "    accuracy                           0.68     34981\n",
      "   macro avg       0.75      0.35      0.30     34981\n",
      "weighted avg       0.66      0.68      0.57     34981\n",
      "\n"
     ]
    },
    {
     "name": "stderr",
     "output_type": "stream",
     "text": [
      "C:\\ProgramData\\Anaconda3\\lib\\site-packages\\sklearn\\linear_model\\_logistic.py:763: ConvergenceWarning: lbfgs failed to converge (status=1):\n",
      "STOP: TOTAL NO. of ITERATIONS REACHED LIMIT.\n",
      "\n",
      "Increase the number of iterations (max_iter) or scale the data as shown in:\n",
      "    https://scikit-learn.org/stable/modules/preprocessing.html\n",
      "Please also refer to the documentation for alternative solver options:\n",
      "    https://scikit-learn.org/stable/modules/linear_model.html#logistic-regression\n",
      "  n_iter_i = _check_optimize_result(\n"
     ]
    }
   ],
   "source": [
    "clf = LogisticRegression(max_iter=200, random_state=100)\n",
    "clf.fit(bow, y_train)\n",
    "pred = clf.predict(bow_test)\n",
    "print(classification_report(y_test, pred))"
   ]
  },
  {
   "cell_type": "markdown",
   "metadata": {},
   "source": [
    "Таким образом лучше всего показывает себя Линейная регрессия с униграмами размера 3 "
   ]
  }
 ],
 "metadata": {
  "colab": {
   "provenance": []
  },
  "kernelspec": {
   "display_name": "Python 3",
   "language": "python",
   "name": "python3"
  },
  "language_info": {
   "codemirror_mode": {
    "name": "ipython",
    "version": 3
   },
   "file_extension": ".py",
   "mimetype": "text/x-python",
   "name": "python",
   "nbconvert_exporter": "python",
   "pygments_lexer": "ipython3",
   "version": "3.8.8"
  }
 },
 "nbformat": 4,
 "nbformat_minor": 1
}
